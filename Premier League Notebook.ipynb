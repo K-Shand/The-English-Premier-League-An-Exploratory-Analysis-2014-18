{
 "cells": [
  {
   "cell_type": "markdown",
   "metadata": {},
   "source": [
    "**The Premier League: An Exploratory Analysis & Identifying PFA Player of the Year Award Winners**\n",
    ">Written by: Kieran Shand"
   ]
  },
  {
   "cell_type": "markdown",
   "metadata": {
    "heading_collapsed": true
   },
   "source": [
    "## Table of Contents\n",
    "<a id='con'></a>"
   ]
  },
  {
   "cell_type": "markdown",
   "metadata": {
    "hidden": true
   },
   "source": [
    "1. [Table of Contents](#con) \n",
    "\n",
    "\n",
    "2. [Introduction](#intro)\n",
    "\n",
    "\n",
    "3. [Data Wrangling](#wrang)\n",
    "\n",
    "    3.1 [Gathering Data](#gather)\n",
    "    \n",
    "    3.2 [Assessing Data](#assess)\n",
    "    \n",
    "    3.3 [Cleaning Data](#clean)\n",
    "    \n",
    "    3.4 [Databasing](#databasing)\n",
    "\n",
    "\n",
    "4. [Data Analysis](#analysis)\n",
    "\n",
    "    4.1 [Exploratory Analysis](#exploration)\n",
    "    \n",
    "    4.2 [K-Means Clustering](#k-means)\n",
    "\n",
    "\n",
    "5. [Conclusion](#conclusion)\n",
    "\n",
    "\n",
    "6. [Limitations](#limit)\n",
    "\n",
    "\n",
    "7. [References](#ref)"
   ]
  },
  {
   "cell_type": "markdown",
   "metadata": {
    "heading_collapsed": true
   },
   "source": [
    "## Introduction\n",
    "<a id='intro'></a>"
   ]
  },
  {
   "cell_type": "markdown",
   "metadata": {
    "hidden": true
   },
   "source": [
    "In this report, I will be completing a data wrangling and analysis on the English Premier League (EPL). The Premier League is the top division of football within England, it was initiated in 1992 and the league is competed by 20 teams each season.\n",
    "\n",
    "A heavy part of this report is covered in section 3 where I will be completing a thorough Data Wrangling. Within this section I will gather, assess and clean data from an open-source JSON dataset: [English Premier League in-game match data](https://www.kaggle.com/shubhmamp/english-premier-league-match-data). I selected this dataset because it includes in-game player statistics from all matches as well as team statistics, this is something which I was unable to find in any other EPL dataset. The data covers 4 complete years from 2014-2018 and has been collected entirely from [whoscored.com](https://www.whoscored.com). \n",
    "\n",
    "Additionally, I will be gathering a dataset of all [PFA Players' Player of the Year](https://en.wikipedia.org/wiki/PFA_Players%27_Player_of_the_Year) award winners scraped from Wikipedia. The PFA Players' Player of the Year award is voted by all Premier League players for the best individual during a season. The award is extremely prestigious and highly sought after, which makes for an interesting study. I decided to collect this data to investigate whether award winners share common attributes using K-Means Clustering. Once all data is assessed and cleaned, it will be stored in a relational database with consistent Primary and Foreign Keys to facilitate future table joins. A relational database is a logical way to store this data as there are multiple dataframes collected which share common keys.\n",
    "\n",
    "The later Data Analysis will be split into 2. In section 4.1 I will complete an Exploratory Analysis where I will utilise visualisations to gain a greater understanding of the data. I will look into which teams players have won the PFA Player of the Year award most times; I will explore the correlation between goals scored and ball possession and finally I will look into goals scored home and away. In section 4.2 of the Data Analysis I will utilise K-Means Clustering to create a model which groups Premier League players by attributes. Ultimately, I would like to understand whether PFA Player of the Year winners share attributes and a common cluster. If the award winners share a common cluster, perhaps the model can be used to help predict future winners of the award.\n",
    "\n",
    "Finally, a well documented conclusion will form a summary of the main findings of this report."
   ]
  },
  {
   "cell_type": "markdown",
   "metadata": {
    "heading_collapsed": true
   },
   "source": [
    "## Data Wrangling\n",
    "<a id='wrang'></a>"
   ]
  },
  {
   "cell_type": "markdown",
   "metadata": {
    "heading_collapsed": true,
    "hidden": true
   },
   "source": [
    "### Gathering Data\n",
    "<a id='gather'></a>\n",
    "\n",
    "In this section I will gather and iterate through the open-source JSON dataset to convert it to a Pandas Dataframe. I will subsequently scrape data from Wikipedia to form a Pandas Dataframe. "
   ]
  },
  {
   "cell_type": "markdown",
   "metadata": {
    "hidden": true
   },
   "source": [
    "***Loading Packages***"
   ]
  },
  {
   "cell_type": "code",
   "execution_count": 1,
   "metadata": {
    "ExecuteTime": {
     "end_time": "2020-12-17T12:50:12.053544Z",
     "start_time": "2020-12-17T12:50:04.615169Z"
    },
    "hidden": true
   },
   "outputs": [],
   "source": [
    "import json\n",
    "import os\n",
    "import glob\n",
    "import pandas as pd\n",
    "import numpy as np\n",
    "from zipfile import ZipFile\n",
    "from bs4 import BeautifulSoup\n",
    "import requests\n",
    "import string\n",
    "import sqlite3\n",
    "from sqlalchemy import create_engine\n",
    "from sklearn.cluster import KMeans\n",
    "import matplotlib.pyplot as plt\n",
    "import seaborn as sns\n",
    "import statsmodels.api as sms\n",
    "from collections import OrderedDict\n",
    "\n",
    "%matplotlib inline\n",
    "%load_ext sql"
   ]
  },
  {
   "cell_type": "markdown",
   "metadata": {
    "heading_collapsed": true,
    "hidden": true
   },
   "source": [
    "#### Gathering Data From JSON Dataset"
   ]
  },
  {
   "cell_type": "markdown",
   "metadata": {
    "hidden": true
   },
   "source": [
    "***Changing Directory and Identifying File Paths***"
   ]
  },
  {
   "cell_type": "code",
   "execution_count": 2,
   "metadata": {
    "ExecuteTime": {
     "end_time": "2020-12-17T12:50:12.058498Z",
     "start_time": "2020-12-17T12:50:12.054527Z"
    },
    "hidden": true
   },
   "outputs": [],
   "source": [
    "#Changing working directory to facilitate relative paths\n",
    "os.chdir(r\"    ENTER FILE PATH OF DOWNLOADED KAGGLE DATASET    /datafilev2/datafile/\")"
   ]
  },
  {
   "cell_type": "code",
   "execution_count": 3,
   "metadata": {
    "ExecuteTime": {
     "end_time": "2020-12-17T12:50:12.088977Z",
     "start_time": "2020-12-17T12:50:12.063994Z"
    },
    "hidden": true
   },
   "outputs": [],
   "source": [
    "#Create file paths\n",
    "#(Pawar, 2018)\n",
    "\n",
    "file_paths = glob.glob('**/*.json', recursive=True)\n",
    "\n",
    "match_stats_file_paths = []\n",
    "season_stats_file_paths = []\n",
    "\n",
    "for file in file_paths:\n",
    "    if 'season_match_stats' in file:\n",
    "        match_stats_file_paths.append(file)\n",
    "    else: season_stats_file_paths.append(file)"
   ]
  },
  {
   "cell_type": "markdown",
   "metadata": {
    "hidden": true
   },
   "source": [
    "***Creating File Names***"
   ]
  },
  {
   "cell_type": "code",
   "execution_count": 4,
   "metadata": {
    "ExecuteTime": {
     "end_time": "2020-12-17T12:50:12.094931Z",
     "start_time": "2020-12-17T12:50:12.089942Z"
    },
    "hidden": true
   },
   "outputs": [],
   "source": [
    "match_stats_file_names = []\n",
    "for file in match_stats_file_paths:\n",
    "    x = file.replace('\\\\','_')\n",
    "    x = x.replace('-', '_')\n",
    "    x = x.replace('.json', '')\n",
    "    x = x.replace('season1', 'season_1')\n",
    "    x = x.replace('_season_', '_')\n",
    "    match_stats_file_names.append(x)\n",
    "    \n",
    "season_stats_file_names = []\n",
    "for file in season_stats_file_paths:\n",
    "    x = file.replace('\\\\','_')\n",
    "    x = x.replace('-', '_')\n",
    "    x = x.replace('.json', '')\n",
    "    x = x.replace('season1', 'season_1')\n",
    "    x = x.replace('_season_', '_')\n",
    "    season_stats_file_names.append(x)"
   ]
  },
  {
   "cell_type": "markdown",
   "metadata": {
    "hidden": true
   },
   "source": [
    "***Processing Match Stats JSON data into Dataframe***"
   ]
  },
  {
   "cell_type": "code",
   "execution_count": 5,
   "metadata": {
    "ExecuteTime": {
     "end_time": "2020-12-17T12:50:12.132851Z",
     "start_time": "2020-12-17T12:50:12.096923Z"
    },
    "hidden": true
   },
   "outputs": [],
   "source": [
    "#Load match stats JSON into dataframe\n",
    "for file, name in zip(match_stats_file_paths, match_stats_file_names):\n",
    "    globals()[name] = json.load(open(file, 'r', encoding='utf-8'))\n",
    "    globals()[name] = pd.DataFrame.from_dict(globals()[name], orient='index')"
   ]
  },
  {
   "cell_type": "markdown",
   "metadata": {
    "hidden": true
   },
   "source": [
    "***Processing Season Stats JSON data into Dataframe***"
   ]
  },
  {
   "cell_type": "code",
   "execution_count": 6,
   "metadata": {
    "ExecuteTime": {
     "end_time": "2020-12-17T12:50:12.487904Z",
     "start_time": "2020-12-17T12:50:12.133823Z"
    },
    "hidden": true
   },
   "outputs": [],
   "source": [
    "#Open season stats JSON\n",
    "for file, name in zip(season_stats_file_paths, season_stats_file_names):\n",
    "    globals()[name] = json.load(open(file, 'r', encoding='utf-8'))"
   ]
  },
  {
   "cell_type": "code",
   "execution_count": 7,
   "metadata": {
    "ExecuteTime": {
     "end_time": "2020-12-17T12:50:16.325913Z",
     "start_time": "2020-12-17T12:50:12.489871Z"
    },
    "hidden": true
   },
   "outputs": [],
   "source": [
    "#Load 14/15 season stats into dataframe\n",
    "key = season_14_15_stats.keys()\n",
    "df = pd.DataFrame()\n",
    "\n",
    "for k in key:\n",
    "    \n",
    "    for t_key in season_14_15_stats[k]:\n",
    "        \n",
    "        x = pd.json_normalize(season_14_15_stats[k][t_key]['team_details'])\n",
    "        y = pd.json_normalize(season_14_15_stats[k][t_key]['aggregate_stats'])\n",
    "        z = pd.concat([x, y], axis =1)\n",
    "        df = pd.concat([df, z], sort=False)\n",
    "        \n",
    "season_14_15_stats = df"
   ]
  },
  {
   "cell_type": "code",
   "execution_count": 8,
   "metadata": {
    "ExecuteTime": {
     "end_time": "2020-12-17T12:50:20.657638Z",
     "start_time": "2020-12-17T12:50:16.326876Z"
    },
    "hidden": true
   },
   "outputs": [],
   "source": [
    "#Load 15/16 season stats into dataframe\n",
    "key = season_15_16_stats.keys()\n",
    "df = pd.DataFrame()\n",
    "\n",
    "for k in key:\n",
    "    \n",
    "    for t_key in season_15_16_stats[k]:\n",
    "        \n",
    "        x = pd.json_normalize(season_15_16_stats[k][t_key]['team_details'])\n",
    "        y = pd.json_normalize(season_15_16_stats[k][t_key]['aggregate_stats'])\n",
    "        z = pd.concat([x, y], axis =1)\n",
    "        df = pd.concat([df, z], sort=False)\n",
    "        \n",
    "season_15_16_stats = df"
   ]
  },
  {
   "cell_type": "code",
   "execution_count": 9,
   "metadata": {
    "ExecuteTime": {
     "end_time": "2020-12-17T12:50:25.395481Z",
     "start_time": "2020-12-17T12:50:20.659439Z"
    },
    "hidden": true
   },
   "outputs": [],
   "source": [
    "#Load 16/17 season stats into dataframe\n",
    "key = season_16_17_stats.keys()\n",
    "df = pd.DataFrame()\n",
    "\n",
    "for k in key:\n",
    "    \n",
    "    for t_key in season_16_17_stats[k]:\n",
    "        \n",
    "        x = pd.json_normalize(season_16_17_stats[k][t_key]['team_details'])\n",
    "        y = pd.json_normalize(season_16_17_stats[k][t_key]['aggregate_stats'])\n",
    "        z = pd.concat([x, y], axis =1)\n",
    "        df = pd.concat([df, z], sort=False)\n",
    "        \n",
    "season_16_17_stats = df"
   ]
  },
  {
   "cell_type": "code",
   "execution_count": 10,
   "metadata": {
    "ExecuteTime": {
     "end_time": "2020-12-17T12:50:30.024734Z",
     "start_time": "2020-12-17T12:50:25.397476Z"
    },
    "hidden": true
   },
   "outputs": [],
   "source": [
    "#Load 17/18 season stats into dataframe\n",
    "key = season_17_18_stats.keys()\n",
    "df = pd.DataFrame()\n",
    "\n",
    "for k in key:\n",
    "    \n",
    "    for t_key in season_17_18_stats[k]:\n",
    "        \n",
    "        x = pd.json_normalize(season_17_18_stats[k][t_key]['team_details'])\n",
    "        y = pd.json_normalize(season_17_18_stats[k][t_key]['aggregate_stats'])\n",
    "        z = pd.concat([x, y], axis =1)\n",
    "        df = pd.concat([df, z], sort=False)\n",
    "        \n",
    "season_17_18_stats = df"
   ]
  },
  {
   "cell_type": "markdown",
   "metadata": {
    "hidden": true
   },
   "source": [
    "***Processing Players Stats***"
   ]
  },
  {
   "cell_type": "code",
   "execution_count": 11,
   "metadata": {
    "ExecuteTime": {
     "end_time": "2020-12-17T12:50:30.328429Z",
     "start_time": "2020-12-17T12:50:30.026559Z"
    },
    "hidden": true
   },
   "outputs": [],
   "source": [
    "#Load 14/15 player stats into dataframe\n",
    "#Using OrderedDict while loading because it preserves the order of data in dictionary\n",
    "\n",
    "fp = open('season14-15//season_stats.json', 'rb')\n",
    "data = json.load(fp, object_pairs_hook=OrderedDict)\n",
    "fp.close()\n",
    "\n",
    "# List of dictionaries that will be converted to a Dataframe.\n",
    "player_stats_list = []\n",
    "player_details_list = []\n",
    "\n",
    "for game_key, game in data.items():\n",
    "    \n",
    "    for team_key, team_stats in game.items():       \n",
    "       \n",
    "        for player_name, player in team_stats[\"Player_stats\"].items():\n",
    "            player_stats = {\"player_name\": player_name, \"match_id\": game_key, \"team_id\" : team_key}\n",
    "\n",
    "            for match_stat_type, stat in player[\"Match_stats\"].items():\n",
    "                player_stats[match_stat_type] = stat\n",
    "            \n",
    "            player_stats_list.append(player_stats)            \n",
    "           \n",
    "            for player_detail_type, detail in player[\"player_details\"].items():\n",
    "                player_stats[player_detail_type] = detail\n",
    "            \n",
    "            player_details_list.append(player_stats)\n",
    "            \n",
    "season_14_15_player_stats = pd.DataFrame(player_details_list)"
   ]
  },
  {
   "cell_type": "code",
   "execution_count": 12,
   "metadata": {
    "ExecuteTime": {
     "end_time": "2020-12-17T12:50:30.585713Z",
     "start_time": "2020-12-17T12:50:30.330386Z"
    },
    "hidden": true
   },
   "outputs": [],
   "source": [
    "#Load 15/16 player stats into dataframe\n",
    "#Using OrderedDict while loading because it preserves the order of data in dictionary\n",
    "\n",
    "fp = open('season15-16//season_stats.json', 'rb')\n",
    "data = json.load(fp, object_pairs_hook=OrderedDict)\n",
    "fp.close()\n",
    "\n",
    "# List of dictionaries that will be converted to a Dataframe.\n",
    "player_stats_list = []\n",
    "player_details_list = []\n",
    "\n",
    "for game_key, game in data.items():\n",
    "    \n",
    "    for team_key, team_stats in game.items():       \n",
    "       \n",
    "        for player_name, player in team_stats[\"Player_stats\"].items():\n",
    "            player_stats = {\"player_name\": player_name, \"match_id\": game_key, \"team_id\" : team_key}\n",
    "\n",
    "            for match_stat_type, stat in player[\"Match_stats\"].items():\n",
    "                player_stats[match_stat_type] = stat\n",
    "            \n",
    "            player_stats_list.append(player_stats)            \n",
    "           \n",
    "            for player_detail_type, detail in player[\"player_details\"].items():\n",
    "                player_stats[player_detail_type] = detail\n",
    "            \n",
    "            player_details_list.append(player_stats)\n",
    "            \n",
    "season_15_16_player_stats = pd.DataFrame(player_details_list)"
   ]
  },
  {
   "cell_type": "code",
   "execution_count": 13,
   "metadata": {
    "ExecuteTime": {
     "end_time": "2020-12-17T12:50:30.915821Z",
     "start_time": "2020-12-17T12:50:30.586701Z"
    },
    "hidden": true
   },
   "outputs": [],
   "source": [
    "#Load 16/17 player stats into dataframe\n",
    "#Using OrderedDict while loading because it preserves the order of data in dictionary\n",
    "\n",
    "fp = open('season16-17//season_stats.json', 'rb')\n",
    "data = json.load(fp, object_pairs_hook=OrderedDict)\n",
    "fp.close()\n",
    "\n",
    "# List of dictionaries that will be converted to a Dataframe.\n",
    "player_stats_list = []\n",
    "player_details_list = []\n",
    "\n",
    "for game_key, game in data.items():\n",
    "    \n",
    "    for team_key, team_stats in game.items():       \n",
    "       \n",
    "        for player_name, player in team_stats[\"Player_stats\"].items():\n",
    "            player_stats = {\"player_name\": player_name, \"match_id\": game_key, \"team_id\" : team_key}\n",
    "\n",
    "            for match_stat_type, stat in player[\"Match_stats\"].items():\n",
    "                player_stats[match_stat_type] = stat\n",
    "            \n",
    "            player_stats_list.append(player_stats)            \n",
    "           \n",
    "            for player_detail_type, detail in player[\"player_details\"].items():\n",
    "                player_stats[player_detail_type] = detail\n",
    "            \n",
    "            player_details_list.append(player_stats)\n",
    "            \n",
    "season_16_17_player_stats = pd.DataFrame(player_details_list)"
   ]
  },
  {
   "cell_type": "code",
   "execution_count": 14,
   "metadata": {
    "ExecuteTime": {
     "end_time": "2020-12-17T12:50:31.239324Z",
     "start_time": "2020-12-17T12:50:30.916817Z"
    },
    "hidden": true
   },
   "outputs": [],
   "source": [
    "#Load 17/18 player stats into dataframe\n",
    "#Using OrderedDict while loading because it preserves the order of data in dictionary\n",
    "\n",
    "fp = open('season17-18//season_stats.json', 'rb')\n",
    "data = json.load(fp, object_pairs_hook=OrderedDict)\n",
    "fp.close()\n",
    "\n",
    "# List of dictionaries that will be converted to a Dataframe.\n",
    "player_stats_list = []\n",
    "player_details_list = []\n",
    "\n",
    "for game_key, game in data.items():\n",
    "    \n",
    "    for team_key, team_stats in game.items():       \n",
    "       \n",
    "        for player_name, player in team_stats[\"Player_stats\"].items():\n",
    "            player_stats = {\"player_name\": player_name, \"match_id\": game_key, \"team_id\" : team_key}\n",
    "\n",
    "            for match_stat_type, stat in player[\"Match_stats\"].items():\n",
    "                player_stats[match_stat_type] = stat\n",
    "            \n",
    "            player_stats_list.append(player_stats)            \n",
    "           \n",
    "            for player_detail_type, detail in player[\"player_details\"].items():\n",
    "                player_stats[player_detail_type] = detail\n",
    "            \n",
    "            player_details_list.append(player_stats)\n",
    "            \n",
    "season_17_18_player_stats = pd.DataFrame(player_details_list)"
   ]
  },
  {
   "cell_type": "markdown",
   "metadata": {
    "heading_collapsed": true,
    "hidden": true
   },
   "source": [
    "#### Gathering Data from Wikipedia\n",
    "<a id='gather'></a>"
   ]
  },
  {
   "cell_type": "markdown",
   "metadata": {
    "hidden": true
   },
   "source": [
    "***Collect PFA Player of the Year Wikipedia Page Content***"
   ]
  },
  {
   "cell_type": "code",
   "execution_count": 15,
   "metadata": {
    "ExecuteTime": {
     "end_time": "2020-12-17T12:50:32.105218Z",
     "start_time": "2020-12-17T12:50:31.241156Z"
    },
    "hidden": true
   },
   "outputs": [
    {
     "name": "stdout",
     "output_type": "stream",
     "text": [
      "<!DOCTYPE html>\n",
      "<html class=\"client-nojs\" dir=\"ltr\" lang=\"en\">\n",
      " <head>\n",
      "  <meta charset=\"utf-8\"/>\n",
      "  <title>\n",
      "   PFA Players' Player of the Year - Wikipedia\n",
      "  </title>\n",
      "  <script>\n",
      "   document.documentElement.className=\"client-js\";RLCONF={\"wgBreakFrames\":!1,\"wgSeparatorTransformTable\":[\"\",\"\"],\"wgDigitTransformTable\":[\"\",\"\"],\"wgDefaultDateFormat\":\"dmy\",\"wgMonthNames\":[\"\",\"January\",\"February\",\"March\",\"April\",\"May\",\"June\",\"July\",\"August\",\"September\",\"October\",\"November\",\"December\"],\"wgRequestId\":\"X9fufw\n"
     ]
    }
   ],
   "source": [
    "#Collecting the url and making the soup\n",
    "#(Wikipedia, 2020)\n",
    "\n",
    "r  = requests.get(\"https://en.wikipedia.org/wiki/PFA_Players%27_Player_of_the_Year\")\n",
    "data = r.text\n",
    "soup = BeautifulSoup(data, \"html.parser\")\n",
    "\n",
    "#Inspecting tags\n",
    "print(soup.prettify()[:500])"
   ]
  },
  {
   "cell_type": "markdown",
   "metadata": {
    "hidden": true
   },
   "source": [
    "***Creating Dataframe***"
   ]
  },
  {
   "cell_type": "code",
   "execution_count": 16,
   "metadata": {
    "ExecuteTime": {
     "end_time": "2020-12-17T12:50:32.119153Z",
     "start_time": "2020-12-17T12:50:32.107186Z"
    },
    "hidden": true
   },
   "outputs": [],
   "source": [
    "df = pd.DataFrame()\n",
    "l = []\n",
    "\n",
    "#Pulling all table rows from identified table and appending to a dataframe\n",
    "table = soup.find('table', attrs={'class': 'sortable wikitable' ,'style':'text-align: center;'})\n",
    "table_rows = table.find_all('tr')\n",
    "\n",
    "for tr in table_rows:\n",
    "    td = tr.find_all('td')\n",
    "    row = [tr.text for tr in td]         \n",
    "    l.append(row)\n",
    "\n",
    "pfa_award_winners = df.append(l)"
   ]
  },
  {
   "cell_type": "markdown",
   "metadata": {
    "heading_collapsed": true,
    "hidden": true
   },
   "source": [
    "#### Combining Data"
   ]
  },
  {
   "cell_type": "markdown",
   "metadata": {
    "hidden": true
   },
   "source": [
    "***Duplicate Files for Due Diligence***"
   ]
  },
  {
   "cell_type": "code",
   "execution_count": 17,
   "metadata": {
    "ExecuteTime": {
     "end_time": "2020-12-17T12:50:32.150651Z",
     "start_time": "2020-12-17T12:50:32.121148Z"
    },
    "hidden": true
   },
   "outputs": [],
   "source": [
    "pfa_award_winners_clean = pfa_award_winners.copy()\n",
    "\n",
    "season_14_15_stats_clean = season_14_15_stats.copy()\n",
    "season_14_15_match_stats_clean = season_14_15_match_stats.copy()\n",
    "season_14_15_player_stats_clean = season_14_15_player_stats.copy()\n",
    "\n",
    "season_15_16_stats_clean = season_15_16_stats.copy()\n",
    "season_15_16_match_stats_clean = season_15_16_match_stats.copy()\n",
    "season_15_16_player_stats_clean = season_15_16_player_stats.copy()\n",
    "\n",
    "season_16_17_stats_clean = season_16_17_stats.copy()\n",
    "season_16_17_match_stats_clean = season_16_17_match_stats.copy()\n",
    "season_16_17_player_stats_clean = season_16_17_player_stats.copy()\n",
    "\n",
    "season_17_18_stats_clean = season_17_18_stats.copy()\n",
    "season_17_18_match_stats_clean = season_17_18_match_stats.copy()\n",
    "season_17_18_player_stats_clean = season_17_18_player_stats.copy()"
   ]
  },
  {
   "cell_type": "markdown",
   "metadata": {
    "hidden": true
   },
   "source": [
    "***Combine dataframes***\n",
    "\n",
    "It is not necessary for there to be soo many dataframes. I will concatenate and re-organise to leave just 3 dataframes. By setting the unique match_id as the index of each of the 3 dataframes, I will ensure that all rows can be joined."
   ]
  },
  {
   "cell_type": "code",
   "execution_count": 18,
   "metadata": {
    "ExecuteTime": {
     "end_time": "2020-12-17T12:50:32.185528Z",
     "start_time": "2020-12-17T12:50:32.152616Z"
    },
    "hidden": true
   },
   "outputs": [],
   "source": [
    "#Concatenate all season stats dataframes to create match_details_clean \n",
    "#Adding match_id as the dataframe index\n",
    "#Repeating match_id as season stats collects home and away teams in independent rows\n",
    "#(stackoverflow, 2018)\n",
    "\n",
    "index = [season_14_15_match_stats_clean.index]\n",
    "index = np.repeat(index,2)\n",
    "season_14_15_stats_clean['match_id'] = index\n",
    "season_14_15_stats_clean.reset_index(inplace=True)\n",
    "season_14_15_stats_clean.drop('index', axis=1, inplace=True)\n",
    "season_14_15_stats_clean.set_index('match_id', inplace=True)\n",
    "\n",
    "index = [season_15_16_match_stats.index]\n",
    "index = np.repeat(index,2)\n",
    "season_15_16_stats_clean['match_id'] = index\n",
    "season_15_16_stats_clean.reset_index(inplace=True)\n",
    "season_15_16_stats_clean.drop('index', axis=1, inplace=True)\n",
    "season_15_16_stats_clean.set_index('match_id', inplace=True)\n",
    "\n",
    "index = [season_16_17_match_stats.index]\n",
    "index = np.repeat(index,2)\n",
    "season_16_17_stats_clean['match_id'] = index\n",
    "season_16_17_stats_clean.reset_index(inplace=True)\n",
    "season_16_17_stats_clean.drop('index', axis=1, inplace=True)\n",
    "season_16_17_stats_clean.set_index('match_id', inplace=True)\n",
    "\n",
    "index = [season_17_18_match_stats.index]\n",
    "index = np.repeat(index,2)\n",
    "season_17_18_stats_clean['match_id'] = index\n",
    "season_17_18_stats_clean.reset_index(inplace=True)\n",
    "season_17_18_stats_clean.drop('index', axis=1, inplace=True)\n",
    "season_17_18_stats_clean.set_index('match_id', inplace=True)\n",
    "\n",
    "\n",
    "match_details_clean = pd.concat([season_14_15_stats_clean, season_15_16_stats_clean, season_16_17_stats_clean, season_17_18_stats_clean])"
   ]
  },
  {
   "cell_type": "code",
   "execution_count": 19,
   "metadata": {
    "ExecuteTime": {
     "end_time": "2020-12-17T12:50:32.194505Z",
     "start_time": "2020-12-17T12:50:32.187521Z"
    },
    "hidden": true
   },
   "outputs": [],
   "source": [
    "#Concatenate all match stats dataframes to create match_results_clean \n",
    "#Renaming index as match_id for consistency with other dataframes\n",
    "\n",
    "season_14_15_match_stats_clean.index.rename('match_id', inplace=True)\n",
    "season_15_16_match_stats_clean.index.rename('match_id', inplace=True)\n",
    "season_16_17_match_stats_clean.index.rename('match_id', inplace=True)\n",
    "season_17_18_match_stats_clean.index.rename('match_id', inplace=True)\n",
    "\n",
    "\n",
    "match_results_clean = pd.concat([season_14_15_match_stats_clean, season_15_16_match_stats_clean, season_16_17_match_stats_clean, season_17_18_match_stats_clean])"
   ]
  },
  {
   "cell_type": "code",
   "execution_count": 20,
   "metadata": {
    "ExecuteTime": {
     "end_time": "2020-12-17T12:50:32.565512Z",
     "start_time": "2020-12-17T12:50:32.196497Z"
    },
    "hidden": true
   },
   "outputs": [],
   "source": [
    "#Concatenate all season player stats dataframes to create player_performance_clean \n",
    "#Adding team_id, date and match_id to facilitate joining with other dataframes\n",
    "#Setting match_id as index for consistency with other dataframes\n",
    "\n",
    "ids = season_14_15_stats_clean[['team_id']]\n",
    "ids.reset_index(inplace=True)\n",
    "season_14_15_player_stats_clean = pd.merge(ids, season_14_15_player_stats_clean,  how='left', left_on=['team_id', 'match_id'], right_on = ['team_id', 'match_id'])\n",
    "season_14_15_player_stats_clean.reset_index(inplace=True)\n",
    "season_14_15_player_stats_clean.drop('index', axis=1, inplace=True)\n",
    "season_14_15_player_stats_clean.set_index('match_id', inplace=True)\n",
    "\n",
    "ids = season_15_16_stats_clean[['team_id']]\n",
    "ids.reset_index(inplace=True)\n",
    "season_15_16_player_stats_clean = pd.merge(ids, season_15_16_player_stats_clean,  how='left', left_on=['team_id', 'match_id'], right_on = ['team_id', 'match_id'])\n",
    "season_15_16_player_stats_clean.reset_index(inplace=True)\n",
    "season_15_16_player_stats_clean.drop('index', axis=1, inplace=True)\n",
    "season_15_16_player_stats_clean.set_index('match_id', inplace=True)\n",
    "\n",
    "ids = season_16_17_stats_clean[['team_id']]\n",
    "ids.reset_index(inplace=True)\n",
    "season_16_17_player_stats_clean = pd.merge(ids, season_16_17_player_stats_clean,  how='left', left_on=['team_id', 'match_id'], right_on = ['team_id', 'match_id'])\n",
    "season_16_17_player_stats_clean.reset_index(inplace=True)\n",
    "season_16_17_player_stats_clean.drop('index', axis=1, inplace=True)\n",
    "season_16_17_player_stats_clean.set_index('match_id', inplace=True)\n",
    "\n",
    "ids = season_17_18_stats_clean[['team_id']]\n",
    "ids.reset_index(inplace=True)\n",
    "season_17_18_player_stats_clean = pd.merge(ids, season_17_18_player_stats_clean,  how='left', left_on=['team_id', 'match_id'], right_on = ['team_id', 'match_id'])\n",
    "season_17_18_player_stats_clean.reset_index(inplace=True)\n",
    "season_17_18_player_stats_clean.drop('index', axis=1, inplace=True)\n",
    "season_17_18_player_stats_clean.set_index('match_id', inplace=True)\n",
    "\n",
    "\n",
    "player_performance_clean = pd.concat([season_14_15_player_stats_clean, season_15_16_player_stats_clean, season_16_17_player_stats_clean, season_17_18_player_stats_clean])"
   ]
  },
  {
   "cell_type": "markdown",
   "metadata": {
    "heading_collapsed": true,
    "hidden": true
   },
   "source": [
    "### Assessing Data\n",
    "<a id='assess'></a>\n",
    "\n",
    "I will now assess the data both visually and programmatically for quality and tidiness issues. I will note my observations as Action Points. This will later serve as a check-mark system when cleaning the data."
   ]
  },
  {
   "cell_type": "markdown",
   "metadata": {
    "hidden": true
   },
   "source": [
    "***Visual Assessment***"
   ]
  },
  {
   "cell_type": "code",
   "execution_count": 21,
   "metadata": {
    "ExecuteTime": {
     "end_time": "2020-12-17T12:50:32.633330Z",
     "start_time": "2020-12-17T12:50:32.567507Z"
    },
    "hidden": true
   },
   "outputs": [
    {
     "data": {
      "text/html": [
       "<div>\n",
       "<style scoped>\n",
       "    .dataframe tbody tr th:only-of-type {\n",
       "        vertical-align: middle;\n",
       "    }\n",
       "\n",
       "    .dataframe tbody tr th {\n",
       "        vertical-align: top;\n",
       "    }\n",
       "\n",
       "    .dataframe thead th {\n",
       "        text-align: right;\n",
       "    }\n",
       "</style>\n",
       "<table border=\"1\" class=\"dataframe\">\n",
       "  <thead>\n",
       "    <tr style=\"text-align: right;\">\n",
       "      <th></th>\n",
       "      <th>team_id</th>\n",
       "      <th>team_name</th>\n",
       "      <th>team_rating</th>\n",
       "      <th>date</th>\n",
       "      <th>att_goal_low_left</th>\n",
       "      <th>won_contest</th>\n",
       "      <th>possession_percentage</th>\n",
       "      <th>total_throws</th>\n",
       "      <th>att_miss_high_left</th>\n",
       "      <th>blocked_scoring_att</th>\n",
       "      <th>...</th>\n",
       "      <th>att_goal_high_right</th>\n",
       "      <th>att_sv_high_centre</th>\n",
       "      <th>att_post_high</th>\n",
       "      <th>post_scoring_att</th>\n",
       "      <th>att_sv_high_right</th>\n",
       "      <th>penalty_save</th>\n",
       "      <th>att_pen_goal</th>\n",
       "      <th>att_post_right</th>\n",
       "      <th>att_post_left</th>\n",
       "      <th>att_goal_high_centre</th>\n",
       "    </tr>\n",
       "    <tr>\n",
       "      <th>match_id</th>\n",
       "      <th></th>\n",
       "      <th></th>\n",
       "      <th></th>\n",
       "      <th></th>\n",
       "      <th></th>\n",
       "      <th></th>\n",
       "      <th></th>\n",
       "      <th></th>\n",
       "      <th></th>\n",
       "      <th></th>\n",
       "      <th></th>\n",
       "      <th></th>\n",
       "      <th></th>\n",
       "      <th></th>\n",
       "      <th></th>\n",
       "      <th></th>\n",
       "      <th></th>\n",
       "      <th></th>\n",
       "      <th></th>\n",
       "      <th></th>\n",
       "      <th></th>\n",
       "    </tr>\n",
       "  </thead>\n",
       "  <tbody>\n",
       "    <tr>\n",
       "      <th>829513</th>\n",
       "      <td>13</td>\n",
       "      <td>Arsenal</td>\n",
       "      <td>7.015</td>\n",
       "      <td>16/08/2014</td>\n",
       "      <td>1</td>\n",
       "      <td>12</td>\n",
       "      <td>76</td>\n",
       "      <td>21</td>\n",
       "      <td>1</td>\n",
       "      <td>3</td>\n",
       "      <td>...</td>\n",
       "      <td>NaN</td>\n",
       "      <td>NaN</td>\n",
       "      <td>NaN</td>\n",
       "      <td>NaN</td>\n",
       "      <td>NaN</td>\n",
       "      <td>NaN</td>\n",
       "      <td>NaN</td>\n",
       "      <td>NaN</td>\n",
       "      <td>NaN</td>\n",
       "      <td>NaN</td>\n",
       "    </tr>\n",
       "    <tr>\n",
       "      <th>829513</th>\n",
       "      <td>162</td>\n",
       "      <td>Crystal Palace</td>\n",
       "      <td>6.62857142857143</td>\n",
       "      <td>16/08/2014</td>\n",
       "      <td>1</td>\n",
       "      <td>7</td>\n",
       "      <td>24</td>\n",
       "      <td>18</td>\n",
       "      <td>NaN</td>\n",
       "      <td>2</td>\n",
       "      <td>...</td>\n",
       "      <td>NaN</td>\n",
       "      <td>NaN</td>\n",
       "      <td>NaN</td>\n",
       "      <td>NaN</td>\n",
       "      <td>NaN</td>\n",
       "      <td>NaN</td>\n",
       "      <td>NaN</td>\n",
       "      <td>NaN</td>\n",
       "      <td>NaN</td>\n",
       "      <td>NaN</td>\n",
       "    </tr>\n",
       "    <tr>\n",
       "      <th>829514</th>\n",
       "      <td>184</td>\n",
       "      <td>Burnley</td>\n",
       "      <td>6.29857142857143</td>\n",
       "      <td>18/08/2014</td>\n",
       "      <td>NaN</td>\n",
       "      <td>3</td>\n",
       "      <td>38.6</td>\n",
       "      <td>35</td>\n",
       "      <td>1</td>\n",
       "      <td>1</td>\n",
       "      <td>...</td>\n",
       "      <td>NaN</td>\n",
       "      <td>NaN</td>\n",
       "      <td>NaN</td>\n",
       "      <td>NaN</td>\n",
       "      <td>NaN</td>\n",
       "      <td>NaN</td>\n",
       "      <td>NaN</td>\n",
       "      <td>NaN</td>\n",
       "      <td>NaN</td>\n",
       "      <td>NaN</td>\n",
       "    </tr>\n",
       "    <tr>\n",
       "      <th>829514</th>\n",
       "      <td>15</td>\n",
       "      <td>Chelsea</td>\n",
       "      <td>7.13428571428571</td>\n",
       "      <td>18/08/2014</td>\n",
       "      <td>2</td>\n",
       "      <td>12</td>\n",
       "      <td>61.4</td>\n",
       "      <td>29</td>\n",
       "      <td>NaN</td>\n",
       "      <td>4</td>\n",
       "      <td>...</td>\n",
       "      <td>NaN</td>\n",
       "      <td>NaN</td>\n",
       "      <td>NaN</td>\n",
       "      <td>NaN</td>\n",
       "      <td>NaN</td>\n",
       "      <td>NaN</td>\n",
       "      <td>NaN</td>\n",
       "      <td>NaN</td>\n",
       "      <td>NaN</td>\n",
       "      <td>NaN</td>\n",
       "    </tr>\n",
       "    <tr>\n",
       "      <th>829515</th>\n",
       "      <td>14</td>\n",
       "      <td>Leicester</td>\n",
       "      <td>6.71428571428571</td>\n",
       "      <td>16/08/2014</td>\n",
       "      <td>NaN</td>\n",
       "      <td>6</td>\n",
       "      <td>36.7</td>\n",
       "      <td>12</td>\n",
       "      <td>NaN</td>\n",
       "      <td>3</td>\n",
       "      <td>...</td>\n",
       "      <td>NaN</td>\n",
       "      <td>NaN</td>\n",
       "      <td>NaN</td>\n",
       "      <td>NaN</td>\n",
       "      <td>NaN</td>\n",
       "      <td>NaN</td>\n",
       "      <td>NaN</td>\n",
       "      <td>NaN</td>\n",
       "      <td>NaN</td>\n",
       "      <td>NaN</td>\n",
       "    </tr>\n",
       "    <tr>\n",
       "      <th>...</th>\n",
       "      <td>...</td>\n",
       "      <td>...</td>\n",
       "      <td>...</td>\n",
       "      <td>...</td>\n",
       "      <td>...</td>\n",
       "      <td>...</td>\n",
       "      <td>...</td>\n",
       "      <td>...</td>\n",
       "      <td>...</td>\n",
       "      <td>...</td>\n",
       "      <td>...</td>\n",
       "      <td>...</td>\n",
       "      <td>...</td>\n",
       "      <td>...</td>\n",
       "      <td>...</td>\n",
       "      <td>...</td>\n",
       "      <td>...</td>\n",
       "      <td>...</td>\n",
       "      <td>...</td>\n",
       "      <td>...</td>\n",
       "      <td>...</td>\n",
       "    </tr>\n",
       "    <tr>\n",
       "      <th>1190373</th>\n",
       "      <td>27</td>\n",
       "      <td>Watford</td>\n",
       "      <td>6.17071428571429</td>\n",
       "      <td>11/03/2018</td>\n",
       "      <td>NaN</td>\n",
       "      <td>7</td>\n",
       "      <td>40.3</td>\n",
       "      <td>28</td>\n",
       "      <td>1</td>\n",
       "      <td>2</td>\n",
       "      <td>...</td>\n",
       "      <td>NaN</td>\n",
       "      <td>NaN</td>\n",
       "      <td>NaN</td>\n",
       "      <td>NaN</td>\n",
       "      <td>NaN</td>\n",
       "      <td>NaN</td>\n",
       "      <td>NaN</td>\n",
       "      <td>NaN</td>\n",
       "      <td>NaN</td>\n",
       "      <td>NaN</td>\n",
       "    </tr>\n",
       "    <tr>\n",
       "      <th>1190367</th>\n",
       "      <td>32</td>\n",
       "      <td>Manchester United</td>\n",
       "      <td>7.31928571428571</td>\n",
       "      <td>03/02/2018</td>\n",
       "      <td>1</td>\n",
       "      <td>27</td>\n",
       "      <td>74.3</td>\n",
       "      <td>23</td>\n",
       "      <td>NaN</td>\n",
       "      <td>5</td>\n",
       "      <td>...</td>\n",
       "      <td>NaN</td>\n",
       "      <td>NaN</td>\n",
       "      <td>NaN</td>\n",
       "      <td>NaN</td>\n",
       "      <td>NaN</td>\n",
       "      <td>NaN</td>\n",
       "      <td>NaN</td>\n",
       "      <td>NaN</td>\n",
       "      <td>NaN</td>\n",
       "      <td>NaN</td>\n",
       "    </tr>\n",
       "    <tr>\n",
       "      <th>1190367</th>\n",
       "      <td>166</td>\n",
       "      <td>Huddersfield</td>\n",
       "      <td>6.40857142857143</td>\n",
       "      <td>03/02/2018</td>\n",
       "      <td>NaN</td>\n",
       "      <td>4</td>\n",
       "      <td>25.7</td>\n",
       "      <td>8</td>\n",
       "      <td>NaN</td>\n",
       "      <td>3</td>\n",
       "      <td>...</td>\n",
       "      <td>NaN</td>\n",
       "      <td>NaN</td>\n",
       "      <td>NaN</td>\n",
       "      <td>NaN</td>\n",
       "      <td>NaN</td>\n",
       "      <td>1</td>\n",
       "      <td>NaN</td>\n",
       "      <td>NaN</td>\n",
       "      <td>NaN</td>\n",
       "      <td>NaN</td>\n",
       "    </tr>\n",
       "    <tr>\n",
       "      <th>1190401</th>\n",
       "      <td>96</td>\n",
       "      <td>Stoke</td>\n",
       "      <td>6.31076923076923</td>\n",
       "      <td>12/03/2018</td>\n",
       "      <td>NaN</td>\n",
       "      <td>9</td>\n",
       "      <td>22.9</td>\n",
       "      <td>25</td>\n",
       "      <td>NaN</td>\n",
       "      <td>2</td>\n",
       "      <td>...</td>\n",
       "      <td>NaN</td>\n",
       "      <td>NaN</td>\n",
       "      <td>NaN</td>\n",
       "      <td>NaN</td>\n",
       "      <td>NaN</td>\n",
       "      <td>NaN</td>\n",
       "      <td>NaN</td>\n",
       "      <td>NaN</td>\n",
       "      <td>NaN</td>\n",
       "      <td>NaN</td>\n",
       "    </tr>\n",
       "    <tr>\n",
       "      <th>1190401</th>\n",
       "      <td>167</td>\n",
       "      <td>Manchester City</td>\n",
       "      <td>7.23769230769231</td>\n",
       "      <td>12/03/2018</td>\n",
       "      <td>1</td>\n",
       "      <td>10</td>\n",
       "      <td>77.1</td>\n",
       "      <td>20</td>\n",
       "      <td>NaN</td>\n",
       "      <td>3</td>\n",
       "      <td>...</td>\n",
       "      <td>NaN</td>\n",
       "      <td>NaN</td>\n",
       "      <td>NaN</td>\n",
       "      <td>NaN</td>\n",
       "      <td>1</td>\n",
       "      <td>NaN</td>\n",
       "      <td>NaN</td>\n",
       "      <td>NaN</td>\n",
       "      <td>NaN</td>\n",
       "      <td>NaN</td>\n",
       "    </tr>\n",
       "  </tbody>\n",
       "</table>\n",
       "<p>3040 rows × 43 columns</p>\n",
       "</div>"
      ],
      "text/plain": [
       "         team_id          team_name       team_rating        date  \\\n",
       "match_id                                                            \n",
       "829513        13            Arsenal             7.015  16/08/2014   \n",
       "829513       162     Crystal Palace  6.62857142857143  16/08/2014   \n",
       "829514       184            Burnley  6.29857142857143  18/08/2014   \n",
       "829514        15            Chelsea  7.13428571428571  18/08/2014   \n",
       "829515        14          Leicester  6.71428571428571  16/08/2014   \n",
       "...          ...                ...               ...         ...   \n",
       "1190373       27            Watford  6.17071428571429  11/03/2018   \n",
       "1190367       32  Manchester United  7.31928571428571  03/02/2018   \n",
       "1190367      166       Huddersfield  6.40857142857143  03/02/2018   \n",
       "1190401       96              Stoke  6.31076923076923  12/03/2018   \n",
       "1190401      167    Manchester City  7.23769230769231  12/03/2018   \n",
       "\n",
       "         att_goal_low_left won_contest possession_percentage total_throws  \\\n",
       "match_id                                                                    \n",
       "829513                   1          12                    76           21   \n",
       "829513                   1           7                    24           18   \n",
       "829514                 NaN           3                  38.6           35   \n",
       "829514                   2          12                  61.4           29   \n",
       "829515                 NaN           6                  36.7           12   \n",
       "...                    ...         ...                   ...          ...   \n",
       "1190373                NaN           7                  40.3           28   \n",
       "1190367                  1          27                  74.3           23   \n",
       "1190367                NaN           4                  25.7            8   \n",
       "1190401                NaN           9                  22.9           25   \n",
       "1190401                  1          10                  77.1           20   \n",
       "\n",
       "         att_miss_high_left blocked_scoring_att  ... att_goal_high_right  \\\n",
       "match_id                                         ...                       \n",
       "829513                    1                   3  ...                 NaN   \n",
       "829513                  NaN                   2  ...                 NaN   \n",
       "829514                    1                   1  ...                 NaN   \n",
       "829514                  NaN                   4  ...                 NaN   \n",
       "829515                  NaN                   3  ...                 NaN   \n",
       "...                     ...                 ...  ...                 ...   \n",
       "1190373                   1                   2  ...                 NaN   \n",
       "1190367                 NaN                   5  ...                 NaN   \n",
       "1190367                 NaN                   3  ...                 NaN   \n",
       "1190401                 NaN                   2  ...                 NaN   \n",
       "1190401                 NaN                   3  ...                 NaN   \n",
       "\n",
       "         att_sv_high_centre att_post_high post_scoring_att att_sv_high_right  \\\n",
       "match_id                                                                       \n",
       "829513                  NaN           NaN              NaN               NaN   \n",
       "829513                  NaN           NaN              NaN               NaN   \n",
       "829514                  NaN           NaN              NaN               NaN   \n",
       "829514                  NaN           NaN              NaN               NaN   \n",
       "829515                  NaN           NaN              NaN               NaN   \n",
       "...                     ...           ...              ...               ...   \n",
       "1190373                 NaN           NaN              NaN               NaN   \n",
       "1190367                 NaN           NaN              NaN               NaN   \n",
       "1190367                 NaN           NaN              NaN               NaN   \n",
       "1190401                 NaN           NaN              NaN               NaN   \n",
       "1190401                 NaN           NaN              NaN                 1   \n",
       "\n",
       "         penalty_save att_pen_goal att_post_right att_post_left  \\\n",
       "match_id                                                          \n",
       "829513            NaN          NaN            NaN           NaN   \n",
       "829513            NaN          NaN            NaN           NaN   \n",
       "829514            NaN          NaN            NaN           NaN   \n",
       "829514            NaN          NaN            NaN           NaN   \n",
       "829515            NaN          NaN            NaN           NaN   \n",
       "...               ...          ...            ...           ...   \n",
       "1190373           NaN          NaN            NaN           NaN   \n",
       "1190367           NaN          NaN            NaN           NaN   \n",
       "1190367             1          NaN            NaN           NaN   \n",
       "1190401           NaN          NaN            NaN           NaN   \n",
       "1190401           NaN          NaN            NaN           NaN   \n",
       "\n",
       "         att_goal_high_centre  \n",
       "match_id                       \n",
       "829513                    NaN  \n",
       "829513                    NaN  \n",
       "829514                    NaN  \n",
       "829514                    NaN  \n",
       "829515                    NaN  \n",
       "...                       ...  \n",
       "1190373                   NaN  \n",
       "1190367                   NaN  \n",
       "1190367                   NaN  \n",
       "1190401                   NaN  \n",
       "1190401                   NaN  \n",
       "\n",
       "[3040 rows x 43 columns]"
      ]
     },
     "execution_count": 21,
     "metadata": {},
     "output_type": "execute_result"
    }
   ],
   "source": [
    "match_details_clean\n",
    "\n",
    "#Inconsistent team rating decimal places    \n",
    "#Check date format"
   ]
  },
  {
   "cell_type": "code",
   "execution_count": 22,
   "metadata": {
    "ExecuteTime": {
     "end_time": "2020-12-17T12:50:32.655272Z",
     "start_time": "2020-12-17T12:50:32.638317Z"
    },
    "hidden": true
   },
   "outputs": [
    {
     "data": {
      "text/html": [
       "<div>\n",
       "<style scoped>\n",
       "    .dataframe tbody tr th:only-of-type {\n",
       "        vertical-align: middle;\n",
       "    }\n",
       "\n",
       "    .dataframe tbody tr th {\n",
       "        vertical-align: top;\n",
       "    }\n",
       "\n",
       "    .dataframe thead th {\n",
       "        text-align: right;\n",
       "    }\n",
       "</style>\n",
       "<table border=\"1\" class=\"dataframe\">\n",
       "  <thead>\n",
       "    <tr style=\"text-align: right;\">\n",
       "      <th></th>\n",
       "      <th>home_team_id</th>\n",
       "      <th>away_team_id</th>\n",
       "      <th>home_team_name</th>\n",
       "      <th>away_team_name</th>\n",
       "      <th>date_string</th>\n",
       "      <th>half_time_score</th>\n",
       "      <th>full_time_score</th>\n",
       "    </tr>\n",
       "    <tr>\n",
       "      <th>match_id</th>\n",
       "      <th></th>\n",
       "      <th></th>\n",
       "      <th></th>\n",
       "      <th></th>\n",
       "      <th></th>\n",
       "      <th></th>\n",
       "      <th></th>\n",
       "    </tr>\n",
       "  </thead>\n",
       "  <tbody>\n",
       "    <tr>\n",
       "      <th>829513</th>\n",
       "      <td>13</td>\n",
       "      <td>162</td>\n",
       "      <td>Arsenal</td>\n",
       "      <td>Crystal Palace</td>\n",
       "      <td>16/08/2014 17:30:00</td>\n",
       "      <td>1 : 1</td>\n",
       "      <td>2 : 1</td>\n",
       "    </tr>\n",
       "    <tr>\n",
       "      <th>829514</th>\n",
       "      <td>184</td>\n",
       "      <td>15</td>\n",
       "      <td>Burnley</td>\n",
       "      <td>Chelsea</td>\n",
       "      <td>18/08/2014 20:00:00</td>\n",
       "      <td>1 : 3</td>\n",
       "      <td>1 : 3</td>\n",
       "    </tr>\n",
       "    <tr>\n",
       "      <th>829515</th>\n",
       "      <td>14</td>\n",
       "      <td>31</td>\n",
       "      <td>Leicester</td>\n",
       "      <td>Everton</td>\n",
       "      <td>16/08/2014 15:00:00</td>\n",
       "      <td>1 : 2</td>\n",
       "      <td>2 : 2</td>\n",
       "    </tr>\n",
       "    <tr>\n",
       "      <th>829516</th>\n",
       "      <td>26</td>\n",
       "      <td>18</td>\n",
       "      <td>Liverpool</td>\n",
       "      <td>Southampton</td>\n",
       "      <td>17/08/2014 13:30:00</td>\n",
       "      <td>1 : 0</td>\n",
       "      <td>2 : 1</td>\n",
       "    </tr>\n",
       "    <tr>\n",
       "      <th>829517</th>\n",
       "      <td>32</td>\n",
       "      <td>259</td>\n",
       "      <td>Manchester United</td>\n",
       "      <td>Swansea</td>\n",
       "      <td>16/08/2014 12:45:00</td>\n",
       "      <td>0 : 1</td>\n",
       "      <td>1 : 2</td>\n",
       "    </tr>\n",
       "    <tr>\n",
       "      <th>...</th>\n",
       "      <td>...</td>\n",
       "      <td>...</td>\n",
       "      <td>...</td>\n",
       "      <td>...</td>\n",
       "      <td>...</td>\n",
       "      <td>...</td>\n",
       "      <td>...</td>\n",
       "    </tr>\n",
       "    <tr>\n",
       "      <th>1190429</th>\n",
       "      <td>26</td>\n",
       "      <td>27</td>\n",
       "      <td>Liverpool</td>\n",
       "      <td>Watford</td>\n",
       "      <td>17/03/2018 17:30:00</td>\n",
       "      <td>2 : 0</td>\n",
       "      <td>5 : 0</td>\n",
       "    </tr>\n",
       "    <tr>\n",
       "      <th>1190415</th>\n",
       "      <td>29</td>\n",
       "      <td>27</td>\n",
       "      <td>West Ham</td>\n",
       "      <td>Watford</td>\n",
       "      <td>10/02/2018 15:00:00</td>\n",
       "      <td>1 : 0</td>\n",
       "      <td>2 : 0</td>\n",
       "    </tr>\n",
       "    <tr>\n",
       "      <th>1190373</th>\n",
       "      <td>13</td>\n",
       "      <td>27</td>\n",
       "      <td>Arsenal</td>\n",
       "      <td>Watford</td>\n",
       "      <td>11/03/2018 13:30:00</td>\n",
       "      <td>1 : 0</td>\n",
       "      <td>3 : 0</td>\n",
       "    </tr>\n",
       "    <tr>\n",
       "      <th>1190367</th>\n",
       "      <td>32</td>\n",
       "      <td>166</td>\n",
       "      <td>Manchester United</td>\n",
       "      <td>Huddersfield</td>\n",
       "      <td>03/02/2018 15:00:00</td>\n",
       "      <td>0 : 0</td>\n",
       "      <td>2 : 0</td>\n",
       "    </tr>\n",
       "    <tr>\n",
       "      <th>1190401</th>\n",
       "      <td>96</td>\n",
       "      <td>167</td>\n",
       "      <td>Stoke</td>\n",
       "      <td>Manchester City</td>\n",
       "      <td>12/03/2018 20:00:00</td>\n",
       "      <td>0 : 1</td>\n",
       "      <td>0 : 2</td>\n",
       "    </tr>\n",
       "  </tbody>\n",
       "</table>\n",
       "<p>1520 rows × 7 columns</p>\n",
       "</div>"
      ],
      "text/plain": [
       "         home_team_id away_team_id     home_team_name   away_team_name  \\\n",
       "match_id                                                                 \n",
       "829513             13          162            Arsenal   Crystal Palace   \n",
       "829514            184           15            Burnley          Chelsea   \n",
       "829515             14           31          Leicester          Everton   \n",
       "829516             26           18          Liverpool      Southampton   \n",
       "829517             32          259  Manchester United          Swansea   \n",
       "...               ...          ...                ...              ...   \n",
       "1190429            26           27          Liverpool          Watford   \n",
       "1190415            29           27           West Ham          Watford   \n",
       "1190373            13           27            Arsenal          Watford   \n",
       "1190367            32          166  Manchester United     Huddersfield   \n",
       "1190401            96          167              Stoke  Manchester City   \n",
       "\n",
       "                  date_string half_time_score full_time_score  \n",
       "match_id                                                       \n",
       "829513    16/08/2014 17:30:00           1 : 1           2 : 1  \n",
       "829514    18/08/2014 20:00:00           1 : 3           1 : 3  \n",
       "829515    16/08/2014 15:00:00           1 : 2           2 : 2  \n",
       "829516    17/08/2014 13:30:00           1 : 0           2 : 1  \n",
       "829517    16/08/2014 12:45:00           0 : 1           1 : 2  \n",
       "...                       ...             ...             ...  \n",
       "1190429   17/03/2018 17:30:00           2 : 0           5 : 0  \n",
       "1190415   10/02/2018 15:00:00           1 : 0           2 : 0  \n",
       "1190373   11/03/2018 13:30:00           1 : 0           3 : 0  \n",
       "1190367   03/02/2018 15:00:00           0 : 0           2 : 0  \n",
       "1190401   12/03/2018 20:00:00           0 : 1           0 : 2  \n",
       "\n",
       "[1520 rows x 7 columns]"
      ]
     },
     "execution_count": 22,
     "metadata": {},
     "output_type": "execute_result"
    }
   ],
   "source": [
    "match_results_clean\n",
    "\n",
    "#Inconsistent date column title with match_details_clean\n",
    "#Check date format\n",
    "#Half time and full time score columns require splitting"
   ]
  },
  {
   "cell_type": "code",
   "execution_count": 23,
   "metadata": {
    "ExecuteTime": {
     "end_time": "2020-12-17T12:50:32.748052Z",
     "start_time": "2020-12-17T12:50:32.659261Z"
    },
    "hidden": true
   },
   "outputs": [
    {
     "data": {
      "text/html": [
       "<div>\n",
       "<style scoped>\n",
       "    .dataframe tbody tr th:only-of-type {\n",
       "        vertical-align: middle;\n",
       "    }\n",
       "\n",
       "    .dataframe tbody tr th {\n",
       "        vertical-align: top;\n",
       "    }\n",
       "\n",
       "    .dataframe thead th {\n",
       "        text-align: right;\n",
       "    }\n",
       "</style>\n",
       "<table border=\"1\" class=\"dataframe\">\n",
       "  <thead>\n",
       "    <tr style=\"text-align: right;\">\n",
       "      <th></th>\n",
       "      <th>team_id</th>\n",
       "      <th>player_name</th>\n",
       "      <th>touches</th>\n",
       "      <th>saves</th>\n",
       "      <th>total_pass</th>\n",
       "      <th>aerial_won</th>\n",
       "      <th>formation_place</th>\n",
       "      <th>accurate_pass</th>\n",
       "      <th>player_id</th>\n",
       "      <th>player_position_value</th>\n",
       "      <th>...</th>\n",
       "      <th>six_yard_block</th>\n",
       "      <th>post_scoring_att</th>\n",
       "      <th>att_pen_target</th>\n",
       "      <th>penalty_save</th>\n",
       "      <th>penalty_conceded</th>\n",
       "      <th>clearance_off_line</th>\n",
       "      <th>att_pen_goal</th>\n",
       "      <th>att_pen_miss</th>\n",
       "      <th>own_goals</th>\n",
       "      <th>att_pen_post</th>\n",
       "    </tr>\n",
       "    <tr>\n",
       "      <th>match_id</th>\n",
       "      <th></th>\n",
       "      <th></th>\n",
       "      <th></th>\n",
       "      <th></th>\n",
       "      <th></th>\n",
       "      <th></th>\n",
       "      <th></th>\n",
       "      <th></th>\n",
       "      <th></th>\n",
       "      <th></th>\n",
       "      <th></th>\n",
       "      <th></th>\n",
       "      <th></th>\n",
       "      <th></th>\n",
       "      <th></th>\n",
       "      <th></th>\n",
       "      <th></th>\n",
       "      <th></th>\n",
       "      <th></th>\n",
       "      <th></th>\n",
       "      <th></th>\n",
       "    </tr>\n",
       "  </thead>\n",
       "  <tbody>\n",
       "    <tr>\n",
       "      <th>829513</th>\n",
       "      <td>13</td>\n",
       "      <td>Wojciech Szczesny</td>\n",
       "      <td>20</td>\n",
       "      <td>1</td>\n",
       "      <td>13</td>\n",
       "      <td>1</td>\n",
       "      <td>1</td>\n",
       "      <td>11</td>\n",
       "      <td>73379</td>\n",
       "      <td>1</td>\n",
       "      <td>...</td>\n",
       "      <td>NaN</td>\n",
       "      <td>NaN</td>\n",
       "      <td>NaN</td>\n",
       "      <td>NaN</td>\n",
       "      <td>NaN</td>\n",
       "      <td>NaN</td>\n",
       "      <td>NaN</td>\n",
       "      <td>NaN</td>\n",
       "      <td>NaN</td>\n",
       "      <td>NaN</td>\n",
       "    </tr>\n",
       "    <tr>\n",
       "      <th>829513</th>\n",
       "      <td>13</td>\n",
       "      <td>Calum Chambers</td>\n",
       "      <td>111</td>\n",
       "      <td>NaN</td>\n",
       "      <td>93</td>\n",
       "      <td>2</td>\n",
       "      <td>5</td>\n",
       "      <td>86</td>\n",
       "      <td>124316</td>\n",
       "      <td>2</td>\n",
       "      <td>...</td>\n",
       "      <td>NaN</td>\n",
       "      <td>NaN</td>\n",
       "      <td>NaN</td>\n",
       "      <td>NaN</td>\n",
       "      <td>NaN</td>\n",
       "      <td>NaN</td>\n",
       "      <td>NaN</td>\n",
       "      <td>NaN</td>\n",
       "      <td>NaN</td>\n",
       "      <td>NaN</td>\n",
       "    </tr>\n",
       "    <tr>\n",
       "      <th>829513</th>\n",
       "      <td>13</td>\n",
       "      <td>Mathieu Debuchy</td>\n",
       "      <td>92</td>\n",
       "      <td>NaN</td>\n",
       "      <td>54</td>\n",
       "      <td>5</td>\n",
       "      <td>2</td>\n",
       "      <td>44</td>\n",
       "      <td>11367</td>\n",
       "      <td>2</td>\n",
       "      <td>...</td>\n",
       "      <td>NaN</td>\n",
       "      <td>NaN</td>\n",
       "      <td>NaN</td>\n",
       "      <td>NaN</td>\n",
       "      <td>NaN</td>\n",
       "      <td>NaN</td>\n",
       "      <td>NaN</td>\n",
       "      <td>NaN</td>\n",
       "      <td>NaN</td>\n",
       "      <td>NaN</td>\n",
       "    </tr>\n",
       "    <tr>\n",
       "      <th>829513</th>\n",
       "      <td>13</td>\n",
       "      <td>Kieran Gibbs</td>\n",
       "      <td>44</td>\n",
       "      <td>NaN</td>\n",
       "      <td>34</td>\n",
       "      <td>1</td>\n",
       "      <td>3</td>\n",
       "      <td>26</td>\n",
       "      <td>27550</td>\n",
       "      <td>2</td>\n",
       "      <td>...</td>\n",
       "      <td>NaN</td>\n",
       "      <td>NaN</td>\n",
       "      <td>NaN</td>\n",
       "      <td>NaN</td>\n",
       "      <td>NaN</td>\n",
       "      <td>NaN</td>\n",
       "      <td>NaN</td>\n",
       "      <td>NaN</td>\n",
       "      <td>NaN</td>\n",
       "      <td>NaN</td>\n",
       "    </tr>\n",
       "    <tr>\n",
       "      <th>829513</th>\n",
       "      <td>13</td>\n",
       "      <td>Laurent Koscielny</td>\n",
       "      <td>80</td>\n",
       "      <td>NaN</td>\n",
       "      <td>62</td>\n",
       "      <td>2</td>\n",
       "      <td>6</td>\n",
       "      <td>60</td>\n",
       "      <td>30051</td>\n",
       "      <td>2</td>\n",
       "      <td>...</td>\n",
       "      <td>NaN</td>\n",
       "      <td>NaN</td>\n",
       "      <td>NaN</td>\n",
       "      <td>NaN</td>\n",
       "      <td>NaN</td>\n",
       "      <td>NaN</td>\n",
       "      <td>NaN</td>\n",
       "      <td>NaN</td>\n",
       "      <td>NaN</td>\n",
       "      <td>NaN</td>\n",
       "    </tr>\n",
       "    <tr>\n",
       "      <th>...</th>\n",
       "      <td>...</td>\n",
       "      <td>...</td>\n",
       "      <td>...</td>\n",
       "      <td>...</td>\n",
       "      <td>...</td>\n",
       "      <td>...</td>\n",
       "      <td>...</td>\n",
       "      <td>...</td>\n",
       "      <td>...</td>\n",
       "      <td>...</td>\n",
       "      <td>...</td>\n",
       "      <td>...</td>\n",
       "      <td>...</td>\n",
       "      <td>...</td>\n",
       "      <td>...</td>\n",
       "      <td>...</td>\n",
       "      <td>...</td>\n",
       "      <td>...</td>\n",
       "      <td>...</td>\n",
       "      <td>...</td>\n",
       "      <td>...</td>\n",
       "    </tr>\n",
       "    <tr>\n",
       "      <th>1190401</th>\n",
       "      <td>167</td>\n",
       "      <td>Yaya Touré</td>\n",
       "      <td>NaN</td>\n",
       "      <td>NaN</td>\n",
       "      <td>NaN</td>\n",
       "      <td>NaN</td>\n",
       "      <td>0</td>\n",
       "      <td>NaN</td>\n",
       "      <td>14053</td>\n",
       "      <td>5</td>\n",
       "      <td>...</td>\n",
       "      <td>NaN</td>\n",
       "      <td>NaN</td>\n",
       "      <td>NaN</td>\n",
       "      <td>NaN</td>\n",
       "      <td>NaN</td>\n",
       "      <td>NaN</td>\n",
       "      <td>NaN</td>\n",
       "      <td>NaN</td>\n",
       "      <td>NaN</td>\n",
       "      <td>NaN</td>\n",
       "    </tr>\n",
       "    <tr>\n",
       "      <th>1190401</th>\n",
       "      <td>167</td>\n",
       "      <td>Claudio Bravo</td>\n",
       "      <td>NaN</td>\n",
       "      <td>NaN</td>\n",
       "      <td>NaN</td>\n",
       "      <td>NaN</td>\n",
       "      <td>0</td>\n",
       "      <td>NaN</td>\n",
       "      <td>14199</td>\n",
       "      <td>5</td>\n",
       "      <td>...</td>\n",
       "      <td>NaN</td>\n",
       "      <td>NaN</td>\n",
       "      <td>NaN</td>\n",
       "      <td>NaN</td>\n",
       "      <td>NaN</td>\n",
       "      <td>NaN</td>\n",
       "      <td>NaN</td>\n",
       "      <td>NaN</td>\n",
       "      <td>NaN</td>\n",
       "      <td>NaN</td>\n",
       "    </tr>\n",
       "    <tr>\n",
       "      <th>1190401</th>\n",
       "      <td>167</td>\n",
       "      <td>John Stones</td>\n",
       "      <td>NaN</td>\n",
       "      <td>NaN</td>\n",
       "      <td>NaN</td>\n",
       "      <td>NaN</td>\n",
       "      <td>0</td>\n",
       "      <td>NaN</td>\n",
       "      <td>101374</td>\n",
       "      <td>5</td>\n",
       "      <td>...</td>\n",
       "      <td>NaN</td>\n",
       "      <td>NaN</td>\n",
       "      <td>NaN</td>\n",
       "      <td>NaN</td>\n",
       "      <td>NaN</td>\n",
       "      <td>NaN</td>\n",
       "      <td>NaN</td>\n",
       "      <td>NaN</td>\n",
       "      <td>NaN</td>\n",
       "      <td>NaN</td>\n",
       "    </tr>\n",
       "    <tr>\n",
       "      <th>1190401</th>\n",
       "      <td>167</td>\n",
       "      <td>Danilo</td>\n",
       "      <td>NaN</td>\n",
       "      <td>NaN</td>\n",
       "      <td>NaN</td>\n",
       "      <td>NaN</td>\n",
       "      <td>0</td>\n",
       "      <td>NaN</td>\n",
       "      <td>88300</td>\n",
       "      <td>5</td>\n",
       "      <td>...</td>\n",
       "      <td>NaN</td>\n",
       "      <td>NaN</td>\n",
       "      <td>NaN</td>\n",
       "      <td>NaN</td>\n",
       "      <td>NaN</td>\n",
       "      <td>NaN</td>\n",
       "      <td>NaN</td>\n",
       "      <td>NaN</td>\n",
       "      <td>NaN</td>\n",
       "      <td>NaN</td>\n",
       "    </tr>\n",
       "    <tr>\n",
       "      <th>1190401</th>\n",
       "      <td>167</td>\n",
       "      <td>Ilkay Gündogan</td>\n",
       "      <td>9</td>\n",
       "      <td>NaN</td>\n",
       "      <td>8</td>\n",
       "      <td>NaN</td>\n",
       "      <td>0</td>\n",
       "      <td>8</td>\n",
       "      <td>77464</td>\n",
       "      <td>5</td>\n",
       "      <td>...</td>\n",
       "      <td>NaN</td>\n",
       "      <td>NaN</td>\n",
       "      <td>NaN</td>\n",
       "      <td>NaN</td>\n",
       "      <td>NaN</td>\n",
       "      <td>NaN</td>\n",
       "      <td>NaN</td>\n",
       "      <td>NaN</td>\n",
       "      <td>NaN</td>\n",
       "      <td>NaN</td>\n",
       "    </tr>\n",
       "  </tbody>\n",
       "</table>\n",
       "<p>54708 rows × 37 columns</p>\n",
       "</div>"
      ],
      "text/plain": [
       "         team_id        player_name touches saves total_pass aerial_won  \\\n",
       "match_id                                                                  \n",
       "829513        13  Wojciech Szczesny      20     1         13          1   \n",
       "829513        13     Calum Chambers     111   NaN         93          2   \n",
       "829513        13    Mathieu Debuchy      92   NaN         54          5   \n",
       "829513        13       Kieran Gibbs      44   NaN         34          1   \n",
       "829513        13  Laurent Koscielny      80   NaN         62          2   \n",
       "...          ...                ...     ...   ...        ...        ...   \n",
       "1190401      167         Yaya Touré     NaN   NaN        NaN        NaN   \n",
       "1190401      167      Claudio Bravo     NaN   NaN        NaN        NaN   \n",
       "1190401      167        John Stones     NaN   NaN        NaN        NaN   \n",
       "1190401      167             Danilo     NaN   NaN        NaN        NaN   \n",
       "1190401      167     Ilkay Gündogan       9   NaN          8        NaN   \n",
       "\n",
       "         formation_place accurate_pass player_id player_position_value  ...  \\\n",
       "match_id                                                                ...   \n",
       "829513                 1            11     73379                     1  ...   \n",
       "829513                 5            86    124316                     2  ...   \n",
       "829513                 2            44     11367                     2  ...   \n",
       "829513                 3            26     27550                     2  ...   \n",
       "829513                 6            60     30051                     2  ...   \n",
       "...                  ...           ...       ...                   ...  ...   \n",
       "1190401                0           NaN     14053                     5  ...   \n",
       "1190401                0           NaN     14199                     5  ...   \n",
       "1190401                0           NaN    101374                     5  ...   \n",
       "1190401                0           NaN     88300                     5  ...   \n",
       "1190401                0             8     77464                     5  ...   \n",
       "\n",
       "         six_yard_block post_scoring_att att_pen_target penalty_save  \\\n",
       "match_id                                                               \n",
       "829513              NaN              NaN            NaN          NaN   \n",
       "829513              NaN              NaN            NaN          NaN   \n",
       "829513              NaN              NaN            NaN          NaN   \n",
       "829513              NaN              NaN            NaN          NaN   \n",
       "829513              NaN              NaN            NaN          NaN   \n",
       "...                 ...              ...            ...          ...   \n",
       "1190401             NaN              NaN            NaN          NaN   \n",
       "1190401             NaN              NaN            NaN          NaN   \n",
       "1190401             NaN              NaN            NaN          NaN   \n",
       "1190401             NaN              NaN            NaN          NaN   \n",
       "1190401             NaN              NaN            NaN          NaN   \n",
       "\n",
       "         penalty_conceded clearance_off_line att_pen_goal att_pen_miss  \\\n",
       "match_id                                                                 \n",
       "829513                NaN                NaN          NaN          NaN   \n",
       "829513                NaN                NaN          NaN          NaN   \n",
       "829513                NaN                NaN          NaN          NaN   \n",
       "829513                NaN                NaN          NaN          NaN   \n",
       "829513                NaN                NaN          NaN          NaN   \n",
       "...                   ...                ...          ...          ...   \n",
       "1190401               NaN                NaN          NaN          NaN   \n",
       "1190401               NaN                NaN          NaN          NaN   \n",
       "1190401               NaN                NaN          NaN          NaN   \n",
       "1190401               NaN                NaN          NaN          NaN   \n",
       "1190401               NaN                NaN          NaN          NaN   \n",
       "\n",
       "         own_goals att_pen_post  \n",
       "match_id                         \n",
       "829513         NaN          NaN  \n",
       "829513         NaN          NaN  \n",
       "829513         NaN          NaN  \n",
       "829513         NaN          NaN  \n",
       "829513         NaN          NaN  \n",
       "...            ...          ...  \n",
       "1190401        NaN          NaN  \n",
       "1190401        NaN          NaN  \n",
       "1190401        NaN          NaN  \n",
       "1190401        NaN          NaN  \n",
       "1190401        NaN          NaN  \n",
       "\n",
       "[54708 rows x 37 columns]"
      ]
     },
     "execution_count": 23,
     "metadata": {},
     "output_type": "execute_result"
    }
   ],
   "source": [
    "player_performance_clean"
   ]
  },
  {
   "cell_type": "code",
   "execution_count": 24,
   "metadata": {
    "ExecuteTime": {
     "end_time": "2020-12-17T12:50:32.766971Z",
     "start_time": "2020-12-17T12:50:32.750018Z"
    },
    "hidden": true
   },
   "outputs": [
    {
     "data": {
      "text/html": [
       "<div>\n",
       "<style scoped>\n",
       "    .dataframe tbody tr th:only-of-type {\n",
       "        vertical-align: middle;\n",
       "    }\n",
       "\n",
       "    .dataframe tbody tr th {\n",
       "        vertical-align: top;\n",
       "    }\n",
       "\n",
       "    .dataframe thead th {\n",
       "        text-align: right;\n",
       "    }\n",
       "</style>\n",
       "<table border=\"1\" class=\"dataframe\">\n",
       "  <thead>\n",
       "    <tr style=\"text-align: right;\">\n",
       "      <th></th>\n",
       "      <th>0</th>\n",
       "      <th>1</th>\n",
       "      <th>2</th>\n",
       "      <th>3</th>\n",
       "      <th>4</th>\n",
       "      <th>5</th>\n",
       "    </tr>\n",
       "  </thead>\n",
       "  <tbody>\n",
       "    <tr>\n",
       "      <th>0</th>\n",
       "      <td>None</td>\n",
       "      <td>None</td>\n",
       "      <td>None</td>\n",
       "      <td>None</td>\n",
       "      <td>None</td>\n",
       "      <td>None</td>\n",
       "    </tr>\n",
       "    <tr>\n",
       "      <th>1</th>\n",
       "      <td>1973–74</td>\n",
       "      <td></td>\n",
       "      <td>Norman Hunter</td>\n",
       "      <td>Leeds United</td>\n",
       "      <td></td>\n",
       "      <td>\\n</td>\n",
       "    </tr>\n",
       "    <tr>\n",
       "      <th>2</th>\n",
       "      <td>1974–75</td>\n",
       "      <td></td>\n",
       "      <td>Colin Todd</td>\n",
       "      <td>Derby County</td>\n",
       "      <td></td>\n",
       "      <td>\\n</td>\n",
       "    </tr>\n",
       "    <tr>\n",
       "      <th>3</th>\n",
       "      <td>1975–76</td>\n",
       "      <td></td>\n",
       "      <td>Pat Jennings</td>\n",
       "      <td>Tottenham Hotspur</td>\n",
       "      <td></td>\n",
       "      <td>[17]\\n</td>\n",
       "    </tr>\n",
       "    <tr>\n",
       "      <th>4</th>\n",
       "      <td>1976–77</td>\n",
       "      <td></td>\n",
       "      <td>Andy Gray</td>\n",
       "      <td>Aston Villa</td>\n",
       "      <td>YPY</td>\n",
       "      <td>[18]\\n</td>\n",
       "    </tr>\n",
       "    <tr>\n",
       "      <th>5</th>\n",
       "      <td>1977–78</td>\n",
       "      <td></td>\n",
       "      <td>Peter Shilton</td>\n",
       "      <td>Nottingham Forest</td>\n",
       "      <td></td>\n",
       "      <td>\\n</td>\n",
       "    </tr>\n",
       "    <tr>\n",
       "      <th>6</th>\n",
       "      <td>1978–79</td>\n",
       "      <td></td>\n",
       "      <td>Liam Brady</td>\n",
       "      <td>Arsenal</td>\n",
       "      <td></td>\n",
       "      <td>[19]\\n</td>\n",
       "    </tr>\n",
       "    <tr>\n",
       "      <th>7</th>\n",
       "      <td>1979–80</td>\n",
       "      <td></td>\n",
       "      <td>Terry McDermott</td>\n",
       "      <td>Liverpool</td>\n",
       "      <td>FWA</td>\n",
       "      <td>[20]\\n</td>\n",
       "    </tr>\n",
       "    <tr>\n",
       "      <th>8</th>\n",
       "      <td>1980–81</td>\n",
       "      <td></td>\n",
       "      <td>John Wark</td>\n",
       "      <td>Ipswich Town</td>\n",
       "      <td></td>\n",
       "      <td>\\n</td>\n",
       "    </tr>\n",
       "    <tr>\n",
       "      <th>9</th>\n",
       "      <td>1981–82</td>\n",
       "      <td></td>\n",
       "      <td>Kevin Keegan</td>\n",
       "      <td>Southampton</td>\n",
       "      <td></td>\n",
       "      <td>\\n</td>\n",
       "    </tr>\n",
       "  </tbody>\n",
       "</table>\n",
       "</div>"
      ],
      "text/plain": [
       "         0     1                2                  3     4       5\n",
       "0     None  None             None               None  None    None\n",
       "1  1973–74          Norman Hunter       Leeds United            \\n\n",
       "2  1974–75             Colin Todd       Derby County            \\n\n",
       "3  1975–76           Pat Jennings  Tottenham Hotspur        [17]\\n\n",
       "4  1976–77              Andy Gray        Aston Villa   YPY  [18]\\n\n",
       "5  1977–78          Peter Shilton  Nottingham Forest            \\n\n",
       "6  1978–79             Liam Brady            Arsenal        [19]\\n\n",
       "7  1979–80        Terry McDermott          Liverpool   FWA  [20]\\n\n",
       "8  1980–81              John Wark       Ipswich Town            \\n\n",
       "9  1981–82           Kevin Keegan        Southampton            \\n"
      ]
     },
     "execution_count": 24,
     "metadata": {},
     "output_type": "execute_result"
    }
   ],
   "source": [
    "pfa_award_winners.head(10)\n",
    "\n",
    "#No columns titles\n",
    "#None values\n",
    "#Columns without values\n",
    "#No player ID\n",
    "#Players who have won the award twice include (2) in player name"
   ]
  },
  {
   "cell_type": "markdown",
   "metadata": {
    "hidden": true
   },
   "source": [
    "***Programmatic Assessment***"
   ]
  },
  {
   "cell_type": "code",
   "execution_count": 25,
   "metadata": {
    "ExecuteTime": {
     "end_time": "2020-12-17T12:50:32.779937Z",
     "start_time": "2020-12-17T12:50:32.769964Z"
    },
    "hidden": true
   },
   "outputs": [
    {
     "data": {
      "text/plain": [
       "50                team_id\n",
       "54             total_pass\n",
       "55             aerial_won\n",
       "57          accurate_pass\n",
       "62           total_tackle\n",
       "63            aerial_lost\n",
       "66      total_scoring_att\n",
       "68                  goals\n",
       "69            won_contest\n",
       "70    blocked_scoring_att\n",
       "78       post_scoring_att\n",
       "80           penalty_save\n",
       "83           att_pen_goal\n",
       "dtype: object"
      ]
     },
     "execution_count": 25,
     "metadata": {},
     "output_type": "execute_result"
    }
   ],
   "source": [
    "all_columns = pd.Series(list(match_details_clean) + list(match_results_clean) + list(player_performance_clean))\n",
    "all_columns[all_columns.duplicated()]\n",
    "\n",
    "#Several columns duplicated unneccessarily across 3 dataframes "
   ]
  },
  {
   "cell_type": "code",
   "execution_count": 26,
   "metadata": {
    "ExecuteTime": {
     "end_time": "2020-12-17T12:50:32.812849Z",
     "start_time": "2020-12-17T12:50:32.782929Z"
    },
    "hidden": true
   },
   "outputs": [
    {
     "data": {
      "text/plain": [
       "0"
      ]
     },
     "execution_count": 26,
     "metadata": {},
     "output_type": "execute_result"
    }
   ],
   "source": [
    "sum(match_details_clean.duplicated())\n",
    "\n",
    "#No duplicate records"
   ]
  },
  {
   "cell_type": "code",
   "execution_count": 27,
   "metadata": {
    "ExecuteTime": {
     "end_time": "2020-12-17T12:50:32.827808Z",
     "start_time": "2020-12-17T12:50:32.814844Z"
    },
    "hidden": true
   },
   "outputs": [
    {
     "data": {
      "text/plain": [
       "0"
      ]
     },
     "execution_count": 27,
     "metadata": {},
     "output_type": "execute_result"
    }
   ],
   "source": [
    "sum(match_results_clean.duplicated())\n",
    "\n",
    "#No duplicate records"
   ]
  },
  {
   "cell_type": "code",
   "execution_count": 28,
   "metadata": {
    "ExecuteTime": {
     "end_time": "2020-12-17T12:50:33.111079Z",
     "start_time": "2020-12-17T12:50:32.829803Z"
    },
    "hidden": true
   },
   "outputs": [
    {
     "data": {
      "text/plain": [
       "11572"
      ]
     },
     "execution_count": 28,
     "metadata": {},
     "output_type": "execute_result"
    }
   ],
   "source": [
    "sum(player_performance_clean.duplicated())\n",
    "\n",
    "#All records are duplicated"
   ]
  },
  {
   "cell_type": "code",
   "execution_count": 29,
   "metadata": {
    "ExecuteTime": {
     "end_time": "2020-12-17T12:50:33.120029Z",
     "start_time": "2020-12-17T12:50:33.113048Z"
    },
    "hidden": true
   },
   "outputs": [
    {
     "data": {
      "text/plain": [
       "0"
      ]
     },
     "execution_count": 29,
     "metadata": {},
     "output_type": "execute_result"
    }
   ],
   "source": [
    "sum(pfa_award_winners_clean.duplicated())\n",
    "\n",
    "#No duplicate records"
   ]
  },
  {
   "cell_type": "code",
   "execution_count": 30,
   "metadata": {
    "ExecuteTime": {
     "end_time": "2020-12-17T12:50:33.149946Z",
     "start_time": "2020-12-17T12:50:33.123021Z"
    },
    "hidden": true
   },
   "outputs": [
    {
     "name": "stdout",
     "output_type": "stream",
     "text": [
      "<class 'pandas.core.frame.DataFrame'>\n",
      "Index: 3040 entries, 829513 to 1190401\n",
      "Data columns (total 43 columns):\n",
      " #   Column                 Non-Null Count  Dtype \n",
      "---  ------                 --------------  ----- \n",
      " 0   team_id                3040 non-null   object\n",
      " 1   team_name              3040 non-null   object\n",
      " 2   team_rating            3040 non-null   object\n",
      " 3   date                   3040 non-null   object\n",
      " 4   att_goal_low_left      978 non-null    object\n",
      " 5   won_contest            3038 non-null   object\n",
      " 6   possession_percentage  3040 non-null   object\n",
      " 7   total_throws           3040 non-null   object\n",
      " 8   att_miss_high_left     1018 non-null   object\n",
      " 9   blocked_scoring_att    2837 non-null   object\n",
      " 10  total_scoring_att      3039 non-null   object\n",
      " 11  att_sv_low_left        1324 non-null   object\n",
      " 12  total_tackle           3040 non-null   object\n",
      " 13  att_miss_high_right    1185 non-null   object\n",
      " 14  aerial_won             3040 non-null   object\n",
      " 15  att_miss_right         2238 non-null   object\n",
      " 16  att_sv_low_centre      1970 non-null   object\n",
      " 17  aerial_lost            3040 non-null   object\n",
      " 18  accurate_pass          3040 non-null   object\n",
      " 19  total_pass             3040 non-null   object\n",
      " 20  won_corners            2981 non-null   object\n",
      " 21  shot_off_target        2998 non-null   object\n",
      " 22  ontarget_scoring_att   2958 non-null   object\n",
      " 23  goals                  2161 non-null   object\n",
      " 24  att_miss_left          2228 non-null   object\n",
      " 25  fk_foul_lost           3040 non-null   object\n",
      " 26  att_sv_low_right       1362 non-null   object\n",
      " 27  att_goal_low_centre    624 non-null    object\n",
      " 28  total_offside          2493 non-null   object\n",
      " 29  att_sv_high_left       433 non-null    object\n",
      " 30  att_goal_high_left     292 non-null    object\n",
      " 31  att_miss_high          1984 non-null   object\n",
      " 32  att_goal_low_right     922 non-null    object\n",
      " 33  att_goal_high_right    336 non-null    object\n",
      " 34  att_sv_high_centre     760 non-null    object\n",
      " 35  att_post_high          277 non-null    object\n",
      " 36  post_scoring_att       603 non-null    object\n",
      " 37  att_sv_high_right      465 non-null    object\n",
      " 38  penalty_save           64 non-null     object\n",
      " 39  att_pen_goal           262 non-null    object\n",
      " 40  att_post_right         189 non-null    object\n",
      " 41  att_post_left          184 non-null    object\n",
      " 42  att_goal_high_centre   231 non-null    object\n",
      "dtypes: object(43)\n",
      "memory usage: 1.0+ MB\n"
     ]
    }
   ],
   "source": [
    "match_details_clean.info()\n",
    "\n",
    "#Date format\n",
    "#Several columns should be stored as either int or float"
   ]
  },
  {
   "cell_type": "code",
   "execution_count": 31,
   "metadata": {
    "ExecuteTime": {
     "end_time": "2020-12-17T12:50:33.162914Z",
     "start_time": "2020-12-17T12:50:33.151941Z"
    },
    "hidden": true
   },
   "outputs": [
    {
     "name": "stdout",
     "output_type": "stream",
     "text": [
      "<class 'pandas.core.frame.DataFrame'>\n",
      "Index: 1520 entries, 829513 to 1190401\n",
      "Data columns (total 7 columns):\n",
      " #   Column           Non-Null Count  Dtype \n",
      "---  ------           --------------  ----- \n",
      " 0   home_team_id     1520 non-null   object\n",
      " 1   away_team_id     1520 non-null   object\n",
      " 2   home_team_name   1520 non-null   object\n",
      " 3   away_team_name   1520 non-null   object\n",
      " 4   date_string      1520 non-null   object\n",
      " 5   half_time_score  1520 non-null   object\n",
      " 6   full_time_score  1520 non-null   object\n",
      "dtypes: object(7)\n",
      "memory usage: 95.0+ KB\n"
     ]
    }
   ],
   "source": [
    "match_results_clean.info()\n",
    "\n",
    "#Date format\n",
    "#Several columns should be stored as either int or float"
   ]
  },
  {
   "cell_type": "code",
   "execution_count": 32,
   "metadata": {
    "ExecuteTime": {
     "end_time": "2020-12-17T12:50:33.307553Z",
     "start_time": "2020-12-17T12:50:33.165906Z"
    },
    "hidden": true
   },
   "outputs": [
    {
     "name": "stdout",
     "output_type": "stream",
     "text": [
      "<class 'pandas.core.frame.DataFrame'>\n",
      "Index: 54708 entries, 829513 to 1190401\n",
      "Data columns (total 37 columns):\n",
      " #   Column                 Non-Null Count  Dtype \n",
      "---  ------                 --------------  ----- \n",
      " 0   team_id                54708 non-null  object\n",
      " 1   player_name            54708 non-null  object\n",
      " 2   touches                41647 non-null  object\n",
      " 3   saves                  2799 non-null   object\n",
      " 4   total_pass             41431 non-null  object\n",
      " 5   aerial_won             22634 non-null  object\n",
      " 6   formation_place        54708 non-null  object\n",
      " 7   accurate_pass          41159 non-null  object\n",
      " 8   player_id              54708 non-null  object\n",
      " 9   player_position_value  54708 non-null  object\n",
      " 10  player_position_info   54708 non-null  object\n",
      " 11  player_rating          54708 non-null  object\n",
      " 12  total_tackle           25045 non-null  object\n",
      " 13  aerial_lost            23989 non-null  object\n",
      " 14  fouls                  20831 non-null  object\n",
      " 15  yellow_card            5102 non-null   object\n",
      " 16  total_scoring_att      20127 non-null  object\n",
      " 17  man_of_the_match       1520 non-null   object\n",
      " 18  goals                  3526 non-null   object\n",
      " 19  won_contest            16318 non-null  object\n",
      " 20  blocked_scoring_att    8288 non-null   object\n",
      " 21  goal_assist            2624 non-null   object\n",
      " 22  good_high_claim        1867 non-null   object\n",
      " 23  second_yellow          97 non-null     object\n",
      " 24  red_card               210 non-null    object\n",
      " 25  error_lead_to_goal     534 non-null    object\n",
      " 26  last_man_tackle        234 non-null    object\n",
      " 27  six_yard_block         794 non-null    object\n",
      " 28  post_scoring_att       662 non-null    object\n",
      " 29  att_pen_target         65 non-null     object\n",
      " 30  penalty_save           64 non-null     object\n",
      " 31  penalty_conceded       359 non-null    object\n",
      " 32  clearance_off_line     284 non-null    object\n",
      " 33  att_pen_goal           266 non-null    object\n",
      " 34  att_pen_miss           14 non-null     object\n",
      " 35  own_goals              136 non-null    object\n",
      " 36  att_pen_post           6 non-null      object\n",
      "dtypes: object(37)\n",
      "memory usage: 15.9+ MB\n"
     ]
    }
   ],
   "source": [
    "player_performance_clean.info()\n",
    "\n",
    "#Several columns should be stored as either int or float"
   ]
  },
  {
   "cell_type": "code",
   "execution_count": 33,
   "metadata": {
    "ExecuteTime": {
     "end_time": "2020-12-17T12:50:33.319495Z",
     "start_time": "2020-12-17T12:50:33.309520Z"
    },
    "hidden": true
   },
   "outputs": [
    {
     "name": "stdout",
     "output_type": "stream",
     "text": [
      "<class 'pandas.core.frame.DataFrame'>\n",
      "RangeIndex: 48 entries, 0 to 47\n",
      "Data columns (total 6 columns):\n",
      " #   Column  Non-Null Count  Dtype \n",
      "---  ------  --------------  ----- \n",
      " 0   0       47 non-null     object\n",
      " 1   1       47 non-null     object\n",
      " 2   2       47 non-null     object\n",
      " 3   3       47 non-null     object\n",
      " 4   4       47 non-null     object\n",
      " 5   5       47 non-null     object\n",
      "dtypes: object(6)\n",
      "memory usage: 2.4+ KB\n"
     ]
    }
   ],
   "source": [
    "pfa_award_winners_clean.info()\n",
    "\n",
    "#Several columns should be stored as either int or float"
   ]
  },
  {
   "cell_type": "markdown",
   "metadata": {
    "hidden": true
   },
   "source": [
    "***Action Points***"
   ]
  },
  {
   "cell_type": "markdown",
   "metadata": {
    "hidden": true
   },
   "source": [
    "`match_details_clean`\n",
    "\n",
    "    - Column formats\n",
    "    - Inconsistent team rating decimal places    \n",
    "    - Column duplicates\n",
    "    \n",
    "`match_results_clean`\n",
    "\n",
    "    - Column formats\n",
    "    - Inconsistent date column title\n",
    "    - Column duplicates\n",
    "    \n",
    "`player_performance_clean`\n",
    "\n",
    "    - Duplicate records\n",
    "    - Column formats\n",
    "    \n",
    "`pfa_award_winners`\n",
    "\n",
    "    - None values\n",
    "    - Columns without values\n",
    "    - Columns titles\n",
    "    - Column formats\n",
    "    - Player ID\n",
    "    - (2) included in player name "
   ]
  },
  {
   "cell_type": "markdown",
   "metadata": {
    "heading_collapsed": true,
    "hidden": true
   },
   "source": [
    "### Cleaning Data\n",
    "<a id='clean'></a>\n",
    "\n",
    "Through leveraging the action points noted in the Assessing Data section, I will chronologically clean all dataframes."
   ]
  },
  {
   "cell_type": "markdown",
   "metadata": {
    "heading_collapsed": true,
    "hidden": true
   },
   "source": [
    "#### `match_details_clean`"
   ]
  },
  {
   "cell_type": "markdown",
   "metadata": {
    "hidden": true
   },
   "source": [
    "*Define:*\n",
    "\n",
    "    - Several columns have incorrect format types\n",
    "    - Team Rating should be rounded to 1 decimal\n",
    "    - I will correct the date types using astype and to_numeric. I will use round to define the number of decimals for the Team Rating\n",
    "\n",
    "(Moffitt, 2018)\n",
    "\n",
    "*Code:*"
   ]
  },
  {
   "cell_type": "code",
   "execution_count": 34,
   "metadata": {
    "ExecuteTime": {
     "end_time": "2020-12-17T12:50:33.338470Z",
     "start_time": "2020-12-17T12:50:33.322486Z"
    },
    "hidden": true
   },
   "outputs": [],
   "source": [
    "match_details_clean['team_id'] = match_details_clean['team_id'].astype('int')\n",
    "match_details_clean['team_name'] = match_details_clean['team_name'].astype('str')\n",
    "match_details_clean['team_rating'] = match_details_clean['team_rating'].astype('float').round(decimals=1)"
   ]
  },
  {
   "cell_type": "code",
   "execution_count": 35,
   "metadata": {
    "ExecuteTime": {
     "end_time": "2020-12-17T12:50:33.466101Z",
     "start_time": "2020-12-17T12:50:33.340437Z"
    },
    "hidden": true
   },
   "outputs": [],
   "source": [
    "match_details_clean[match_details_clean.columns[4:42]] = match_details_clean[match_details_clean.columns[4:42]].apply(pd.to_numeric) "
   ]
  },
  {
   "cell_type": "markdown",
   "metadata": {
    "hidden": true
   },
   "source": [
    "*Test:*"
   ]
  },
  {
   "cell_type": "code",
   "execution_count": 36,
   "metadata": {
    "ExecuteTime": {
     "end_time": "2020-12-17T12:50:33.487046Z",
     "start_time": "2020-12-17T12:50:33.468095Z"
    },
    "hidden": true
   },
   "outputs": [
    {
     "name": "stdout",
     "output_type": "stream",
     "text": [
      "<class 'pandas.core.frame.DataFrame'>\n",
      "Index: 3040 entries, 829513 to 1190401\n",
      "Data columns (total 43 columns):\n",
      " #   Column                 Non-Null Count  Dtype  \n",
      "---  ------                 --------------  -----  \n",
      " 0   team_id                3040 non-null   int32  \n",
      " 1   team_name              3040 non-null   object \n",
      " 2   team_rating            3040 non-null   float64\n",
      " 3   date                   3040 non-null   object \n",
      " 4   att_goal_low_left      978 non-null    float64\n",
      " 5   won_contest            3038 non-null   float64\n",
      " 6   possession_percentage  3040 non-null   float64\n",
      " 7   total_throws           3040 non-null   int64  \n",
      " 8   att_miss_high_left     1018 non-null   float64\n",
      " 9   blocked_scoring_att    2837 non-null   float64\n",
      " 10  total_scoring_att      3039 non-null   float64\n",
      " 11  att_sv_low_left        1324 non-null   float64\n",
      " 12  total_tackle           3040 non-null   int64  \n",
      " 13  att_miss_high_right    1185 non-null   float64\n",
      " 14  aerial_won             3040 non-null   int64  \n",
      " 15  att_miss_right         2238 non-null   float64\n",
      " 16  att_sv_low_centre      1970 non-null   float64\n",
      " 17  aerial_lost            3040 non-null   int64  \n",
      " 18  accurate_pass          3040 non-null   int64  \n",
      " 19  total_pass             3040 non-null   int64  \n",
      " 20  won_corners            2981 non-null   float64\n",
      " 21  shot_off_target        2998 non-null   float64\n",
      " 22  ontarget_scoring_att   2958 non-null   float64\n",
      " 23  goals                  2161 non-null   float64\n",
      " 24  att_miss_left          2228 non-null   float64\n",
      " 25  fk_foul_lost           3040 non-null   int64  \n",
      " 26  att_sv_low_right       1362 non-null   float64\n",
      " 27  att_goal_low_centre    624 non-null    float64\n",
      " 28  total_offside          2493 non-null   float64\n",
      " 29  att_sv_high_left       433 non-null    float64\n",
      " 30  att_goal_high_left     292 non-null    float64\n",
      " 31  att_miss_high          1984 non-null   float64\n",
      " 32  att_goal_low_right     922 non-null    float64\n",
      " 33  att_goal_high_right    336 non-null    float64\n",
      " 34  att_sv_high_centre     760 non-null    float64\n",
      " 35  att_post_high          277 non-null    float64\n",
      " 36  post_scoring_att       603 non-null    float64\n",
      " 37  att_sv_high_right      465 non-null    float64\n",
      " 38  penalty_save           64 non-null     float64\n",
      " 39  att_pen_goal           262 non-null    float64\n",
      " 40  att_post_right         189 non-null    float64\n",
      " 41  att_post_left          184 non-null    float64\n",
      " 42  att_goal_high_centre   231 non-null    object \n",
      "dtypes: float64(32), int32(1), int64(7), object(3)\n",
      "memory usage: 1.0+ MB\n"
     ]
    }
   ],
   "source": [
    "match_details_clean.info()"
   ]
  },
  {
   "cell_type": "markdown",
   "metadata": {
    "hidden": true
   },
   "source": [
    "*Define:*\n",
    "\n",
    "    - The date column is redundant as it will be stored in match_results\n",
    "    - I will remove the columns using drop\n",
    "    \n",
    "*Code:*"
   ]
  },
  {
   "cell_type": "code",
   "execution_count": 37,
   "metadata": {
    "ExecuteTime": {
     "end_time": "2020-12-17T12:50:33.496020Z",
     "start_time": "2020-12-17T12:50:33.489039Z"
    },
    "hidden": true
   },
   "outputs": [],
   "source": [
    "match_details_clean.drop('date', axis=1, inplace=True)"
   ]
  },
  {
   "cell_type": "markdown",
   "metadata": {
    "hidden": true
   },
   "source": [
    "*Test*"
   ]
  },
  {
   "cell_type": "code",
   "execution_count": 38,
   "metadata": {
    "ExecuteTime": {
     "end_time": "2020-12-17T12:50:33.505000Z",
     "start_time": "2020-12-17T12:50:33.499015Z"
    },
    "hidden": true
   },
   "outputs": [
    {
     "data": {
      "text/plain": [
       "Index(['team_id', 'team_name', 'team_rating', 'att_goal_low_left',\n",
       "       'won_contest', 'possession_percentage', 'total_throws',\n",
       "       'att_miss_high_left', 'blocked_scoring_att', 'total_scoring_att',\n",
       "       'att_sv_low_left', 'total_tackle', 'att_miss_high_right', 'aerial_won',\n",
       "       'att_miss_right', 'att_sv_low_centre', 'aerial_lost', 'accurate_pass',\n",
       "       'total_pass', 'won_corners', 'shot_off_target', 'ontarget_scoring_att',\n",
       "       'goals', 'att_miss_left', 'fk_foul_lost', 'att_sv_low_right',\n",
       "       'att_goal_low_centre', 'total_offside', 'att_sv_high_left',\n",
       "       'att_goal_high_left', 'att_miss_high', 'att_goal_low_right',\n",
       "       'att_goal_high_right', 'att_sv_high_centre', 'att_post_high',\n",
       "       'post_scoring_att', 'att_sv_high_right', 'penalty_save', 'att_pen_goal',\n",
       "       'att_post_right', 'att_post_left', 'att_goal_high_centre'],\n",
       "      dtype='object')"
      ]
     },
     "execution_count": 38,
     "metadata": {},
     "output_type": "execute_result"
    }
   ],
   "source": [
    "match_details_clean.columns"
   ]
  },
  {
   "cell_type": "markdown",
   "metadata": {
    "heading_collapsed": true,
    "hidden": true
   },
   "source": [
    "#### `match_results_clean`"
   ]
  },
  {
   "cell_type": "markdown",
   "metadata": {
    "hidden": true
   },
   "source": [
    "*Define:*\n",
    "    \n",
    "    - Several columns formats are incorrect\n",
    "    - I will correct the date types using astype and to_datetime\n",
    "    \n",
    "*Code:*"
   ]
  },
  {
   "cell_type": "code",
   "execution_count": 39,
   "metadata": {
    "ExecuteTime": {
     "end_time": "2020-12-17T12:50:33.515973Z",
     "start_time": "2020-12-17T12:50:33.506991Z"
    },
    "hidden": true
   },
   "outputs": [],
   "source": [
    "match_results_clean[['home_team_id', 'away_team_id']] = match_results_clean[['home_team_id', 'away_team_id']].astype('int')"
   ]
  },
  {
   "cell_type": "code",
   "execution_count": 40,
   "metadata": {
    "ExecuteTime": {
     "end_time": "2020-12-17T12:50:33.663572Z",
     "start_time": "2020-12-17T12:50:33.518959Z"
    },
    "hidden": true
   },
   "outputs": [],
   "source": [
    "match_results_clean['date_string'] = pd.to_datetime(match_results_clean['date_string'],errors='coerce')"
   ]
  },
  {
   "cell_type": "code",
   "execution_count": 41,
   "metadata": {
    "ExecuteTime": {
     "end_time": "2020-12-17T12:50:33.677534Z",
     "start_time": "2020-12-17T12:50:33.667562Z"
    },
    "hidden": true
   },
   "outputs": [],
   "source": [
    "match_results_clean[['half_time_score', 'full_time_score']] = match_results_clean[['half_time_score', 'full_time_score']].astype('str')"
   ]
  },
  {
   "cell_type": "markdown",
   "metadata": {
    "hidden": true
   },
   "source": [
    "*Test:*"
   ]
  },
  {
   "cell_type": "code",
   "execution_count": 42,
   "metadata": {
    "ExecuteTime": {
     "end_time": "2020-12-17T12:50:33.709449Z",
     "start_time": "2020-12-17T12:50:33.680527Z"
    },
    "hidden": true
   },
   "outputs": [
    {
     "name": "stdout",
     "output_type": "stream",
     "text": [
      "<class 'pandas.core.frame.DataFrame'>\n",
      "Index: 1520 entries, 829513 to 1190401\n",
      "Data columns (total 7 columns):\n",
      " #   Column           Non-Null Count  Dtype         \n",
      "---  ------           --------------  -----         \n",
      " 0   home_team_id     1520 non-null   int32         \n",
      " 1   away_team_id     1520 non-null   int32         \n",
      " 2   home_team_name   1520 non-null   object        \n",
      " 3   away_team_name   1520 non-null   object        \n",
      " 4   date_string      1519 non-null   datetime64[ns]\n",
      " 5   half_time_score  1520 non-null   object        \n",
      " 6   full_time_score  1520 non-null   object        \n",
      "dtypes: datetime64[ns](1), int32(2), object(4)\n",
      "memory usage: 83.1+ KB\n"
     ]
    }
   ],
   "source": [
    "match_results_clean.info()"
   ]
  },
  {
   "cell_type": "markdown",
   "metadata": {
    "hidden": true
   },
   "source": [
    "*Define:*\n",
    "\n",
    "    - Date column title\n",
    "    - I will rename the column\n",
    "    \n",
    "*Code:*"
   ]
  },
  {
   "cell_type": "code",
   "execution_count": 43,
   "metadata": {
    "ExecuteTime": {
     "end_time": "2020-12-17T12:50:33.718425Z",
     "start_time": "2020-12-17T12:50:33.712441Z"
    },
    "hidden": true
   },
   "outputs": [],
   "source": [
    "match_results_clean.rename(columns={'date_string':'date'}, inplace=True)"
   ]
  },
  {
   "cell_type": "markdown",
   "metadata": {
    "hidden": true
   },
   "source": [
    "*Test:*"
   ]
  },
  {
   "cell_type": "code",
   "execution_count": 44,
   "metadata": {
    "ExecuteTime": {
     "end_time": "2020-12-17T12:50:33.728399Z",
     "start_time": "2020-12-17T12:50:33.721417Z"
    },
    "hidden": true
   },
   "outputs": [
    {
     "data": {
      "text/plain": [
       "Index(['home_team_id', 'away_team_id', 'home_team_name', 'away_team_name',\n",
       "       'date', 'half_time_score', 'full_time_score'],\n",
       "      dtype='object')"
      ]
     },
     "execution_count": 44,
     "metadata": {},
     "output_type": "execute_result"
    }
   ],
   "source": [
    "match_results_clean.columns"
   ]
  },
  {
   "cell_type": "markdown",
   "metadata": {
    "hidden": true
   },
   "source": [
    "*Define:*\n",
    "\n",
    "    - It is redundant to hold team name as I will be storing this value in match_details\n",
    "    - I will use drop to remove the columns\n",
    "    \n",
    "*Code:*"
   ]
  },
  {
   "cell_type": "code",
   "execution_count": 45,
   "metadata": {
    "ExecuteTime": {
     "end_time": "2020-12-17T12:50:33.738372Z",
     "start_time": "2020-12-17T12:50:33.731391Z"
    },
    "hidden": true
   },
   "outputs": [],
   "source": [
    "match_results_clean.drop(['home_team_name', 'away_team_name'], axis=1, inplace=True)"
   ]
  },
  {
   "cell_type": "markdown",
   "metadata": {
    "hidden": true
   },
   "source": [
    "*Test:*"
   ]
  },
  {
   "cell_type": "code",
   "execution_count": 46,
   "metadata": {
    "ExecuteTime": {
     "end_time": "2020-12-17T12:50:33.752335Z",
     "start_time": "2020-12-17T12:50:33.741365Z"
    },
    "hidden": true
   },
   "outputs": [
    {
     "data": {
      "text/plain": [
       "Index(['home_team_id', 'away_team_id', 'date', 'half_time_score',\n",
       "       'full_time_score'],\n",
       "      dtype='object')"
      ]
     },
     "execution_count": 46,
     "metadata": {},
     "output_type": "execute_result"
    }
   ],
   "source": [
    "match_results_clean.columns"
   ]
  },
  {
   "cell_type": "markdown",
   "metadata": {
    "hidden": true
   },
   "source": [
    "*Define:*\n",
    "\n",
    "    - Half time and full time score columns require splitting into new columns and converting into integer values\n",
    "    - I will use split and expand to create new columns of data. I will then merge the new columns and drop the legacy score columns \n",
    "    - Finally, I will convert the columns to int using astype\n",
    "    \n",
    "*Code:*"
   ]
  },
  {
   "cell_type": "code",
   "execution_count": 47,
   "metadata": {
    "ExecuteTime": {
     "end_time": "2020-12-17T12:50:33.821151Z",
     "start_time": "2020-12-17T12:50:33.759316Z"
    },
    "hidden": true
   },
   "outputs": [],
   "source": [
    "half = match_results_clean['half_time_score'].str.split(':', expand=True)\n",
    "half = half.rename(columns={0:'home_team_half_time', 1:'away_team_half_time'})\n",
    "half['ind'] = match_results_clean.index\n",
    "\n",
    "full = match_results_clean['full_time_score'].str.split(':', expand=True)\n",
    "full = full.rename(columns={0:'home_team_full_time', 1:'away_team_full_time'})\n",
    "full['ind'] = match_results_clean.index\n",
    "\n",
    "new = pd.merge(half, full, left_on='ind', right_on='ind')\n",
    "\n",
    "match_results_clean = pd.merge(match_results_clean, new, left_index=True, right_on='ind').rename(columns={'ind':'match_id'}).set_index('match_id').drop(columns=['half_time_score', 'full_time_score'])"
   ]
  },
  {
   "cell_type": "code",
   "execution_count": 48,
   "metadata": {
    "ExecuteTime": {
     "end_time": "2020-12-17T12:50:33.837108Z",
     "start_time": "2020-12-17T12:50:33.825140Z"
    },
    "hidden": true
   },
   "outputs": [],
   "source": [
    "match_results_clean[match_results_clean.columns[3:]] = match_results_clean[match_results_clean.columns[3:]].astype('int')"
   ]
  },
  {
   "cell_type": "markdown",
   "metadata": {
    "hidden": true
   },
   "source": [
    "*Test:*"
   ]
  },
  {
   "cell_type": "code",
   "execution_count": 49,
   "metadata": {
    "ExecuteTime": {
     "end_time": "2020-12-17T12:50:33.873012Z",
     "start_time": "2020-12-17T12:50:33.840100Z"
    },
    "hidden": true
   },
   "outputs": [
    {
     "name": "stdout",
     "output_type": "stream",
     "text": [
      "<class 'pandas.core.frame.DataFrame'>\n",
      "Index: 1520 entries, 829513 to 1190401\n",
      "Data columns (total 7 columns):\n",
      " #   Column               Non-Null Count  Dtype         \n",
      "---  ------               --------------  -----         \n",
      " 0   home_team_id         1520 non-null   int32         \n",
      " 1   away_team_id         1520 non-null   int32         \n",
      " 2   date                 1519 non-null   datetime64[ns]\n",
      " 3   home_team_half_time  1520 non-null   int32         \n",
      " 4   away_team_half_time  1520 non-null   int32         \n",
      " 5   home_team_full_time  1520 non-null   int32         \n",
      " 6   away_team_full_time  1520 non-null   int32         \n",
      "dtypes: datetime64[ns](1), int32(6)\n",
      "memory usage: 59.4+ KB\n"
     ]
    }
   ],
   "source": [
    "match_results_clean.info()"
   ]
  },
  {
   "cell_type": "markdown",
   "metadata": {
    "heading_collapsed": true,
    "hidden": true
   },
   "source": [
    "#### `player_performance_clean`"
   ]
  },
  {
   "cell_type": "markdown",
   "metadata": {
    "hidden": true
   },
   "source": [
    "*Define*\n",
    "\n",
    "    - All row entries are duplicated\n",
    "    - I will use drop_duplicates to remove redundant row entries\n",
    "    \n",
    "*Code:*"
   ]
  },
  {
   "cell_type": "code",
   "execution_count": 50,
   "metadata": {
    "ExecuteTime": {
     "end_time": "2020-12-17T12:50:34.197164Z",
     "start_time": "2020-12-17T12:50:33.876004Z"
    },
    "hidden": true
   },
   "outputs": [],
   "source": [
    "player_performance_clean.drop_duplicates(inplace=True)"
   ]
  },
  {
   "cell_type": "markdown",
   "metadata": {
    "hidden": true
   },
   "source": [
    "*Test:*"
   ]
  },
  {
   "cell_type": "code",
   "execution_count": 51,
   "metadata": {
    "ExecuteTime": {
     "end_time": "2020-12-17T12:50:34.542238Z",
     "start_time": "2020-12-17T12:50:34.200157Z"
    },
    "hidden": true
   },
   "outputs": [
    {
     "data": {
      "text/plain": [
       "0"
      ]
     },
     "execution_count": 51,
     "metadata": {},
     "output_type": "execute_result"
    }
   ],
   "source": [
    "sum(player_performance_clean.duplicated())"
   ]
  },
  {
   "cell_type": "markdown",
   "metadata": {
    "hidden": true
   },
   "source": [
    "*Define:*\n",
    "\n",
    "    - Incorrect columns formats\n",
    "    - I will use astype and to_numeric to correct column formats\n",
    "\n",
    "*Code:*"
   ]
  },
  {
   "cell_type": "code",
   "execution_count": 52,
   "metadata": {
    "ExecuteTime": {
     "end_time": "2020-12-17T12:50:34.576148Z",
     "start_time": "2020-12-17T12:50:34.546229Z"
    },
    "hidden": true
   },
   "outputs": [],
   "source": [
    "player_performance_clean['player_name'] = player_performance_clean['player_name'].astype('str')"
   ]
  },
  {
   "cell_type": "code",
   "execution_count": 53,
   "metadata": {
    "ExecuteTime": {
     "end_time": "2020-12-17T12:50:34.608062Z",
     "start_time": "2020-12-17T12:50:34.579140Z"
    },
    "hidden": true
   },
   "outputs": [],
   "source": [
    "player_performance_clean['player_position_info'] = player_performance_clean['player_position_info'].astype('str')"
   ]
  },
  {
   "cell_type": "code",
   "execution_count": 54,
   "metadata": {
    "ExecuteTime": {
     "end_time": "2020-12-17T12:50:34.669896Z",
     "start_time": "2020-12-17T12:50:34.611055Z"
    },
    "hidden": true
   },
   "outputs": [],
   "source": [
    "player_performance_clean['player_rating'] = player_performance_clean['player_rating'].astype('float').round(decimals=1)"
   ]
  },
  {
   "cell_type": "code",
   "execution_count": 55,
   "metadata": {
    "ExecuteTime": {
     "end_time": "2020-12-17T12:50:35.702547Z",
     "start_time": "2020-12-17T12:50:34.672889Z"
    },
    "hidden": true
   },
   "outputs": [],
   "source": [
    "player_performance_clean['team_id'] = player_performance_clean['team_id'].astype('int')\n",
    "player_performance_clean[player_performance_clean.columns[2:10]] = player_performance_clean[player_performance_clean.columns[2:10]].apply(pd.to_numeric)\n",
    "player_performance_clean[player_performance_clean.columns[12:]] = player_performance_clean[player_performance_clean.columns[12:]].apply(pd.to_numeric)"
   ]
  },
  {
   "cell_type": "markdown",
   "metadata": {
    "hidden": true
   },
   "source": [
    "*Test:*"
   ]
  },
  {
   "cell_type": "code",
   "execution_count": 56,
   "metadata": {
    "ExecuteTime": {
     "end_time": "2020-12-17T12:50:35.753682Z",
     "start_time": "2020-12-17T12:50:35.705537Z"
    },
    "hidden": true
   },
   "outputs": [
    {
     "name": "stdout",
     "output_type": "stream",
     "text": [
      "<class 'pandas.core.frame.DataFrame'>\n",
      "Index: 43136 entries, 829513 to 1190401\n",
      "Data columns (total 37 columns):\n",
      " #   Column                 Non-Null Count  Dtype  \n",
      "---  ------                 --------------  -----  \n",
      " 0   team_id                43136 non-null  int32  \n",
      " 1   player_name            43136 non-null  object \n",
      " 2   touches                41644 non-null  float64\n",
      " 3   saves                  2799 non-null   float64\n",
      " 4   total_pass             41428 non-null  float64\n",
      " 5   aerial_won             22634 non-null  float64\n",
      " 6   formation_place        43136 non-null  int64  \n",
      " 7   accurate_pass          41156 non-null  float64\n",
      " 8   player_id              43136 non-null  int64  \n",
      " 9   player_position_value  43136 non-null  int64  \n",
      " 10  player_position_info   43136 non-null  object \n",
      " 11  player_rating          43136 non-null  float64\n",
      " 12  total_tackle           25045 non-null  float64\n",
      " 13  aerial_lost            23989 non-null  float64\n",
      " 14  fouls                  20831 non-null  float64\n",
      " 15  yellow_card            5102 non-null   float64\n",
      " 16  total_scoring_att      20127 non-null  float64\n",
      " 17  man_of_the_match       1520 non-null   float64\n",
      " 18  goals                  3526 non-null   float64\n",
      " 19  won_contest            16318 non-null  float64\n",
      " 20  blocked_scoring_att    8288 non-null   float64\n",
      " 21  goal_assist            2624 non-null   float64\n",
      " 22  good_high_claim        1867 non-null   float64\n",
      " 23  second_yellow          97 non-null     float64\n",
      " 24  red_card               210 non-null    float64\n",
      " 25  error_lead_to_goal     534 non-null    float64\n",
      " 26  last_man_tackle        234 non-null    float64\n",
      " 27  six_yard_block         794 non-null    float64\n",
      " 28  post_scoring_att       662 non-null    float64\n",
      " 29  att_pen_target         65 non-null     float64\n",
      " 30  penalty_save           64 non-null     float64\n",
      " 31  penalty_conceded       359 non-null    float64\n",
      " 32  clearance_off_line     284 non-null    float64\n",
      " 33  att_pen_goal           266 non-null    float64\n",
      " 34  att_pen_miss           14 non-null     float64\n",
      " 35  own_goals              136 non-null    float64\n",
      " 36  att_pen_post           6 non-null      float64\n",
      "dtypes: float64(31), int32(1), int64(3), object(2)\n",
      "memory usage: 12.3+ MB\n"
     ]
    }
   ],
   "source": [
    "player_performance_clean.info()"
   ]
  },
  {
   "cell_type": "markdown",
   "metadata": {
    "heading_collapsed": true,
    "hidden": true
   },
   "source": [
    "#### `pfa_award_winners`"
   ]
  },
  {
   "cell_type": "markdown",
   "metadata": {
    "hidden": true
   },
   "source": [
    "*Define:*\n",
    "\n",
    "    - Entry 0 has None values\n",
    "    - Using dropna I will remove these nones, I will then reset the index to ensure the dataframe begins at row 0\n",
    "    \n",
    "*Code:*"
   ]
  },
  {
   "cell_type": "code",
   "execution_count": 57,
   "metadata": {
    "ExecuteTime": {
     "end_time": "2020-12-17T12:50:35.800556Z",
     "start_time": "2020-12-17T12:50:35.756671Z"
    },
    "hidden": true
   },
   "outputs": [],
   "source": [
    "pfa_award_winners_clean.dropna(inplace=True)\n",
    "pfa_award_winners_clean.reset_index(inplace=True)\n",
    "pfa_award_winners_clean.drop('index', axis=1, inplace=True)"
   ]
  },
  {
   "cell_type": "markdown",
   "metadata": {
    "hidden": true
   },
   "source": [
    "*Test:*"
   ]
  },
  {
   "cell_type": "code",
   "execution_count": 58,
   "metadata": {
    "ExecuteTime": {
     "end_time": "2020-12-17T12:50:35.815515Z",
     "start_time": "2020-12-17T12:50:35.803548Z"
    },
    "hidden": true
   },
   "outputs": [
    {
     "data": {
      "text/html": [
       "<div>\n",
       "<style scoped>\n",
       "    .dataframe tbody tr th:only-of-type {\n",
       "        vertical-align: middle;\n",
       "    }\n",
       "\n",
       "    .dataframe tbody tr th {\n",
       "        vertical-align: top;\n",
       "    }\n",
       "\n",
       "    .dataframe thead th {\n",
       "        text-align: right;\n",
       "    }\n",
       "</style>\n",
       "<table border=\"1\" class=\"dataframe\">\n",
       "  <thead>\n",
       "    <tr style=\"text-align: right;\">\n",
       "      <th></th>\n",
       "      <th>0</th>\n",
       "      <th>1</th>\n",
       "      <th>2</th>\n",
       "      <th>3</th>\n",
       "      <th>4</th>\n",
       "      <th>5</th>\n",
       "    </tr>\n",
       "  </thead>\n",
       "  <tbody>\n",
       "    <tr>\n",
       "      <th>0</th>\n",
       "      <td>1973–74</td>\n",
       "      <td></td>\n",
       "      <td>Norman Hunter</td>\n",
       "      <td>Leeds United</td>\n",
       "      <td></td>\n",
       "      <td>\\n</td>\n",
       "    </tr>\n",
       "    <tr>\n",
       "      <th>1</th>\n",
       "      <td>1974–75</td>\n",
       "      <td></td>\n",
       "      <td>Colin Todd</td>\n",
       "      <td>Derby County</td>\n",
       "      <td></td>\n",
       "      <td>\\n</td>\n",
       "    </tr>\n",
       "  </tbody>\n",
       "</table>\n",
       "</div>"
      ],
      "text/plain": [
       "         0 1              2             3 4   5\n",
       "0  1973–74    Norman Hunter  Leeds United    \\n\n",
       "1  1974–75       Colin Todd  Derby County    \\n"
      ]
     },
     "execution_count": 58,
     "metadata": {},
     "output_type": "execute_result"
    }
   ],
   "source": [
    "pfa_award_winners_clean.head(2)"
   ]
  },
  {
   "cell_type": "markdown",
   "metadata": {
    "hidden": true
   },
   "source": [
    "*Define:*\n",
    "\n",
    "    - Several columns do not contain any data/ do not add value to this analysis\n",
    "    - Additionally, columns do not have meaningful titles\n",
    "    - I will use drop to remove redundant column and rename to assign relevant titles\n",
    "    \n",
    "*Code:*"
   ]
  },
  {
   "cell_type": "code",
   "execution_count": 59,
   "metadata": {
    "ExecuteTime": {
     "end_time": "2020-12-17T12:50:35.826484Z",
     "start_time": "2020-12-17T12:50:35.818506Z"
    },
    "hidden": true
   },
   "outputs": [],
   "source": [
    "pfa_award_winners_clean.rename(columns={0:'year',2:'player_name', 3:'team_name'}, inplace=True)\n",
    "pfa_award_winners_clean.drop(columns =[1, 4, 5], axis=1, inplace=True)"
   ]
  },
  {
   "cell_type": "markdown",
   "metadata": {
    "hidden": true
   },
   "source": [
    "*Test:*"
   ]
  },
  {
   "cell_type": "code",
   "execution_count": 60,
   "metadata": {
    "ExecuteTime": {
     "end_time": "2020-12-17T12:50:35.837459Z",
     "start_time": "2020-12-17T12:50:35.830474Z"
    },
    "hidden": true
   },
   "outputs": [
    {
     "data": {
      "text/plain": [
       "Index(['year', 'player_name', 'team_name'], dtype='object')"
      ]
     },
     "execution_count": 60,
     "metadata": {},
     "output_type": "execute_result"
    }
   ],
   "source": [
    "pfa_award_winners_clean.columns"
   ]
  },
  {
   "cell_type": "markdown",
   "metadata": {
    "hidden": true
   },
   "source": [
    "*Define:*\n",
    "\n",
    "    - Column formats require correction\n",
    "    - I will set player and team columns to string format\n",
    "    \n",
    "*Code:*"
   ]
  },
  {
   "cell_type": "code",
   "execution_count": 61,
   "metadata": {
    "ExecuteTime": {
     "end_time": "2020-12-17T12:50:35.847430Z",
     "start_time": "2020-12-17T12:50:35.840447Z"
    },
    "hidden": true
   },
   "outputs": [],
   "source": [
    "pfa_award_winners_clean[['player_name', 'team_name']] = pfa_award_winners_clean[['player_name', 'team_name']].astype('str')"
   ]
  },
  {
   "cell_type": "markdown",
   "metadata": {
    "hidden": true
   },
   "source": [
    "*Test:*"
   ]
  },
  {
   "cell_type": "code",
   "execution_count": 62,
   "metadata": {
    "ExecuteTime": {
     "end_time": "2020-12-17T12:50:35.864383Z",
     "start_time": "2020-12-17T12:50:35.850420Z"
    },
    "hidden": true
   },
   "outputs": [
    {
     "name": "stdout",
     "output_type": "stream",
     "text": [
      "<class 'pandas.core.frame.DataFrame'>\n",
      "RangeIndex: 47 entries, 0 to 46\n",
      "Data columns (total 3 columns):\n",
      " #   Column       Non-Null Count  Dtype \n",
      "---  ------       --------------  ----- \n",
      " 0   year         47 non-null     object\n",
      " 1   player_name  47 non-null     object\n",
      " 2   team_name    47 non-null     object\n",
      "dtypes: object(3)\n",
      "memory usage: 1.2+ KB\n"
     ]
    }
   ],
   "source": [
    "pfa_award_winners_clean.info()"
   ]
  },
  {
   "cell_type": "markdown",
   "metadata": {
    "hidden": true
   },
   "source": [
    "*Define:*\n",
    "\n",
    "    - Among players who have won the award twice there is a (2) in the player_name\n",
    "    - I will use strip to remove this text\n",
    "    \n",
    "*Code:*"
   ]
  },
  {
   "cell_type": "code",
   "execution_count": 63,
   "metadata": {
    "ExecuteTime": {
     "end_time": "2020-12-17T12:50:35.873359Z",
     "start_time": "2020-12-17T12:50:35.867375Z"
    },
    "hidden": true
   },
   "outputs": [],
   "source": [
    "pfa_award_winners_clean['player_name'] = pfa_award_winners_clean['player_name'].str.strip(\"(2)\")"
   ]
  },
  {
   "cell_type": "markdown",
   "metadata": {
    "hidden": true
   },
   "source": [
    "*Test:*"
   ]
  },
  {
   "cell_type": "code",
   "execution_count": 64,
   "metadata": {
    "ExecuteTime": {
     "end_time": "2020-12-17T12:50:35.890313Z",
     "start_time": "2020-12-17T12:50:35.876353Z"
    },
    "hidden": true
   },
   "outputs": [
    {
     "data": {
      "text/html": [
       "<div>\n",
       "<style scoped>\n",
       "    .dataframe tbody tr th:only-of-type {\n",
       "        vertical-align: middle;\n",
       "    }\n",
       "\n",
       "    .dataframe tbody tr th {\n",
       "        vertical-align: top;\n",
       "    }\n",
       "\n",
       "    .dataframe thead th {\n",
       "        text-align: right;\n",
       "    }\n",
       "</style>\n",
       "<table border=\"1\" class=\"dataframe\">\n",
       "  <thead>\n",
       "    <tr style=\"text-align: right;\">\n",
       "      <th></th>\n",
       "      <th>year</th>\n",
       "      <th>player_name</th>\n",
       "      <th>team_name</th>\n",
       "    </tr>\n",
       "  </thead>\n",
       "  <tbody>\n",
       "    <tr>\n",
       "      <th>37</th>\n",
       "      <td>2010–11</td>\n",
       "      <td>Gareth Bale</td>\n",
       "      <td>Tottenham Hotspur</td>\n",
       "    </tr>\n",
       "    <tr>\n",
       "      <th>38</th>\n",
       "      <td>2011–12</td>\n",
       "      <td>Robin van Persie</td>\n",
       "      <td>Arsenal</td>\n",
       "    </tr>\n",
       "    <tr>\n",
       "      <th>39</th>\n",
       "      <td>2012–13</td>\n",
       "      <td>Gareth Bale</td>\n",
       "      <td>Tottenham Hotspur</td>\n",
       "    </tr>\n",
       "    <tr>\n",
       "      <th>40</th>\n",
       "      <td>2013–14</td>\n",
       "      <td>Luis Suárez</td>\n",
       "      <td>Liverpool</td>\n",
       "    </tr>\n",
       "    <tr>\n",
       "      <th>41</th>\n",
       "      <td>2014–15</td>\n",
       "      <td>Eden Hazard</td>\n",
       "      <td>Chelsea</td>\n",
       "    </tr>\n",
       "    <tr>\n",
       "      <th>42</th>\n",
       "      <td>2015–16</td>\n",
       "      <td>Riyad Mahrez</td>\n",
       "      <td>Leicester City</td>\n",
       "    </tr>\n",
       "    <tr>\n",
       "      <th>43</th>\n",
       "      <td>2016–17</td>\n",
       "      <td>N'Golo Kanté</td>\n",
       "      <td>Chelsea</td>\n",
       "    </tr>\n",
       "    <tr>\n",
       "      <th>44</th>\n",
       "      <td>2017–18</td>\n",
       "      <td>Mohamed Salah</td>\n",
       "      <td>Liverpool</td>\n",
       "    </tr>\n",
       "    <tr>\n",
       "      <th>45</th>\n",
       "      <td>2018–19</td>\n",
       "      <td>Virgil van Dijk</td>\n",
       "      <td>Liverpool</td>\n",
       "    </tr>\n",
       "    <tr>\n",
       "      <th>46</th>\n",
       "      <td>2019–20</td>\n",
       "      <td>Kevin De Bruyne</td>\n",
       "      <td>Manchester City</td>\n",
       "    </tr>\n",
       "  </tbody>\n",
       "</table>\n",
       "</div>"
      ],
      "text/plain": [
       "       year       player_name          team_name\n",
       "37  2010–11       Gareth Bale  Tottenham Hotspur\n",
       "38  2011–12  Robin van Persie            Arsenal\n",
       "39  2012–13      Gareth Bale   Tottenham Hotspur\n",
       "40  2013–14       Luis Suárez          Liverpool\n",
       "41  2014–15       Eden Hazard            Chelsea\n",
       "42  2015–16      Riyad Mahrez     Leicester City\n",
       "43  2016–17      N'Golo Kanté            Chelsea\n",
       "44  2017–18     Mohamed Salah          Liverpool\n",
       "45  2018–19   Virgil van Dijk          Liverpool\n",
       "46  2019–20   Kevin De Bruyne    Manchester City"
      ]
     },
     "execution_count": 64,
     "metadata": {},
     "output_type": "execute_result"
    }
   ],
   "source": [
    "pfa_award_winners_clean.tail(10)"
   ]
  },
  {
   "cell_type": "markdown",
   "metadata": {
    "hidden": true
   },
   "source": [
    "*Define:*\n",
    "\n",
    "    - The year column requires breaking down and converting to datetime\n",
    "    - Roy Keane's entry shows 1999-2000 instead of 1999-20 (as per convention with the rest of the table). I will first use replace to edit the year 2000 to 20. This will ensure the year column is consistent, I can then use a for loop to remove excess characters. \n",
    "    - I will convert the datatype and then add a new column using dateoffset so that the dataframe capture from and to dates\n",
    "    \n",
    "*Code:*"
   ]
  },
  {
   "cell_type": "code",
   "execution_count": 65,
   "metadata": {
    "ExecuteTime": {
     "end_time": "2020-12-17T12:50:35.899291Z",
     "start_time": "2020-12-17T12:50:35.893306Z"
    },
    "hidden": true
   },
   "outputs": [],
   "source": [
    "pfa_award_winners_clean.loc[26] = pfa_award_winners_clean.loc[26].str.replace('2000', '20')"
   ]
  },
  {
   "cell_type": "code",
   "execution_count": 66,
   "metadata": {
    "ExecuteTime": {
     "end_time": "2020-12-17T12:50:35.916245Z",
     "start_time": "2020-12-17T12:50:35.902283Z"
    },
    "hidden": true
   },
   "outputs": [],
   "source": [
    "pfa_award_winners_clean['year_from'] = [i[ : -3] for i in pfa_award_winners_clean['year']]\n",
    "pfa_award_winners_clean['year_from'] = pd.to_datetime(pfa_award_winners_clean['year_from'], errors='coerce')\n",
    "pfa_award_winners_clean['year_to'] = pfa_award_winners_clean['year_from'] + pd.DateOffset(years=1)\n",
    "pfa_award_winners_clean.drop(columns='year', inplace=True)"
   ]
  },
  {
   "cell_type": "markdown",
   "metadata": {
    "hidden": true
   },
   "source": [
    "*Test:*"
   ]
  },
  {
   "cell_type": "code",
   "execution_count": 67,
   "metadata": {
    "ExecuteTime": {
     "end_time": "2020-12-17T12:50:35.935195Z",
     "start_time": "2020-12-17T12:50:35.926220Z"
    },
    "hidden": true
   },
   "outputs": [
    {
     "data": {
      "text/plain": [
       "player_name              Roy Keane\n",
       "team_name        Manchester United\n",
       "year_from      1999-01-01 00:00:00\n",
       "year_to        2000-01-01 00:00:00\n",
       "Name: 26, dtype: object"
      ]
     },
     "execution_count": 67,
     "metadata": {},
     "output_type": "execute_result"
    }
   ],
   "source": [
    "pfa_award_winners_clean.loc[26]"
   ]
  },
  {
   "cell_type": "markdown",
   "metadata": {
    "hidden": true
   },
   "source": [
    "*Define:*\n",
    "\n",
    "    - As there is only 4 years worth of data, I will identify the 4 pfa award winners and their player_id's in a subset dataframe\n",
    "    - Using loc, string contain and for loops I am able to identify the correct player_id for each award winner\n",
    "    \n",
    "*Code:*"
   ]
  },
  {
   "cell_type": "code",
   "execution_count": 68,
   "metadata": {
    "ExecuteTime": {
     "end_time": "2020-12-17T12:50:40.625905Z",
     "start_time": "2020-12-17T12:50:35.940181Z"
    },
    "hidden": true
   },
   "outputs": [],
   "source": [
    "mask = np.column_stack([player_performance_clean['player_name'].str.contains(r\"Eden Hazard\", na=False) for player_name in player_performance_clean])\n",
    "hazard = list(set(player_performance_clean.loc[mask]['player_id']))\n",
    "\n",
    "mask = np.column_stack([player_performance_clean['player_name'].str.contains(r\"Riyad Mahrez\", na=False) for player_name in player_performance_clean])\n",
    "mahrez = list(set(player_performance_clean.loc[mask]['player_id']))\n",
    "\n",
    "mask = np.column_stack([player_performance_clean['player_name'].str.contains(r\"N'Golo Kanté\", na=False) for player_name in player_performance_clean])\n",
    "kante = list(set(player_performance_clean.loc[mask]['player_id']))\n",
    "\n",
    "mask = np.column_stack([player_performance_clean['player_name'].str.contains(r\"Mohamed Salah\", na=False) for player_name in player_performance_clean])\n",
    "salah = list(set(player_performance_clean.loc[mask]['player_id']))\n",
    "\n",
    "\n",
    "list_id = hazard + mahrez + kante + salah"
   ]
  },
  {
   "cell_type": "code",
   "execution_count": 69,
   "metadata": {
    "ExecuteTime": {
     "end_time": "2020-12-17T12:50:40.634854Z",
     "start_time": "2020-12-17T12:50:40.627874Z"
    },
    "hidden": true
   },
   "outputs": [
    {
     "name": "stderr",
     "output_type": "stream",
     "text": [
      "<ipython-input-69-9cc73b521312>:2: SettingWithCopyWarning: \n",
      "A value is trying to be set on a copy of a slice from a DataFrame.\n",
      "Try using .loc[row_indexer,col_indexer] = value instead\n",
      "\n",
      "See the caveats in the documentation: https://pandas.pydata.org/pandas-docs/stable/user_guide/indexing.html#returning-a-view-versus-a-copy\n",
      "  pfa_award_winners_subset['player_id'] = list_id\n"
     ]
    }
   ],
   "source": [
    "pfa_award_winners_subset = pfa_award_winners_clean.loc[41:44]\n",
    "pfa_award_winners_subset['player_id'] = list_id\n",
    "pfa_award_winners_subset['player_id'].astype('int')\n",
    "pfa_award_winners_subset.set_index('player_id', inplace=True)"
   ]
  },
  {
   "cell_type": "markdown",
   "metadata": {
    "hidden": true
   },
   "source": [
    "*Test:*"
   ]
  },
  {
   "cell_type": "code",
   "execution_count": 70,
   "metadata": {
    "ExecuteTime": {
     "end_time": "2020-12-17T12:50:40.667090Z",
     "start_time": "2020-12-17T12:50:40.638361Z"
    },
    "hidden": true
   },
   "outputs": [
    {
     "data": {
      "text/html": [
       "<div>\n",
       "<style scoped>\n",
       "    .dataframe tbody tr th:only-of-type {\n",
       "        vertical-align: middle;\n",
       "    }\n",
       "\n",
       "    .dataframe tbody tr th {\n",
       "        vertical-align: top;\n",
       "    }\n",
       "\n",
       "    .dataframe thead th {\n",
       "        text-align: right;\n",
       "    }\n",
       "</style>\n",
       "<table border=\"1\" class=\"dataframe\">\n",
       "  <thead>\n",
       "    <tr style=\"text-align: right;\">\n",
       "      <th></th>\n",
       "      <th>player_name</th>\n",
       "      <th>team_name</th>\n",
       "      <th>year_from</th>\n",
       "      <th>year_to</th>\n",
       "    </tr>\n",
       "    <tr>\n",
       "      <th>player_id</th>\n",
       "      <th></th>\n",
       "      <th></th>\n",
       "      <th></th>\n",
       "      <th></th>\n",
       "    </tr>\n",
       "  </thead>\n",
       "  <tbody>\n",
       "    <tr>\n",
       "      <th>33404</th>\n",
       "      <td>Eden Hazard</td>\n",
       "      <td>Chelsea</td>\n",
       "      <td>2014-01-01</td>\n",
       "      <td>2015-01-01</td>\n",
       "    </tr>\n",
       "    <tr>\n",
       "      <th>104749</th>\n",
       "      <td>Riyad Mahrez</td>\n",
       "      <td>Leicester City</td>\n",
       "      <td>2015-01-01</td>\n",
       "      <td>2016-01-01</td>\n",
       "    </tr>\n",
       "    <tr>\n",
       "      <th>114075</th>\n",
       "      <td>N'Golo Kanté</td>\n",
       "      <td>Chelsea</td>\n",
       "      <td>2016-01-01</td>\n",
       "      <td>2017-01-01</td>\n",
       "    </tr>\n",
       "    <tr>\n",
       "      <th>108226</th>\n",
       "      <td>Mohamed Salah</td>\n",
       "      <td>Liverpool</td>\n",
       "      <td>2017-01-01</td>\n",
       "      <td>2018-01-01</td>\n",
       "    </tr>\n",
       "  </tbody>\n",
       "</table>\n",
       "</div>"
      ],
      "text/plain": [
       "             player_name       team_name  year_from    year_to\n",
       "player_id                                                     \n",
       "33404        Eden Hazard         Chelsea 2014-01-01 2015-01-01\n",
       "104749      Riyad Mahrez  Leicester City 2015-01-01 2016-01-01\n",
       "114075      N'Golo Kanté         Chelsea 2016-01-01 2017-01-01\n",
       "108226     Mohamed Salah       Liverpool 2017-01-01 2018-01-01"
      ]
     },
     "execution_count": 70,
     "metadata": {},
     "output_type": "execute_result"
    }
   ],
   "source": [
    "pfa_award_winners_subset"
   ]
  },
  {
   "cell_type": "markdown",
   "metadata": {
    "heading_collapsed": true,
    "hidden": true
   },
   "source": [
    "#### Cleaned Dataframes"
   ]
  },
  {
   "cell_type": "code",
   "execution_count": 71,
   "metadata": {
    "ExecuteTime": {
     "end_time": "2020-12-17T12:50:40.705962Z",
     "start_time": "2020-12-17T12:50:40.670056Z"
    },
    "hidden": true
   },
   "outputs": [
    {
     "data": {
      "text/html": [
       "<div>\n",
       "<style scoped>\n",
       "    .dataframe tbody tr th:only-of-type {\n",
       "        vertical-align: middle;\n",
       "    }\n",
       "\n",
       "    .dataframe tbody tr th {\n",
       "        vertical-align: top;\n",
       "    }\n",
       "\n",
       "    .dataframe thead th {\n",
       "        text-align: right;\n",
       "    }\n",
       "</style>\n",
       "<table border=\"1\" class=\"dataframe\">\n",
       "  <thead>\n",
       "    <tr style=\"text-align: right;\">\n",
       "      <th></th>\n",
       "      <th>team_id</th>\n",
       "      <th>team_name</th>\n",
       "      <th>team_rating</th>\n",
       "      <th>att_goal_low_left</th>\n",
       "      <th>won_contest</th>\n",
       "      <th>possession_percentage</th>\n",
       "      <th>total_throws</th>\n",
       "      <th>att_miss_high_left</th>\n",
       "      <th>blocked_scoring_att</th>\n",
       "      <th>total_scoring_att</th>\n",
       "      <th>...</th>\n",
       "      <th>att_goal_high_right</th>\n",
       "      <th>att_sv_high_centre</th>\n",
       "      <th>att_post_high</th>\n",
       "      <th>post_scoring_att</th>\n",
       "      <th>att_sv_high_right</th>\n",
       "      <th>penalty_save</th>\n",
       "      <th>att_pen_goal</th>\n",
       "      <th>att_post_right</th>\n",
       "      <th>att_post_left</th>\n",
       "      <th>att_goal_high_centre</th>\n",
       "    </tr>\n",
       "    <tr>\n",
       "      <th>match_id</th>\n",
       "      <th></th>\n",
       "      <th></th>\n",
       "      <th></th>\n",
       "      <th></th>\n",
       "      <th></th>\n",
       "      <th></th>\n",
       "      <th></th>\n",
       "      <th></th>\n",
       "      <th></th>\n",
       "      <th></th>\n",
       "      <th></th>\n",
       "      <th></th>\n",
       "      <th></th>\n",
       "      <th></th>\n",
       "      <th></th>\n",
       "      <th></th>\n",
       "      <th></th>\n",
       "      <th></th>\n",
       "      <th></th>\n",
       "      <th></th>\n",
       "      <th></th>\n",
       "    </tr>\n",
       "  </thead>\n",
       "  <tbody>\n",
       "    <tr>\n",
       "      <th>829513</th>\n",
       "      <td>13</td>\n",
       "      <td>Arsenal</td>\n",
       "      <td>7.0</td>\n",
       "      <td>1.0</td>\n",
       "      <td>12.0</td>\n",
       "      <td>76.0</td>\n",
       "      <td>21</td>\n",
       "      <td>1.0</td>\n",
       "      <td>3.0</td>\n",
       "      <td>14.0</td>\n",
       "      <td>...</td>\n",
       "      <td>NaN</td>\n",
       "      <td>NaN</td>\n",
       "      <td>NaN</td>\n",
       "      <td>NaN</td>\n",
       "      <td>NaN</td>\n",
       "      <td>NaN</td>\n",
       "      <td>NaN</td>\n",
       "      <td>NaN</td>\n",
       "      <td>NaN</td>\n",
       "      <td>NaN</td>\n",
       "    </tr>\n",
       "    <tr>\n",
       "      <th>829513</th>\n",
       "      <td>162</td>\n",
       "      <td>Crystal Palace</td>\n",
       "      <td>6.6</td>\n",
       "      <td>1.0</td>\n",
       "      <td>7.0</td>\n",
       "      <td>24.0</td>\n",
       "      <td>18</td>\n",
       "      <td>NaN</td>\n",
       "      <td>2.0</td>\n",
       "      <td>4.0</td>\n",
       "      <td>...</td>\n",
       "      <td>NaN</td>\n",
       "      <td>NaN</td>\n",
       "      <td>NaN</td>\n",
       "      <td>NaN</td>\n",
       "      <td>NaN</td>\n",
       "      <td>NaN</td>\n",
       "      <td>NaN</td>\n",
       "      <td>NaN</td>\n",
       "      <td>NaN</td>\n",
       "      <td>NaN</td>\n",
       "    </tr>\n",
       "    <tr>\n",
       "      <th>829514</th>\n",
       "      <td>184</td>\n",
       "      <td>Burnley</td>\n",
       "      <td>6.3</td>\n",
       "      <td>NaN</td>\n",
       "      <td>3.0</td>\n",
       "      <td>38.6</td>\n",
       "      <td>35</td>\n",
       "      <td>1.0</td>\n",
       "      <td>1.0</td>\n",
       "      <td>9.0</td>\n",
       "      <td>...</td>\n",
       "      <td>NaN</td>\n",
       "      <td>NaN</td>\n",
       "      <td>NaN</td>\n",
       "      <td>NaN</td>\n",
       "      <td>NaN</td>\n",
       "      <td>NaN</td>\n",
       "      <td>NaN</td>\n",
       "      <td>NaN</td>\n",
       "      <td>NaN</td>\n",
       "      <td>NaN</td>\n",
       "    </tr>\n",
       "    <tr>\n",
       "      <th>829514</th>\n",
       "      <td>15</td>\n",
       "      <td>Chelsea</td>\n",
       "      <td>7.1</td>\n",
       "      <td>2.0</td>\n",
       "      <td>12.0</td>\n",
       "      <td>61.4</td>\n",
       "      <td>29</td>\n",
       "      <td>NaN</td>\n",
       "      <td>4.0</td>\n",
       "      <td>11.0</td>\n",
       "      <td>...</td>\n",
       "      <td>NaN</td>\n",
       "      <td>NaN</td>\n",
       "      <td>NaN</td>\n",
       "      <td>NaN</td>\n",
       "      <td>NaN</td>\n",
       "      <td>NaN</td>\n",
       "      <td>NaN</td>\n",
       "      <td>NaN</td>\n",
       "      <td>NaN</td>\n",
       "      <td>NaN</td>\n",
       "    </tr>\n",
       "    <tr>\n",
       "      <th>829515</th>\n",
       "      <td>14</td>\n",
       "      <td>Leicester</td>\n",
       "      <td>6.7</td>\n",
       "      <td>NaN</td>\n",
       "      <td>6.0</td>\n",
       "      <td>36.7</td>\n",
       "      <td>12</td>\n",
       "      <td>NaN</td>\n",
       "      <td>3.0</td>\n",
       "      <td>11.0</td>\n",
       "      <td>...</td>\n",
       "      <td>NaN</td>\n",
       "      <td>NaN</td>\n",
       "      <td>NaN</td>\n",
       "      <td>NaN</td>\n",
       "      <td>NaN</td>\n",
       "      <td>NaN</td>\n",
       "      <td>NaN</td>\n",
       "      <td>NaN</td>\n",
       "      <td>NaN</td>\n",
       "      <td>NaN</td>\n",
       "    </tr>\n",
       "  </tbody>\n",
       "</table>\n",
       "<p>5 rows × 42 columns</p>\n",
       "</div>"
      ],
      "text/plain": [
       "          team_id       team_name  team_rating  att_goal_low_left  \\\n",
       "match_id                                                            \n",
       "829513         13         Arsenal          7.0                1.0   \n",
       "829513        162  Crystal Palace          6.6                1.0   \n",
       "829514        184         Burnley          6.3                NaN   \n",
       "829514         15         Chelsea          7.1                2.0   \n",
       "829515         14       Leicester          6.7                NaN   \n",
       "\n",
       "          won_contest  possession_percentage  total_throws  \\\n",
       "match_id                                                     \n",
       "829513           12.0                   76.0            21   \n",
       "829513            7.0                   24.0            18   \n",
       "829514            3.0                   38.6            35   \n",
       "829514           12.0                   61.4            29   \n",
       "829515            6.0                   36.7            12   \n",
       "\n",
       "          att_miss_high_left  blocked_scoring_att  total_scoring_att  ...  \\\n",
       "match_id                                                              ...   \n",
       "829513                   1.0                  3.0               14.0  ...   \n",
       "829513                   NaN                  2.0                4.0  ...   \n",
       "829514                   1.0                  1.0                9.0  ...   \n",
       "829514                   NaN                  4.0               11.0  ...   \n",
       "829515                   NaN                  3.0               11.0  ...   \n",
       "\n",
       "          att_goal_high_right  att_sv_high_centre  att_post_high  \\\n",
       "match_id                                                           \n",
       "829513                    NaN                 NaN            NaN   \n",
       "829513                    NaN                 NaN            NaN   \n",
       "829514                    NaN                 NaN            NaN   \n",
       "829514                    NaN                 NaN            NaN   \n",
       "829515                    NaN                 NaN            NaN   \n",
       "\n",
       "          post_scoring_att  att_sv_high_right  penalty_save  att_pen_goal  \\\n",
       "match_id                                                                    \n",
       "829513                 NaN                NaN           NaN           NaN   \n",
       "829513                 NaN                NaN           NaN           NaN   \n",
       "829514                 NaN                NaN           NaN           NaN   \n",
       "829514                 NaN                NaN           NaN           NaN   \n",
       "829515                 NaN                NaN           NaN           NaN   \n",
       "\n",
       "          att_post_right  att_post_left  att_goal_high_centre  \n",
       "match_id                                                       \n",
       "829513               NaN            NaN                   NaN  \n",
       "829513               NaN            NaN                   NaN  \n",
       "829514               NaN            NaN                   NaN  \n",
       "829514               NaN            NaN                   NaN  \n",
       "829515               NaN            NaN                   NaN  \n",
       "\n",
       "[5 rows x 42 columns]"
      ]
     },
     "execution_count": 71,
     "metadata": {},
     "output_type": "execute_result"
    }
   ],
   "source": [
    "match_details_clean.head(5)"
   ]
  },
  {
   "cell_type": "code",
   "execution_count": 72,
   "metadata": {
    "ExecuteTime": {
     "end_time": "2020-12-17T12:50:40.723912Z",
     "start_time": "2020-12-17T12:50:40.709952Z"
    },
    "hidden": true
   },
   "outputs": [
    {
     "data": {
      "text/html": [
       "<div>\n",
       "<style scoped>\n",
       "    .dataframe tbody tr th:only-of-type {\n",
       "        vertical-align: middle;\n",
       "    }\n",
       "\n",
       "    .dataframe tbody tr th {\n",
       "        vertical-align: top;\n",
       "    }\n",
       "\n",
       "    .dataframe thead th {\n",
       "        text-align: right;\n",
       "    }\n",
       "</style>\n",
       "<table border=\"1\" class=\"dataframe\">\n",
       "  <thead>\n",
       "    <tr style=\"text-align: right;\">\n",
       "      <th></th>\n",
       "      <th>home_team_id</th>\n",
       "      <th>away_team_id</th>\n",
       "      <th>date</th>\n",
       "      <th>home_team_half_time</th>\n",
       "      <th>away_team_half_time</th>\n",
       "      <th>home_team_full_time</th>\n",
       "      <th>away_team_full_time</th>\n",
       "    </tr>\n",
       "    <tr>\n",
       "      <th>match_id</th>\n",
       "      <th></th>\n",
       "      <th></th>\n",
       "      <th></th>\n",
       "      <th></th>\n",
       "      <th></th>\n",
       "      <th></th>\n",
       "      <th></th>\n",
       "    </tr>\n",
       "  </thead>\n",
       "  <tbody>\n",
       "    <tr>\n",
       "      <th>829513</th>\n",
       "      <td>13</td>\n",
       "      <td>162</td>\n",
       "      <td>2014-08-16 17:30:00</td>\n",
       "      <td>1</td>\n",
       "      <td>1</td>\n",
       "      <td>2</td>\n",
       "      <td>1</td>\n",
       "    </tr>\n",
       "    <tr>\n",
       "      <th>829514</th>\n",
       "      <td>184</td>\n",
       "      <td>15</td>\n",
       "      <td>2014-08-18 20:00:00</td>\n",
       "      <td>1</td>\n",
       "      <td>3</td>\n",
       "      <td>1</td>\n",
       "      <td>3</td>\n",
       "    </tr>\n",
       "    <tr>\n",
       "      <th>829515</th>\n",
       "      <td>14</td>\n",
       "      <td>31</td>\n",
       "      <td>2014-08-16 15:00:00</td>\n",
       "      <td>1</td>\n",
       "      <td>2</td>\n",
       "      <td>2</td>\n",
       "      <td>2</td>\n",
       "    </tr>\n",
       "    <tr>\n",
       "      <th>829516</th>\n",
       "      <td>26</td>\n",
       "      <td>18</td>\n",
       "      <td>2014-08-17 13:30:00</td>\n",
       "      <td>1</td>\n",
       "      <td>0</td>\n",
       "      <td>2</td>\n",
       "      <td>1</td>\n",
       "    </tr>\n",
       "    <tr>\n",
       "      <th>829517</th>\n",
       "      <td>32</td>\n",
       "      <td>259</td>\n",
       "      <td>2014-08-16 12:45:00</td>\n",
       "      <td>0</td>\n",
       "      <td>1</td>\n",
       "      <td>1</td>\n",
       "      <td>2</td>\n",
       "    </tr>\n",
       "  </tbody>\n",
       "</table>\n",
       "</div>"
      ],
      "text/plain": [
       "          home_team_id  away_team_id                date  home_team_half_time  \\\n",
       "match_id                                                                        \n",
       "829513              13           162 2014-08-16 17:30:00                    1   \n",
       "829514             184            15 2014-08-18 20:00:00                    1   \n",
       "829515              14            31 2014-08-16 15:00:00                    1   \n",
       "829516              26            18 2014-08-17 13:30:00                    1   \n",
       "829517              32           259 2014-08-16 12:45:00                    0   \n",
       "\n",
       "          away_team_half_time  home_team_full_time  away_team_full_time  \n",
       "match_id                                                                 \n",
       "829513                      1                    2                    1  \n",
       "829514                      3                    1                    3  \n",
       "829515                      2                    2                    2  \n",
       "829516                      0                    2                    1  \n",
       "829517                      1                    1                    2  "
      ]
     },
     "execution_count": 72,
     "metadata": {},
     "output_type": "execute_result"
    }
   ],
   "source": [
    "match_results_clean.head(5)"
   ]
  },
  {
   "cell_type": "code",
   "execution_count": 73,
   "metadata": {
    "ExecuteTime": {
     "end_time": "2020-12-17T12:50:40.757848Z",
     "start_time": "2020-12-17T12:50:40.726903Z"
    },
    "hidden": true
   },
   "outputs": [
    {
     "data": {
      "text/html": [
       "<div>\n",
       "<style scoped>\n",
       "    .dataframe tbody tr th:only-of-type {\n",
       "        vertical-align: middle;\n",
       "    }\n",
       "\n",
       "    .dataframe tbody tr th {\n",
       "        vertical-align: top;\n",
       "    }\n",
       "\n",
       "    .dataframe thead th {\n",
       "        text-align: right;\n",
       "    }\n",
       "</style>\n",
       "<table border=\"1\" class=\"dataframe\">\n",
       "  <thead>\n",
       "    <tr style=\"text-align: right;\">\n",
       "      <th></th>\n",
       "      <th>team_id</th>\n",
       "      <th>player_name</th>\n",
       "      <th>touches</th>\n",
       "      <th>saves</th>\n",
       "      <th>total_pass</th>\n",
       "      <th>aerial_won</th>\n",
       "      <th>formation_place</th>\n",
       "      <th>accurate_pass</th>\n",
       "      <th>player_id</th>\n",
       "      <th>player_position_value</th>\n",
       "      <th>...</th>\n",
       "      <th>six_yard_block</th>\n",
       "      <th>post_scoring_att</th>\n",
       "      <th>att_pen_target</th>\n",
       "      <th>penalty_save</th>\n",
       "      <th>penalty_conceded</th>\n",
       "      <th>clearance_off_line</th>\n",
       "      <th>att_pen_goal</th>\n",
       "      <th>att_pen_miss</th>\n",
       "      <th>own_goals</th>\n",
       "      <th>att_pen_post</th>\n",
       "    </tr>\n",
       "    <tr>\n",
       "      <th>match_id</th>\n",
       "      <th></th>\n",
       "      <th></th>\n",
       "      <th></th>\n",
       "      <th></th>\n",
       "      <th></th>\n",
       "      <th></th>\n",
       "      <th></th>\n",
       "      <th></th>\n",
       "      <th></th>\n",
       "      <th></th>\n",
       "      <th></th>\n",
       "      <th></th>\n",
       "      <th></th>\n",
       "      <th></th>\n",
       "      <th></th>\n",
       "      <th></th>\n",
       "      <th></th>\n",
       "      <th></th>\n",
       "      <th></th>\n",
       "      <th></th>\n",
       "      <th></th>\n",
       "    </tr>\n",
       "  </thead>\n",
       "  <tbody>\n",
       "    <tr>\n",
       "      <th>829513</th>\n",
       "      <td>13</td>\n",
       "      <td>Wojciech Szczesny</td>\n",
       "      <td>20.0</td>\n",
       "      <td>1.0</td>\n",
       "      <td>13.0</td>\n",
       "      <td>1.0</td>\n",
       "      <td>1</td>\n",
       "      <td>11.0</td>\n",
       "      <td>73379</td>\n",
       "      <td>1</td>\n",
       "      <td>...</td>\n",
       "      <td>NaN</td>\n",
       "      <td>NaN</td>\n",
       "      <td>NaN</td>\n",
       "      <td>NaN</td>\n",
       "      <td>NaN</td>\n",
       "      <td>NaN</td>\n",
       "      <td>NaN</td>\n",
       "      <td>NaN</td>\n",
       "      <td>NaN</td>\n",
       "      <td>NaN</td>\n",
       "    </tr>\n",
       "    <tr>\n",
       "      <th>829513</th>\n",
       "      <td>13</td>\n",
       "      <td>Calum Chambers</td>\n",
       "      <td>111.0</td>\n",
       "      <td>NaN</td>\n",
       "      <td>93.0</td>\n",
       "      <td>2.0</td>\n",
       "      <td>5</td>\n",
       "      <td>86.0</td>\n",
       "      <td>124316</td>\n",
       "      <td>2</td>\n",
       "      <td>...</td>\n",
       "      <td>NaN</td>\n",
       "      <td>NaN</td>\n",
       "      <td>NaN</td>\n",
       "      <td>NaN</td>\n",
       "      <td>NaN</td>\n",
       "      <td>NaN</td>\n",
       "      <td>NaN</td>\n",
       "      <td>NaN</td>\n",
       "      <td>NaN</td>\n",
       "      <td>NaN</td>\n",
       "    </tr>\n",
       "    <tr>\n",
       "      <th>829513</th>\n",
       "      <td>13</td>\n",
       "      <td>Mathieu Debuchy</td>\n",
       "      <td>92.0</td>\n",
       "      <td>NaN</td>\n",
       "      <td>54.0</td>\n",
       "      <td>5.0</td>\n",
       "      <td>2</td>\n",
       "      <td>44.0</td>\n",
       "      <td>11367</td>\n",
       "      <td>2</td>\n",
       "      <td>...</td>\n",
       "      <td>NaN</td>\n",
       "      <td>NaN</td>\n",
       "      <td>NaN</td>\n",
       "      <td>NaN</td>\n",
       "      <td>NaN</td>\n",
       "      <td>NaN</td>\n",
       "      <td>NaN</td>\n",
       "      <td>NaN</td>\n",
       "      <td>NaN</td>\n",
       "      <td>NaN</td>\n",
       "    </tr>\n",
       "    <tr>\n",
       "      <th>829513</th>\n",
       "      <td>13</td>\n",
       "      <td>Kieran Gibbs</td>\n",
       "      <td>44.0</td>\n",
       "      <td>NaN</td>\n",
       "      <td>34.0</td>\n",
       "      <td>1.0</td>\n",
       "      <td>3</td>\n",
       "      <td>26.0</td>\n",
       "      <td>27550</td>\n",
       "      <td>2</td>\n",
       "      <td>...</td>\n",
       "      <td>NaN</td>\n",
       "      <td>NaN</td>\n",
       "      <td>NaN</td>\n",
       "      <td>NaN</td>\n",
       "      <td>NaN</td>\n",
       "      <td>NaN</td>\n",
       "      <td>NaN</td>\n",
       "      <td>NaN</td>\n",
       "      <td>NaN</td>\n",
       "      <td>NaN</td>\n",
       "    </tr>\n",
       "    <tr>\n",
       "      <th>829513</th>\n",
       "      <td>13</td>\n",
       "      <td>Laurent Koscielny</td>\n",
       "      <td>80.0</td>\n",
       "      <td>NaN</td>\n",
       "      <td>62.0</td>\n",
       "      <td>2.0</td>\n",
       "      <td>6</td>\n",
       "      <td>60.0</td>\n",
       "      <td>30051</td>\n",
       "      <td>2</td>\n",
       "      <td>...</td>\n",
       "      <td>NaN</td>\n",
       "      <td>NaN</td>\n",
       "      <td>NaN</td>\n",
       "      <td>NaN</td>\n",
       "      <td>NaN</td>\n",
       "      <td>NaN</td>\n",
       "      <td>NaN</td>\n",
       "      <td>NaN</td>\n",
       "      <td>NaN</td>\n",
       "      <td>NaN</td>\n",
       "    </tr>\n",
       "  </tbody>\n",
       "</table>\n",
       "<p>5 rows × 37 columns</p>\n",
       "</div>"
      ],
      "text/plain": [
       "          team_id        player_name  touches  saves  total_pass  aerial_won  \\\n",
       "match_id                                                                       \n",
       "829513         13  Wojciech Szczesny     20.0    1.0        13.0         1.0   \n",
       "829513         13     Calum Chambers    111.0    NaN        93.0         2.0   \n",
       "829513         13    Mathieu Debuchy     92.0    NaN        54.0         5.0   \n",
       "829513         13       Kieran Gibbs     44.0    NaN        34.0         1.0   \n",
       "829513         13  Laurent Koscielny     80.0    NaN        62.0         2.0   \n",
       "\n",
       "          formation_place  accurate_pass  player_id  player_position_value  \\\n",
       "match_id                                                                     \n",
       "829513                  1           11.0      73379                      1   \n",
       "829513                  5           86.0     124316                      2   \n",
       "829513                  2           44.0      11367                      2   \n",
       "829513                  3           26.0      27550                      2   \n",
       "829513                  6           60.0      30051                      2   \n",
       "\n",
       "          ... six_yard_block  post_scoring_att  att_pen_target  penalty_save  \\\n",
       "match_id  ...                                                                  \n",
       "829513    ...            NaN               NaN             NaN           NaN   \n",
       "829513    ...            NaN               NaN             NaN           NaN   \n",
       "829513    ...            NaN               NaN             NaN           NaN   \n",
       "829513    ...            NaN               NaN             NaN           NaN   \n",
       "829513    ...            NaN               NaN             NaN           NaN   \n",
       "\n",
       "          penalty_conceded  clearance_off_line  att_pen_goal  att_pen_miss  \\\n",
       "match_id                                                                     \n",
       "829513                 NaN                 NaN           NaN           NaN   \n",
       "829513                 NaN                 NaN           NaN           NaN   \n",
       "829513                 NaN                 NaN           NaN           NaN   \n",
       "829513                 NaN                 NaN           NaN           NaN   \n",
       "829513                 NaN                 NaN           NaN           NaN   \n",
       "\n",
       "          own_goals  att_pen_post  \n",
       "match_id                           \n",
       "829513          NaN           NaN  \n",
       "829513          NaN           NaN  \n",
       "829513          NaN           NaN  \n",
       "829513          NaN           NaN  \n",
       "829513          NaN           NaN  \n",
       "\n",
       "[5 rows x 37 columns]"
      ]
     },
     "execution_count": 73,
     "metadata": {},
     "output_type": "execute_result"
    }
   ],
   "source": [
    "player_performance_clean.head()"
   ]
  },
  {
   "cell_type": "code",
   "execution_count": 74,
   "metadata": {
    "ExecuteTime": {
     "end_time": "2020-12-17T12:50:40.772780Z",
     "start_time": "2020-12-17T12:50:40.759814Z"
    },
    "hidden": true
   },
   "outputs": [
    {
     "data": {
      "text/html": [
       "<div>\n",
       "<style scoped>\n",
       "    .dataframe tbody tr th:only-of-type {\n",
       "        vertical-align: middle;\n",
       "    }\n",
       "\n",
       "    .dataframe tbody tr th {\n",
       "        vertical-align: top;\n",
       "    }\n",
       "\n",
       "    .dataframe thead th {\n",
       "        text-align: right;\n",
       "    }\n",
       "</style>\n",
       "<table border=\"1\" class=\"dataframe\">\n",
       "  <thead>\n",
       "    <tr style=\"text-align: right;\">\n",
       "      <th></th>\n",
       "      <th>player_name</th>\n",
       "      <th>team_name</th>\n",
       "      <th>year_from</th>\n",
       "      <th>year_to</th>\n",
       "    </tr>\n",
       "  </thead>\n",
       "  <tbody>\n",
       "    <tr>\n",
       "      <th>41</th>\n",
       "      <td>Eden Hazard</td>\n",
       "      <td>Chelsea</td>\n",
       "      <td>2014-01-01</td>\n",
       "      <td>2015-01-01</td>\n",
       "    </tr>\n",
       "    <tr>\n",
       "      <th>42</th>\n",
       "      <td>Riyad Mahrez</td>\n",
       "      <td>Leicester City</td>\n",
       "      <td>2015-01-01</td>\n",
       "      <td>2016-01-01</td>\n",
       "    </tr>\n",
       "    <tr>\n",
       "      <th>43</th>\n",
       "      <td>N'Golo Kanté</td>\n",
       "      <td>Chelsea</td>\n",
       "      <td>2016-01-01</td>\n",
       "      <td>2017-01-01</td>\n",
       "    </tr>\n",
       "    <tr>\n",
       "      <th>44</th>\n",
       "      <td>Mohamed Salah</td>\n",
       "      <td>Liverpool</td>\n",
       "      <td>2017-01-01</td>\n",
       "      <td>2018-01-01</td>\n",
       "    </tr>\n",
       "    <tr>\n",
       "      <th>45</th>\n",
       "      <td>Virgil van Dijk</td>\n",
       "      <td>Liverpool</td>\n",
       "      <td>2018-01-01</td>\n",
       "      <td>2019-01-01</td>\n",
       "    </tr>\n",
       "    <tr>\n",
       "      <th>46</th>\n",
       "      <td>Kevin De Bruyne</td>\n",
       "      <td>Manchester City</td>\n",
       "      <td>2019-01-01</td>\n",
       "      <td>2020-01-01</td>\n",
       "    </tr>\n",
       "  </tbody>\n",
       "</table>\n",
       "</div>"
      ],
      "text/plain": [
       "        player_name        team_name  year_from    year_to\n",
       "41      Eden Hazard          Chelsea 2014-01-01 2015-01-01\n",
       "42     Riyad Mahrez   Leicester City 2015-01-01 2016-01-01\n",
       "43     N'Golo Kanté          Chelsea 2016-01-01 2017-01-01\n",
       "44    Mohamed Salah        Liverpool 2017-01-01 2018-01-01\n",
       "45  Virgil van Dijk        Liverpool 2018-01-01 2019-01-01\n",
       "46  Kevin De Bruyne  Manchester City 2019-01-01 2020-01-01"
      ]
     },
     "execution_count": 74,
     "metadata": {},
     "output_type": "execute_result"
    }
   ],
   "source": [
    "pfa_award_winners_clean.tail(6)"
   ]
  },
  {
   "cell_type": "code",
   "execution_count": 75,
   "metadata": {
    "ExecuteTime": {
     "end_time": "2020-12-17T12:50:40.793726Z",
     "start_time": "2020-12-17T12:50:40.775772Z"
    },
    "hidden": true
   },
   "outputs": [
    {
     "data": {
      "text/html": [
       "<div>\n",
       "<style scoped>\n",
       "    .dataframe tbody tr th:only-of-type {\n",
       "        vertical-align: middle;\n",
       "    }\n",
       "\n",
       "    .dataframe tbody tr th {\n",
       "        vertical-align: top;\n",
       "    }\n",
       "\n",
       "    .dataframe thead th {\n",
       "        text-align: right;\n",
       "    }\n",
       "</style>\n",
       "<table border=\"1\" class=\"dataframe\">\n",
       "  <thead>\n",
       "    <tr style=\"text-align: right;\">\n",
       "      <th></th>\n",
       "      <th>player_name</th>\n",
       "      <th>team_name</th>\n",
       "      <th>year_from</th>\n",
       "      <th>year_to</th>\n",
       "    </tr>\n",
       "    <tr>\n",
       "      <th>player_id</th>\n",
       "      <th></th>\n",
       "      <th></th>\n",
       "      <th></th>\n",
       "      <th></th>\n",
       "    </tr>\n",
       "  </thead>\n",
       "  <tbody>\n",
       "    <tr>\n",
       "      <th>33404</th>\n",
       "      <td>Eden Hazard</td>\n",
       "      <td>Chelsea</td>\n",
       "      <td>2014-01-01</td>\n",
       "      <td>2015-01-01</td>\n",
       "    </tr>\n",
       "    <tr>\n",
       "      <th>104749</th>\n",
       "      <td>Riyad Mahrez</td>\n",
       "      <td>Leicester City</td>\n",
       "      <td>2015-01-01</td>\n",
       "      <td>2016-01-01</td>\n",
       "    </tr>\n",
       "    <tr>\n",
       "      <th>114075</th>\n",
       "      <td>N'Golo Kanté</td>\n",
       "      <td>Chelsea</td>\n",
       "      <td>2016-01-01</td>\n",
       "      <td>2017-01-01</td>\n",
       "    </tr>\n",
       "    <tr>\n",
       "      <th>108226</th>\n",
       "      <td>Mohamed Salah</td>\n",
       "      <td>Liverpool</td>\n",
       "      <td>2017-01-01</td>\n",
       "      <td>2018-01-01</td>\n",
       "    </tr>\n",
       "  </tbody>\n",
       "</table>\n",
       "</div>"
      ],
      "text/plain": [
       "             player_name       team_name  year_from    year_to\n",
       "player_id                                                     \n",
       "33404        Eden Hazard         Chelsea 2014-01-01 2015-01-01\n",
       "104749      Riyad Mahrez  Leicester City 2015-01-01 2016-01-01\n",
       "114075      N'Golo Kanté         Chelsea 2016-01-01 2017-01-01\n",
       "108226     Mohamed Salah       Liverpool 2017-01-01 2018-01-01"
      ]
     },
     "execution_count": 75,
     "metadata": {},
     "output_type": "execute_result"
    }
   ],
   "source": [
    "pfa_award_winners_subset"
   ]
  },
  {
   "cell_type": "markdown",
   "metadata": {
    "heading_collapsed": true,
    "hidden": true
   },
   "source": [
    "### Databasing\n",
    "<a id='databasing'></a>\n",
    "\n",
    "I will now store the cleaned data in tables of a relational database."
   ]
  },
  {
   "cell_type": "markdown",
   "metadata": {
    "hidden": true
   },
   "source": [
    "***Storing Cleaned Data in a Database***"
   ]
  },
  {
   "cell_type": "code",
   "execution_count": 76,
   "metadata": {
    "ExecuteTime": {
     "end_time": "2020-12-17T12:50:40.857557Z",
     "start_time": "2020-12-17T12:50:40.796716Z"
    },
    "hidden": true
   },
   "outputs": [],
   "source": [
    "#Creating/ connecting to DB\n",
    "\n",
    "engine = create_engine('sqlite:///premier_league.db3', echo=False)"
   ]
  },
  {
   "cell_type": "code",
   "execution_count": 77,
   "metadata": {
    "ExecuteTime": {
     "end_time": "2020-12-17T12:50:43.917547Z",
     "start_time": "2020-12-17T12:50:40.860545Z"
    },
    "hidden": true
   },
   "outputs": [],
   "source": [
    "#Inserting Pandas DF into Assessments table\n",
    "#Ensuring that for all aplicable dataframes, the index creates a column\n",
    "\n",
    "match_details_clean.to_sql('match_details', engine, if_exists='replace')\n",
    "match_results_clean.to_sql('match_results', engine, if_exists='replace')\n",
    "player_performance_clean.to_sql('player_performance', engine, if_exists='replace')\n",
    "pfa_award_winners_clean.to_sql('pfa_award_winners', engine, if_exists='replace', index= False)\n",
    "pfa_award_winners_subset.to_sql('pfa_award_winners_subset', engine, if_exists='replace')"
   ]
  },
  {
   "cell_type": "code",
   "execution_count": 78,
   "metadata": {
    "ExecuteTime": {
     "end_time": "2020-12-17T12:50:43.947397Z",
     "start_time": "2020-12-17T12:50:43.918476Z"
    },
    "hidden": true
   },
   "outputs": [
    {
     "data": {
      "text/html": [
       "<div>\n",
       "<style scoped>\n",
       "    .dataframe tbody tr th:only-of-type {\n",
       "        vertical-align: middle;\n",
       "    }\n",
       "\n",
       "    .dataframe tbody tr th {\n",
       "        vertical-align: top;\n",
       "    }\n",
       "\n",
       "    .dataframe thead th {\n",
       "        text-align: right;\n",
       "    }\n",
       "</style>\n",
       "<table border=\"1\" class=\"dataframe\">\n",
       "  <thead>\n",
       "    <tr style=\"text-align: right;\">\n",
       "      <th></th>\n",
       "      <th>match_id</th>\n",
       "      <th>team_id</th>\n",
       "      <th>player_name</th>\n",
       "      <th>touches</th>\n",
       "      <th>saves</th>\n",
       "      <th>total_pass</th>\n",
       "      <th>aerial_won</th>\n",
       "      <th>formation_place</th>\n",
       "      <th>accurate_pass</th>\n",
       "      <th>player_id</th>\n",
       "      <th>...</th>\n",
       "      <th>six_yard_block</th>\n",
       "      <th>post_scoring_att</th>\n",
       "      <th>att_pen_target</th>\n",
       "      <th>penalty_save</th>\n",
       "      <th>penalty_conceded</th>\n",
       "      <th>clearance_off_line</th>\n",
       "      <th>att_pen_goal</th>\n",
       "      <th>att_pen_miss</th>\n",
       "      <th>own_goals</th>\n",
       "      <th>att_pen_post</th>\n",
       "    </tr>\n",
       "  </thead>\n",
       "  <tbody>\n",
       "    <tr>\n",
       "      <th>0</th>\n",
       "      <td>829513</td>\n",
       "      <td>13</td>\n",
       "      <td>Wojciech Szczesny</td>\n",
       "      <td>20.0</td>\n",
       "      <td>1.0</td>\n",
       "      <td>13.0</td>\n",
       "      <td>1.0</td>\n",
       "      <td>1</td>\n",
       "      <td>11.0</td>\n",
       "      <td>73379</td>\n",
       "      <td>...</td>\n",
       "      <td>None</td>\n",
       "      <td>None</td>\n",
       "      <td>None</td>\n",
       "      <td>None</td>\n",
       "      <td>None</td>\n",
       "      <td>None</td>\n",
       "      <td>None</td>\n",
       "      <td>None</td>\n",
       "      <td>None</td>\n",
       "      <td>None</td>\n",
       "    </tr>\n",
       "    <tr>\n",
       "      <th>1</th>\n",
       "      <td>829513</td>\n",
       "      <td>13</td>\n",
       "      <td>Calum Chambers</td>\n",
       "      <td>111.0</td>\n",
       "      <td>NaN</td>\n",
       "      <td>93.0</td>\n",
       "      <td>2.0</td>\n",
       "      <td>5</td>\n",
       "      <td>86.0</td>\n",
       "      <td>124316</td>\n",
       "      <td>...</td>\n",
       "      <td>None</td>\n",
       "      <td>None</td>\n",
       "      <td>None</td>\n",
       "      <td>None</td>\n",
       "      <td>None</td>\n",
       "      <td>None</td>\n",
       "      <td>None</td>\n",
       "      <td>None</td>\n",
       "      <td>None</td>\n",
       "      <td>None</td>\n",
       "    </tr>\n",
       "    <tr>\n",
       "      <th>2</th>\n",
       "      <td>829513</td>\n",
       "      <td>13</td>\n",
       "      <td>Mathieu Debuchy</td>\n",
       "      <td>92.0</td>\n",
       "      <td>NaN</td>\n",
       "      <td>54.0</td>\n",
       "      <td>5.0</td>\n",
       "      <td>2</td>\n",
       "      <td>44.0</td>\n",
       "      <td>11367</td>\n",
       "      <td>...</td>\n",
       "      <td>None</td>\n",
       "      <td>None</td>\n",
       "      <td>None</td>\n",
       "      <td>None</td>\n",
       "      <td>None</td>\n",
       "      <td>None</td>\n",
       "      <td>None</td>\n",
       "      <td>None</td>\n",
       "      <td>None</td>\n",
       "      <td>None</td>\n",
       "    </tr>\n",
       "    <tr>\n",
       "      <th>3</th>\n",
       "      <td>829513</td>\n",
       "      <td>13</td>\n",
       "      <td>Kieran Gibbs</td>\n",
       "      <td>44.0</td>\n",
       "      <td>NaN</td>\n",
       "      <td>34.0</td>\n",
       "      <td>1.0</td>\n",
       "      <td>3</td>\n",
       "      <td>26.0</td>\n",
       "      <td>27550</td>\n",
       "      <td>...</td>\n",
       "      <td>None</td>\n",
       "      <td>None</td>\n",
       "      <td>None</td>\n",
       "      <td>None</td>\n",
       "      <td>None</td>\n",
       "      <td>None</td>\n",
       "      <td>None</td>\n",
       "      <td>None</td>\n",
       "      <td>None</td>\n",
       "      <td>None</td>\n",
       "    </tr>\n",
       "    <tr>\n",
       "      <th>4</th>\n",
       "      <td>829513</td>\n",
       "      <td>13</td>\n",
       "      <td>Laurent Koscielny</td>\n",
       "      <td>80.0</td>\n",
       "      <td>NaN</td>\n",
       "      <td>62.0</td>\n",
       "      <td>2.0</td>\n",
       "      <td>6</td>\n",
       "      <td>60.0</td>\n",
       "      <td>30051</td>\n",
       "      <td>...</td>\n",
       "      <td>None</td>\n",
       "      <td>None</td>\n",
       "      <td>None</td>\n",
       "      <td>None</td>\n",
       "      <td>None</td>\n",
       "      <td>None</td>\n",
       "      <td>None</td>\n",
       "      <td>None</td>\n",
       "      <td>None</td>\n",
       "      <td>None</td>\n",
       "    </tr>\n",
       "  </tbody>\n",
       "</table>\n",
       "<p>5 rows × 38 columns</p>\n",
       "</div>"
      ],
      "text/plain": [
       "  match_id  team_id        player_name  touches  saves  total_pass  \\\n",
       "0   829513       13  Wojciech Szczesny     20.0    1.0        13.0   \n",
       "1   829513       13     Calum Chambers    111.0    NaN        93.0   \n",
       "2   829513       13    Mathieu Debuchy     92.0    NaN        54.0   \n",
       "3   829513       13       Kieran Gibbs     44.0    NaN        34.0   \n",
       "4   829513       13  Laurent Koscielny     80.0    NaN        62.0   \n",
       "\n",
       "   aerial_won  formation_place  accurate_pass  player_id  ...  six_yard_block  \\\n",
       "0         1.0                1           11.0      73379  ...            None   \n",
       "1         2.0                5           86.0     124316  ...            None   \n",
       "2         5.0                2           44.0      11367  ...            None   \n",
       "3         1.0                3           26.0      27550  ...            None   \n",
       "4         2.0                6           60.0      30051  ...            None   \n",
       "\n",
       "  post_scoring_att  att_pen_target  penalty_save  penalty_conceded  \\\n",
       "0             None            None          None              None   \n",
       "1             None            None          None              None   \n",
       "2             None            None          None              None   \n",
       "3             None            None          None              None   \n",
       "4             None            None          None              None   \n",
       "\n",
       "   clearance_off_line  att_pen_goal  att_pen_miss  own_goals  att_pen_post  \n",
       "0                None          None          None       None          None  \n",
       "1                None          None          None       None          None  \n",
       "2                None          None          None       None          None  \n",
       "3                None          None          None       None          None  \n",
       "4                None          None          None       None          None  \n",
       "\n",
       "[5 rows x 38 columns]"
      ]
     },
     "execution_count": 78,
     "metadata": {},
     "output_type": "execute_result"
    }
   ],
   "source": [
    "#Test - Select all from Assessments\n",
    "\n",
    "test_df = pd.read_sql('SELECT * FROM player_performance LIMIT 5', engine)\n",
    "test_df"
   ]
  },
  {
   "cell_type": "markdown",
   "metadata": {
    "heading_collapsed": true
   },
   "source": [
    "## Data Analysis\n",
    "<a id='analysis'></a>"
   ]
  },
  {
   "cell_type": "markdown",
   "metadata": {
    "heading_collapsed": true,
    "hidden": true
   },
   "source": [
    "### Exploratory Analysis\n",
    "<a id='exploration'></a>\n",
    "\n",
    "Through the use of various visualisations, I will explore the database focusing on PFA Award win by team, the association between goals scored and ball possession and finally I will look into scoring goals at home vs away from home."
   ]
  },
  {
   "cell_type": "markdown",
   "metadata": {
    "hidden": true
   },
   "source": [
    "***Figure 1 - PFA Award Wins by Team***"
   ]
  },
  {
   "cell_type": "code",
   "execution_count": 79,
   "metadata": {
    "ExecuteTime": {
     "end_time": "2020-12-17T12:50:46.209727Z",
     "start_time": "2020-12-17T12:50:43.948396Z"
    },
    "hidden": true
   },
   "outputs": [
    {
     "data": {
      "image/png": "[encoded data removed]",
      "text/plain": [
       "<Figure size 1440x864 with 1 Axes>"
      ]
     },
     "metadata": {
      "needs_background": "light"
     },
     "output_type": "display_data"
    }
   ],
   "source": [
    "team_winners = pd.read_sql('SELECT * FROM pfa_award_winners', engine)\n",
    "team_winners = team_winners.groupby('team_name')['team_name'].count()\n",
    "\n",
    "plt.figure(figsize=(20,12))\n",
    "sns.set_style(\"dark\")\n",
    "ax1 = sns.barplot(x=team_winners.index, y=team_winners.values, color = 'tab:green', palette='summer')\n",
    "\n",
    "ax1.set_ylabel(\"Win Count\", fontsize=20)\n",
    "ax1.set_xlabel(\"Team\", fontsize=20)\n",
    "plt.xticks(rotation=45)\n",
    "ax1.tick_params(labelsize=14)\n",
    "plt.title('PFA Award Wins by Team', fontsize=25)\n",
    "plt.savefig('team_wins.png', dpi = 300);"
   ]
  },
  {
   "cell_type": "markdown",
   "metadata": {
    "hidden": true
   },
   "source": [
    "As we can see in Figure 1, the PFA Players Player of the Year Award has only been awarded to players from 16 teams in it's history. Of this group, Manchester United (11 wins) and Liverpool (8 wins) have been the most dominant, Tottenham and Arsenal share the position of 3rd most wins with 5 apiece."
   ]
  },
  {
   "cell_type": "markdown",
   "metadata": {
    "hidden": true
   },
   "source": [
    "***Figure 2 - Goals vs Possession***"
   ]
  },
  {
   "cell_type": "code",
   "execution_count": 80,
   "metadata": {
    "ExecuteTime": {
     "end_time": "2020-12-17T12:50:49.239619Z",
     "start_time": "2020-12-17T12:50:46.212719Z"
    },
    "hidden": true
   },
   "outputs": [
    {
     "data": {
      "image/png": "[encoded data removed]",
      "text/plain": [
       "<Figure size 1440x864 with 1 Axes>"
      ]
     },
     "metadata": {},
     "output_type": "display_data"
    }
   ],
   "source": [
    "match_details_avg = pd.read_sql('SELECT* FROM match_details', engine)\n",
    "match_details_avg = match_details_avg.groupby('team_name').mean()\n",
    "poss = match_details_avg['possession_percentage']\n",
    "goals = match_details_avg['goals']\n",
    "\n",
    "plt.figure(figsize=(20,12))\n",
    "sns.regplot(x='possession_percentage', y='goals', data=match_details_avg)\n",
    "plt.scatter(poss, goals, c='maroon')\n",
    "\n",
    "for (i, j, k) in zip(match_details_avg.index, match_details_avg['possession_percentage'], match_details_avg['goals']):\n",
    "    plt.annotate(i, xy=(j, k), textcoords=\"offset points\", xytext=(0,10), ha='center')\n",
    "\n",
    "plt.xticks(fontsize=14)\n",
    "plt.yticks(fontsize=14)\n",
    "plt.title('Goals vs Possession', fontsize=25)\n",
    "plt.ylabel('Goals per Game', fontsize=20)\n",
    "plt.xlabel('Possession per Game (%)', fontsize=20)\n",
    "plt.savefig('goals_possession.png', dpi = 300)\n",
    "plt.show();"
   ]
  },
  {
   "cell_type": "markdown",
   "metadata": {
    "hidden": true
   },
   "source": [
    "Figure 2 shows the positive correlation between a teams average possession per game and average goals per game. Generally speaking, as a teams possession increases, the liklihood that team will score rises. \n",
    "\n",
    "Interestingly, Leicester has far lower possession per game than Everton, yet both teams share a similar average goals per game. This is worth looking into in more detail."
   ]
  },
  {
   "cell_type": "markdown",
   "metadata": {
    "hidden": true
   },
   "source": [
    "***Leicester and Everton Comparison***"
   ]
  },
  {
   "cell_type": "code",
   "execution_count": 81,
   "metadata": {
    "ExecuteTime": {
     "end_time": "2020-12-17T12:50:49.254598Z",
     "start_time": "2020-12-17T12:50:49.241614Z"
    },
    "hidden": true
   },
   "outputs": [
    {
     "data": {
      "text/html": [
       "<div>\n",
       "<style scoped>\n",
       "    .dataframe tbody tr th:only-of-type {\n",
       "        vertical-align: middle;\n",
       "    }\n",
       "\n",
       "    .dataframe tbody tr th {\n",
       "        vertical-align: top;\n",
       "    }\n",
       "\n",
       "    .dataframe thead th {\n",
       "        text-align: right;\n",
       "    }\n",
       "</style>\n",
       "<table border=\"1\" class=\"dataframe\">\n",
       "  <thead>\n",
       "    <tr style=\"text-align: right;\">\n",
       "      <th></th>\n",
       "      <th>team_id</th>\n",
       "      <th>possession_percentage</th>\n",
       "      <th>goals</th>\n",
       "      <th>total_pass</th>\n",
       "      <th>accurate_pass</th>\n",
       "    </tr>\n",
       "    <tr>\n",
       "      <th>team_name</th>\n",
       "      <th></th>\n",
       "      <th></th>\n",
       "      <th></th>\n",
       "      <th></th>\n",
       "      <th></th>\n",
       "    </tr>\n",
       "  </thead>\n",
       "  <tbody>\n",
       "    <tr>\n",
       "      <th>Leicester</th>\n",
       "      <td>14.0</td>\n",
       "      <td>43.955921</td>\n",
       "      <td>1.895652</td>\n",
       "      <td>365.730263</td>\n",
       "      <td>262.177632</td>\n",
       "    </tr>\n",
       "  </tbody>\n",
       "</table>\n",
       "</div>"
      ],
      "text/plain": [
       "           team_id  possession_percentage     goals  total_pass  accurate_pass\n",
       "team_name                                                                     \n",
       "Leicester     14.0              43.955921  1.895652  365.730263     262.177632"
      ]
     },
     "execution_count": 81,
     "metadata": {},
     "output_type": "execute_result"
    }
   ],
   "source": [
    "match_details_avg[10:11][['team_id', 'possession_percentage', 'goals','total_pass', 'accurate_pass']]"
   ]
  },
  {
   "cell_type": "code",
   "execution_count": 82,
   "metadata": {
    "ExecuteTime": {
     "end_time": "2020-12-17T12:50:49.910865Z",
     "start_time": "2020-12-17T12:50:49.256574Z"
    },
    "hidden": true
   },
   "outputs": [
    {
     "data": {
      "text/html": [
       "<div>\n",
       "<style scoped>\n",
       "    .dataframe tbody tr th:only-of-type {\n",
       "        vertical-align: middle;\n",
       "    }\n",
       "\n",
       "    .dataframe tbody tr th {\n",
       "        vertical-align: top;\n",
       "    }\n",
       "\n",
       "    .dataframe thead th {\n",
       "        text-align: right;\n",
       "    }\n",
       "</style>\n",
       "<table border=\"1\" class=\"dataframe\">\n",
       "  <thead>\n",
       "    <tr style=\"text-align: right;\">\n",
       "      <th></th>\n",
       "      <th>total_pass</th>\n",
       "      <th>accurate_pass</th>\n",
       "    </tr>\n",
       "  </thead>\n",
       "  <tbody>\n",
       "    <tr>\n",
       "      <th>count</th>\n",
       "      <td>1939.000000</td>\n",
       "      <td>1928.000000</td>\n",
       "    </tr>\n",
       "    <tr>\n",
       "      <th>mean</th>\n",
       "      <td>26.290356</td>\n",
       "      <td>19.681535</td>\n",
       "    </tr>\n",
       "    <tr>\n",
       "      <th>std</th>\n",
       "      <td>16.334663</td>\n",
       "      <td>13.351588</td>\n",
       "    </tr>\n",
       "    <tr>\n",
       "      <th>min</th>\n",
       "      <td>1.000000</td>\n",
       "      <td>1.000000</td>\n",
       "    </tr>\n",
       "    <tr>\n",
       "      <th>25%</th>\n",
       "      <td>14.000000</td>\n",
       "      <td>9.000000</td>\n",
       "    </tr>\n",
       "    <tr>\n",
       "      <th>50%</th>\n",
       "      <td>24.000000</td>\n",
       "      <td>17.000000</td>\n",
       "    </tr>\n",
       "    <tr>\n",
       "      <th>75%</th>\n",
       "      <td>36.000000</td>\n",
       "      <td>27.000000</td>\n",
       "    </tr>\n",
       "    <tr>\n",
       "      <th>max</th>\n",
       "      <td>102.000000</td>\n",
       "      <td>87.000000</td>\n",
       "    </tr>\n",
       "  </tbody>\n",
       "</table>\n",
       "</div>"
      ],
      "text/plain": [
       "        total_pass  accurate_pass\n",
       "count  1939.000000    1928.000000\n",
       "mean     26.290356      19.681535\n",
       "std      16.334663      13.351588\n",
       "min       1.000000       1.000000\n",
       "25%      14.000000       9.000000\n",
       "50%      24.000000      17.000000\n",
       "75%      36.000000      27.000000\n",
       "max     102.000000      87.000000"
      ]
     },
     "execution_count": 82,
     "metadata": {},
     "output_type": "execute_result"
    }
   ],
   "source": [
    "player = pd.read_sql('SELECT * FROM player_performance WHERE player_position_info NOT IN(\"GK\")', engine)\n",
    "player[player['team_id'] == 14][['total_pass', 'accurate_pass']].describe()"
   ]
  },
  {
   "cell_type": "code",
   "execution_count": 83,
   "metadata": {
    "ExecuteTime": {
     "end_time": "2020-12-17T12:50:49.921817Z",
     "start_time": "2020-12-17T12:50:49.912819Z"
    },
    "hidden": true
   },
   "outputs": [
    {
     "data": {
      "text/html": [
       "<div>\n",
       "<style scoped>\n",
       "    .dataframe tbody tr th:only-of-type {\n",
       "        vertical-align: middle;\n",
       "    }\n",
       "\n",
       "    .dataframe tbody tr th {\n",
       "        vertical-align: top;\n",
       "    }\n",
       "\n",
       "    .dataframe thead th {\n",
       "        text-align: right;\n",
       "    }\n",
       "</style>\n",
       "<table border=\"1\" class=\"dataframe\">\n",
       "  <thead>\n",
       "    <tr style=\"text-align: right;\">\n",
       "      <th></th>\n",
       "      <th>team_id</th>\n",
       "      <th>possession_percentage</th>\n",
       "      <th>goals</th>\n",
       "      <th>total_pass</th>\n",
       "      <th>accurate_pass</th>\n",
       "    </tr>\n",
       "    <tr>\n",
       "      <th>team_name</th>\n",
       "      <th></th>\n",
       "      <th></th>\n",
       "      <th></th>\n",
       "      <th></th>\n",
       "      <th></th>\n",
       "    </tr>\n",
       "  </thead>\n",
       "  <tbody>\n",
       "    <tr>\n",
       "      <th>Everton</th>\n",
       "      <td>31.0</td>\n",
       "      <td>50.992105</td>\n",
       "      <td>1.936364</td>\n",
       "      <td>454.506579</td>\n",
       "      <td>361.598684</td>\n",
       "    </tr>\n",
       "  </tbody>\n",
       "</table>\n",
       "</div>"
      ],
      "text/plain": [
       "           team_id  possession_percentage     goals  total_pass  accurate_pass\n",
       "team_name                                                                     \n",
       "Everton       31.0              50.992105  1.936364  454.506579     361.598684"
      ]
     },
     "execution_count": 83,
     "metadata": {},
     "output_type": "execute_result"
    }
   ],
   "source": [
    "match_details_avg[7:8][['team_id', 'possession_percentage', 'goals', 'total_pass', 'accurate_pass']]"
   ]
  },
  {
   "cell_type": "code",
   "execution_count": 84,
   "metadata": {
    "ExecuteTime": {
     "end_time": "2020-12-17T12:50:49.947208Z",
     "start_time": "2020-12-17T12:50:49.922793Z"
    },
    "hidden": true
   },
   "outputs": [
    {
     "data": {
      "text/html": [
       "<div>\n",
       "<style scoped>\n",
       "    .dataframe tbody tr th:only-of-type {\n",
       "        vertical-align: middle;\n",
       "    }\n",
       "\n",
       "    .dataframe tbody tr th {\n",
       "        vertical-align: top;\n",
       "    }\n",
       "\n",
       "    .dataframe thead th {\n",
       "        text-align: right;\n",
       "    }\n",
       "</style>\n",
       "<table border=\"1\" class=\"dataframe\">\n",
       "  <thead>\n",
       "    <tr style=\"text-align: right;\">\n",
       "      <th></th>\n",
       "      <th>total_pass</th>\n",
       "      <th>accurate_pass</th>\n",
       "    </tr>\n",
       "  </thead>\n",
       "  <tbody>\n",
       "    <tr>\n",
       "      <th>count</th>\n",
       "      <td>1923.000000</td>\n",
       "      <td>1916.000000</td>\n",
       "    </tr>\n",
       "    <tr>\n",
       "      <th>mean</th>\n",
       "      <td>33.720749</td>\n",
       "      <td>27.552714</td>\n",
       "    </tr>\n",
       "    <tr>\n",
       "      <th>std</th>\n",
       "      <td>20.347003</td>\n",
       "      <td>18.152813</td>\n",
       "    </tr>\n",
       "    <tr>\n",
       "      <th>min</th>\n",
       "      <td>1.000000</td>\n",
       "      <td>1.000000</td>\n",
       "    </tr>\n",
       "    <tr>\n",
       "      <th>25%</th>\n",
       "      <td>18.000000</td>\n",
       "      <td>13.000000</td>\n",
       "    </tr>\n",
       "    <tr>\n",
       "      <th>50%</th>\n",
       "      <td>32.000000</td>\n",
       "      <td>25.000000</td>\n",
       "    </tr>\n",
       "    <tr>\n",
       "      <th>75%</th>\n",
       "      <td>48.000000</td>\n",
       "      <td>39.000000</td>\n",
       "    </tr>\n",
       "    <tr>\n",
       "      <th>max</th>\n",
       "      <td>115.000000</td>\n",
       "      <td>103.000000</td>\n",
       "    </tr>\n",
       "  </tbody>\n",
       "</table>\n",
       "</div>"
      ],
      "text/plain": [
       "        total_pass  accurate_pass\n",
       "count  1923.000000    1916.000000\n",
       "mean     33.720749      27.552714\n",
       "std      20.347003      18.152813\n",
       "min       1.000000       1.000000\n",
       "25%      18.000000      13.000000\n",
       "50%      32.000000      25.000000\n",
       "75%      48.000000      39.000000\n",
       "max     115.000000     103.000000"
      ]
     },
     "execution_count": 84,
     "metadata": {},
     "output_type": "execute_result"
    }
   ],
   "source": [
    "player[player['team_id'] == 31][['total_pass', 'accurate_pass']].describe()"
   ]
  },
  {
   "cell_type": "markdown",
   "metadata": {
    "hidden": true
   },
   "source": [
    "As highlighted, Leicester and Everton share a very similar average goals per game with 1.90 and 1.94 goals respectively. The teams diverge significantly on their tactics towards possession with Leicester averaging just 43.96% possession per game and Everton averaging 50.99%. This is interesting because there is a strong correlation between possession and goals. As shown in Figure 2, teams which have a high possession tend to score more goals. This point is magnified by all of the so called 'Top 6' teams clustering in the top right hand corner of Figure 2.\n",
    "\n",
    "Leicesters relationship towards possession based football can be partly explained by the quality of passing footballers the team has. When looking at the percentage of accurate passes per game each player completes (player accurate_pass/ total_pass), we find a significant difference with Everton. Leicester players complete an average of 74.86% accurate passes, while Everton players average 81.71%. Perhaps these possession differences still do not read as significantly different, however when looking at the team level they contribute to Everton averaging 99 more accurate passes than Leicester in every game played."
   ]
  },
  {
   "cell_type": "markdown",
   "metadata": {
    "hidden": true
   },
   "source": [
    "***Figure 3 - Histogram: Goals Scored Home vs Away***"
   ]
  },
  {
   "cell_type": "code",
   "execution_count": 85,
   "metadata": {
    "ExecuteTime": {
     "end_time": "2020-12-17T12:50:51.492284Z",
     "start_time": "2020-12-17T12:50:49.949172Z"
    },
    "hidden": true
   },
   "outputs": [
    {
     "data": {
      "image/png": "[encoded data removed]",
      "text/plain": [
       "<Figure size 1440x864 with 1 Axes>"
      ]
     },
     "metadata": {},
     "output_type": "display_data"
    }
   ],
   "source": [
    "match_results = pd.read_sql('SELECT m.*, d.team_name as home_team, d2.team_name as away_team FROM match_results m JOIN match_details d ON m.match_id = d.match_id AND m.home_team_id = d.team_id JOIN match_details d2 ON m.match_id = d2.match_id AND m.away_team_id = d2.team_id', engine)\n",
    "h = match_results.groupby('home_team')['home_team_full_time'].sum()\n",
    "a = match_results.groupby('away_team')['away_team_full_time'].sum()\n",
    "\n",
    "plt.figure(figsize=[20,12])\n",
    "plt.hist([h, a], label=['Home', 'Away'], density=True, bins=12, color = ['midnightblue', 'lightsteelblue'])\n",
    "plt.legend(loc='upper right', fontsize=14)\n",
    "plt.title('Histogram: Goals Scored Home vs Away', fontsize=25)\n",
    "plt.xlabel('Goals Scored', fontsize=20)\n",
    "plt.ylabel('Proportion of Teams', fontsize=20)\n",
    "plt.xticks(fontsize=14)\n",
    "plt.yticks(fontsize=14)\n",
    "plt.savefig('goals_hist.png', dpi = 300);"
   ]
  },
  {
   "cell_type": "markdown",
   "metadata": {
    "hidden": true
   },
   "source": [
    "Figure 3 shows the distribution of goals scored by teams home and away. While both distributions are skewed towards the right, a larger proportion of teams are represented in the left tail for away games. In comparison, home matches have a more even distribution and a longer right tail. \n",
    "\n",
    "There's a significant proportion of teams that have scored 150+ goals at home over the 4 seasons examined, while very few teams meet this feat in away matches. To summarise, teams are more free scoring in home matches than in away matches. Let's next observe the highest scoring teams home and away. "
   ]
  },
  {
   "cell_type": "markdown",
   "metadata": {
    "hidden": true
   },
   "source": [
    "***Figure 4 - Highest Scoring Teams Home and Away***"
   ]
  },
  {
   "cell_type": "code",
   "execution_count": 86,
   "metadata": {
    "ExecuteTime": {
     "end_time": "2020-12-17T12:50:52.992232Z",
     "start_time": "2020-12-17T12:50:51.493252Z"
    },
    "hidden": true
   },
   "outputs": [
    {
     "data": {
      "image/png": "[encoded data removed]",
      "text/plain": [
       "<Figure size 1440x576 with 2 Axes>"
      ]
     },
     "metadata": {},
     "output_type": "display_data"
    }
   ],
   "source": [
    "#(DelftStack, 2019)\n",
    "\n",
    "h = h.sort_values(ascending=False).head(5)\n",
    "a = a.sort_values(ascending=False).head(5)\n",
    "\n",
    "plt.figure(figsize = [20, 8])\n",
    "\n",
    "plt.subplot(1, 2, 1) \n",
    "plt.title('Highest Scoring Home Teams', fontsize=25)\n",
    "h.plot(kind='bar', ylim= [120,190], edgecolor='black', colormap='plasma')\n",
    "plt.ylabel(\"Goals Scored\", fontsize=20)\n",
    "plt.xlabel(\"Team\", fontsize=20)\n",
    "plt.xticks(rotation=45, fontsize=14)\n",
    "plt.yticks(fontsize=14)\n",
    "\n",
    "plt.subplot(1, 2, 2) \n",
    "plt.title('Highest Scoring Away Teams', fontsize=25)\n",
    "a.plot(kind='bar', ylim= [120,190], edgecolor='black', colormap='RdYlGn')\n",
    "plt.ylabel(\"Goals Scored\", fontsize=20)\n",
    "plt.xlabel(\"Team\", fontsize=20)\n",
    "plt.xticks(rotation=45, fontsize=14)\n",
    "plt.yticks(fontsize=14)\n",
    "\n",
    "plt.savefig('home_away_goals.png', dpi = 300);"
   ]
  },
  {
   "cell_type": "markdown",
   "metadata": {
    "hidden": true
   },
   "source": [
    "Manchester City significantly leads the way with the most goals scored home and away between 2014-2018. Although having won the Premier League twice within these years, Chelsea have been outscored by both Tottenham and Manchester City home and away.  \n",
    "\n",
    "Of the so called 'Top 6' teams, only Manchester United does not feature in Figure 4."
   ]
  },
  {
   "cell_type": "markdown",
   "metadata": {
    "hidden": true
   },
   "source": [
    "### K-Means Clustering\n",
    "<a id='k-means'></a>\n",
    "\n",
    "In this section I will identify the optimum number of cluster groups for the data I have selected. I will then run a K-Means Clustering as a way of assessing the similarities of the attributes of PFA Players' Player of the Year award winners."
   ]
  },
  {
   "cell_type": "markdown",
   "metadata": {
    "hidden": true
   },
   "source": [
    "***Querying Data***"
   ]
  },
  {
   "cell_type": "code",
   "execution_count": 87,
   "metadata": {
    "ExecuteTime": {
     "end_time": "2020-12-17T12:50:53.388172Z",
     "start_time": "2020-12-17T12:50:52.994225Z"
    },
    "hidden": true
   },
   "outputs": [
    {
     "data": {
      "text/html": [
       "<div>\n",
       "<style scoped>\n",
       "    .dataframe tbody tr th:only-of-type {\n",
       "        vertical-align: middle;\n",
       "    }\n",
       "\n",
       "    .dataframe tbody tr th {\n",
       "        vertical-align: top;\n",
       "    }\n",
       "\n",
       "    .dataframe thead th {\n",
       "        text-align: right;\n",
       "    }\n",
       "</style>\n",
       "<table border=\"1\" class=\"dataframe\">\n",
       "  <thead>\n",
       "    <tr style=\"text-align: right;\">\n",
       "      <th></th>\n",
       "      <th>player_position_value</th>\n",
       "      <th>touches</th>\n",
       "      <th>total_pass</th>\n",
       "      <th>aerial_won</th>\n",
       "      <th>formation_place</th>\n",
       "      <th>accurate_pass</th>\n",
       "      <th>total_tackle</th>\n",
       "      <th>aerial_lost</th>\n",
       "      <th>fouls</th>\n",
       "      <th>goals</th>\n",
       "      <th>won_contest</th>\n",
       "      <th>blocked_scoring_att</th>\n",
       "      <th>goal_assist</th>\n",
       "    </tr>\n",
       "    <tr>\n",
       "      <th>player_id</th>\n",
       "      <th></th>\n",
       "      <th></th>\n",
       "      <th></th>\n",
       "      <th></th>\n",
       "      <th></th>\n",
       "      <th></th>\n",
       "      <th></th>\n",
       "      <th></th>\n",
       "      <th></th>\n",
       "      <th></th>\n",
       "      <th></th>\n",
       "      <th></th>\n",
       "      <th></th>\n",
       "    </tr>\n",
       "  </thead>\n",
       "  <tbody>\n",
       "    <tr>\n",
       "      <th>17</th>\n",
       "      <td>3.433333</td>\n",
       "      <td>67.000000</td>\n",
       "      <td>52.793103</td>\n",
       "      <td>1.461538</td>\n",
       "      <td>5.466667</td>\n",
       "      <td>44.862069</td>\n",
       "      <td>2.000000</td>\n",
       "      <td>1.411765</td>\n",
       "      <td>1.222222</td>\n",
       "      <td>1.125</td>\n",
       "      <td>1.000000</td>\n",
       "      <td>1.300000</td>\n",
       "      <td>1.0</td>\n",
       "    </tr>\n",
       "    <tr>\n",
       "      <th>48</th>\n",
       "      <td>4.393939</td>\n",
       "      <td>26.781250</td>\n",
       "      <td>21.843750</td>\n",
       "      <td>1.000000</td>\n",
       "      <td>2.545455</td>\n",
       "      <td>18.593750</td>\n",
       "      <td>1.315789</td>\n",
       "      <td>1.200000</td>\n",
       "      <td>1.166667</td>\n",
       "      <td>1.000</td>\n",
       "      <td>1.285714</td>\n",
       "      <td>1.111111</td>\n",
       "      <td>1.0</td>\n",
       "    </tr>\n",
       "    <tr>\n",
       "      <th>188</th>\n",
       "      <td>3.232000</td>\n",
       "      <td>64.088710</td>\n",
       "      <td>51.620968</td>\n",
       "      <td>1.863636</td>\n",
       "      <td>4.448000</td>\n",
       "      <td>42.048387</td>\n",
       "      <td>2.704762</td>\n",
       "      <td>1.791667</td>\n",
       "      <td>1.864583</td>\n",
       "      <td>1.000</td>\n",
       "      <td>1.142857</td>\n",
       "      <td>1.111111</td>\n",
       "      <td>1.0</td>\n",
       "    </tr>\n",
       "    <tr>\n",
       "      <th>487</th>\n",
       "      <td>4.692308</td>\n",
       "      <td>20.333333</td>\n",
       "      <td>14.583333</td>\n",
       "      <td>1.000000</td>\n",
       "      <td>2.230769</td>\n",
       "      <td>12.250000</td>\n",
       "      <td>1.166667</td>\n",
       "      <td>1.000000</td>\n",
       "      <td>1.333333</td>\n",
       "      <td>1.000</td>\n",
       "      <td>1.000000</td>\n",
       "      <td>1.000000</td>\n",
       "      <td>1.0</td>\n",
       "    </tr>\n",
       "    <tr>\n",
       "      <th>845</th>\n",
       "      <td>4.375000</td>\n",
       "      <td>35.333333</td>\n",
       "      <td>29.733333</td>\n",
       "      <td>2.250000</td>\n",
       "      <td>2.500000</td>\n",
       "      <td>25.600000</td>\n",
       "      <td>1.111111</td>\n",
       "      <td>2.000000</td>\n",
       "      <td>1.166667</td>\n",
       "      <td>1.000</td>\n",
       "      <td>2.750000</td>\n",
       "      <td>1.000000</td>\n",
       "      <td>1.0</td>\n",
       "    </tr>\n",
       "  </tbody>\n",
       "</table>\n",
       "</div>"
      ],
      "text/plain": [
       "           player_position_value    touches  total_pass  aerial_won  \\\n",
       "player_id                                                             \n",
       "17                      3.433333  67.000000   52.793103    1.461538   \n",
       "48                      4.393939  26.781250   21.843750    1.000000   \n",
       "188                     3.232000  64.088710   51.620968    1.863636   \n",
       "487                     4.692308  20.333333   14.583333    1.000000   \n",
       "845                     4.375000  35.333333   29.733333    2.250000   \n",
       "\n",
       "           formation_place  accurate_pass  total_tackle  aerial_lost  \\\n",
       "player_id                                                              \n",
       "17                5.466667      44.862069      2.000000     1.411765   \n",
       "48                2.545455      18.593750      1.315789     1.200000   \n",
       "188               4.448000      42.048387      2.704762     1.791667   \n",
       "487               2.230769      12.250000      1.166667     1.000000   \n",
       "845               2.500000      25.600000      1.111111     2.000000   \n",
       "\n",
       "              fouls  goals  won_contest  blocked_scoring_att  goal_assist  \n",
       "player_id                                                                  \n",
       "17         1.222222  1.125     1.000000             1.300000          1.0  \n",
       "48         1.166667  1.000     1.285714             1.111111          1.0  \n",
       "188        1.864583  1.000     1.142857             1.111111          1.0  \n",
       "487        1.333333  1.000     1.000000             1.000000          1.0  \n",
       "845        1.166667  1.000     2.750000             1.000000          1.0  "
      ]
     },
     "execution_count": 87,
     "metadata": {},
     "output_type": "execute_result"
    }
   ],
   "source": [
    "#Selecting key columns of numerical data\n",
    "#Removing Goalkeepers as there is not a PFA Award winning goalkeeper in the dataset. Additionally Goalkeepers have unique\n",
    "    #statistics to outfield players.\n",
    "#Taking the mean across players match performance for all four years of data, additionally dropping nulls in order to use \n",
    "    #K-Means clustering.\n",
    "\n",
    "player_performance = pd.read_sql('SELECT player_id, player_position_value, touches, total_pass, aerial_won, formation_place, accurate_pass, total_tackle, aerial_lost, fouls, goals, won_contest, blocked_scoring_att, goal_assist FROM player_performance WHERE player_position_info NOT IN(\"GK\")', engine)\n",
    "player_performance_avg = player_performance.groupby('player_id').mean().dropna()\n",
    "player_performance_avg.head(5)"
   ]
  },
  {
   "cell_type": "markdown",
   "metadata": {
    "hidden": true
   },
   "source": [
    "***Figure 5 - The Elbow Method: Identifying Optimal No. Clusters***"
   ]
  },
  {
   "cell_type": "code",
   "execution_count": 88,
   "metadata": {
    "ExecuteTime": {
     "end_time": "2020-12-17T12:50:55.890961Z",
     "start_time": "2020-12-17T12:50:53.390169Z"
    },
    "hidden": true
   },
   "outputs": [
    {
     "data": {
      "image/png": "[encoded data removed]",
      "text/plain": [
       "<Figure size 864x576 with 1 Axes>"
      ]
     },
     "metadata": {},
     "output_type": "display_data"
    }
   ],
   "source": [
    "#The Elbow Method is used to determine the optimal number of clusters through assessing the average of the squared distances\n",
    "    #from the respective centroids\n",
    "#When the distortions are plotted, we can identify the optimum number of clusters where the plot resembles an elbow\n",
    "#(Bonaros, 2019)\n",
    "\n",
    "distortions = []\n",
    "K = range(1,10)\n",
    "for k in K:\n",
    "    kmeanModel = KMeans(n_clusters=k)\n",
    "    kmeanModel.fit(player_performance_avg)\n",
    "    distortions.append(kmeanModel.inertia_)\n",
    "    \n",
    "plt.figure(figsize=(12,8))\n",
    "sns.set_style(\"dark\")\n",
    "plt.plot(K, distortions, color='red', marker='o')\n",
    "plt.xticks(fontsize=12)\n",
    "plt.yticks(fontsize=12)\n",
    "plt.xlabel('K Clusters', fontsize=14)\n",
    "plt.ylabel('Distortion', fontsize=14)\n",
    "plt.title('The Elbow Method: Identifying Optimal No. Clusters', fontsize=18)\n",
    "plt.savefig('elbow.png', dpi = 300)\n",
    "plt.show()"
   ]
  },
  {
   "cell_type": "markdown",
   "metadata": {
    "hidden": true
   },
   "source": [
    "As can be seen in Figure 5, the elbow or break of the chart is at K Clusters 3. 3 Clusters is therefore the optimal number of centroid when using K-Means Clustering."
   ]
  },
  {
   "cell_type": "markdown",
   "metadata": {
    "hidden": true
   },
   "source": [
    "***K-Means Clustering***"
   ]
  },
  {
   "cell_type": "code",
   "execution_count": 89,
   "metadata": {
    "ExecuteTime": {
     "end_time": "2020-12-17T12:50:59.540361Z",
     "start_time": "2020-12-17T12:50:55.892929Z"
    },
    "hidden": true
   },
   "outputs": [],
   "source": [
    "#I will plug the ideal number of clusters (3) into a K Means model and append to the dataframe\n",
    "#I have set the random state so that you as the reader will obtain the same result as me when running the code\n",
    "#(StackExchange, 2019)\n",
    "\n",
    "km_res = KMeans(n_clusters=3, random_state=42, n_init=1000, max_iter=1001).fit(player_performance_avg[['touches', 'total_pass', 'total_tackle','fouls', 'goals', 'goal_assist']])\n",
    "player_performance_avg['cluster'] = km_res.labels_"
   ]
  },
  {
   "cell_type": "code",
   "execution_count": 90,
   "metadata": {
    "ExecuteTime": {
     "end_time": "2020-12-17T12:50:59.565276Z",
     "start_time": "2020-12-17T12:50:59.542315Z"
    },
    "hidden": true
   },
   "outputs": [
    {
     "data": {
      "text/html": [
       "<div>\n",
       "<style scoped>\n",
       "    .dataframe tbody tr th:only-of-type {\n",
       "        vertical-align: middle;\n",
       "    }\n",
       "\n",
       "    .dataframe tbody tr th {\n",
       "        vertical-align: top;\n",
       "    }\n",
       "\n",
       "    .dataframe thead th {\n",
       "        text-align: right;\n",
       "    }\n",
       "</style>\n",
       "<table border=\"1\" class=\"dataframe\">\n",
       "  <thead>\n",
       "    <tr style=\"text-align: right;\">\n",
       "      <th></th>\n",
       "      <th>player_position_value</th>\n",
       "      <th>touches</th>\n",
       "      <th>total_pass</th>\n",
       "      <th>aerial_won</th>\n",
       "      <th>formation_place</th>\n",
       "      <th>accurate_pass</th>\n",
       "      <th>total_tackle</th>\n",
       "      <th>aerial_lost</th>\n",
       "      <th>fouls</th>\n",
       "      <th>goals</th>\n",
       "      <th>won_contest</th>\n",
       "      <th>blocked_scoring_att</th>\n",
       "      <th>goal_assist</th>\n",
       "      <th>cluster</th>\n",
       "      <th>player_id</th>\n",
       "      <th>player_name</th>\n",
       "    </tr>\n",
       "  </thead>\n",
       "  <tbody>\n",
       "    <tr>\n",
       "      <th>0</th>\n",
       "      <td>3.621429</td>\n",
       "      <td>68.503597</td>\n",
       "      <td>48.575540</td>\n",
       "      <td>1.148936</td>\n",
       "      <td>9.635714</td>\n",
       "      <td>41.453237</td>\n",
       "      <td>1.280702</td>\n",
       "      <td>1.541667</td>\n",
       "      <td>1.340909</td>\n",
       "      <td>1.179487</td>\n",
       "      <td>4.438462</td>\n",
       "      <td>1.333333</td>\n",
       "      <td>1.000000</td>\n",
       "      <td>1</td>\n",
       "      <td>33404</td>\n",
       "      <td>Eden Hazard</td>\n",
       "    </tr>\n",
       "    <tr>\n",
       "      <th>1</th>\n",
       "      <td>3.242857</td>\n",
       "      <td>53.028777</td>\n",
       "      <td>29.669065</td>\n",
       "      <td>1.386667</td>\n",
       "      <td>6.635714</td>\n",
       "      <td>22.683453</td>\n",
       "      <td>1.877778</td>\n",
       "      <td>2.138889</td>\n",
       "      <td>1.323944</td>\n",
       "      <td>1.181818</td>\n",
       "      <td>2.951613</td>\n",
       "      <td>1.534483</td>\n",
       "      <td>1.080000</td>\n",
       "      <td>2</td>\n",
       "      <td>104749</td>\n",
       "      <td>Riyad Mahrez</td>\n",
       "    </tr>\n",
       "    <tr>\n",
       "      <th>3</th>\n",
       "      <td>4.075000</td>\n",
       "      <td>43.051282</td>\n",
       "      <td>24.846154</td>\n",
       "      <td>1.181818</td>\n",
       "      <td>8.250000</td>\n",
       "      <td>19.076923</td>\n",
       "      <td>1.333333</td>\n",
       "      <td>1.400000</td>\n",
       "      <td>1.062500</td>\n",
       "      <td>1.333333</td>\n",
       "      <td>2.666667</td>\n",
       "      <td>1.736842</td>\n",
       "      <td>1.111111</td>\n",
       "      <td>2</td>\n",
       "      <td>108226</td>\n",
       "      <td>Mohamed Salah</td>\n",
       "    </tr>\n",
       "    <tr>\n",
       "      <th>2</th>\n",
       "      <td>3.093458</td>\n",
       "      <td>71.009434</td>\n",
       "      <td>53.971698</td>\n",
       "      <td>1.423077</td>\n",
       "      <td>7.130841</td>\n",
       "      <td>47.047170</td>\n",
       "      <td>4.191919</td>\n",
       "      <td>1.780822</td>\n",
       "      <td>1.779221</td>\n",
       "      <td>1.000000</td>\n",
       "      <td>1.688312</td>\n",
       "      <td>1.227273</td>\n",
       "      <td>1.000000</td>\n",
       "      <td>1</td>\n",
       "      <td>114075</td>\n",
       "      <td>N'Golo Kanté</td>\n",
       "    </tr>\n",
       "  </tbody>\n",
       "</table>\n",
       "</div>"
      ],
      "text/plain": [
       "   player_position_value    touches  total_pass  aerial_won  formation_place  \\\n",
       "0               3.621429  68.503597   48.575540    1.148936         9.635714   \n",
       "1               3.242857  53.028777   29.669065    1.386667         6.635714   \n",
       "3               4.075000  43.051282   24.846154    1.181818         8.250000   \n",
       "2               3.093458  71.009434   53.971698    1.423077         7.130841   \n",
       "\n",
       "   accurate_pass  total_tackle  aerial_lost     fouls     goals  won_contest  \\\n",
       "0      41.453237      1.280702     1.541667  1.340909  1.179487     4.438462   \n",
       "1      22.683453      1.877778     2.138889  1.323944  1.181818     2.951613   \n",
       "3      19.076923      1.333333     1.400000  1.062500  1.333333     2.666667   \n",
       "2      47.047170      4.191919     1.780822  1.779221  1.000000     1.688312   \n",
       "\n",
       "   blocked_scoring_att  goal_assist  cluster  player_id    player_name  \n",
       "0             1.333333     1.000000        1      33404    Eden Hazard  \n",
       "1             1.534483     1.080000        2     104749   Riyad Mahrez  \n",
       "3             1.736842     1.111111        2     108226  Mohamed Salah  \n",
       "2             1.227273     1.000000        1     114075   N'Golo Kanté  "
      ]
     },
     "execution_count": 90,
     "metadata": {},
     "output_type": "execute_result"
    }
   ],
   "source": [
    "#Let's view the cluster groups for the pfa award winners\n",
    "#I will select the player id and player name from the award winners subset in SQL in order to join \n",
    "\n",
    "pfa_award_winners_subset = pd.read_sql('SELECT player_id, player_name FROM pfa_award_winners_subset', engine)\n",
    "pfa_award_winners_subset = pd.merge(player_performance_avg, pfa_award_winners_subset, left_index=True, right_on='player_id')\n",
    "pfa_award_winners_subset"
   ]
  },
  {
   "cell_type": "markdown",
   "metadata": {
    "hidden": true
   },
   "source": [
    "***Figure 6 - Cluster Count***"
   ]
  },
  {
   "cell_type": "code",
   "execution_count": 91,
   "metadata": {
    "ExecuteTime": {
     "end_time": "2020-12-17T12:51:00.605306Z",
     "start_time": "2020-12-17T12:50:59.568269Z"
    },
    "hidden": true
   },
   "outputs": [
    {
     "data": {
      "image/png": "[encoded data removed]",
      "text/plain": [
       "<Figure size 864x864 with 1 Axes>"
      ]
     },
     "metadata": {},
     "output_type": "display_data"
    }
   ],
   "source": [
    "labels = ['Cluster 0', 'Cluster 1', 'Cluster 2']\n",
    "sizes = player_performance_avg['cluster'].value_counts(sort=False, normalize=True)\n",
    "explode = (0.1, 0, 0)  \n",
    "color=['steelblue','forestgreen','k']\n",
    "\n",
    "plt.figure(figsize=(12,12))\n",
    "plt.pie(sizes, labels=labels, textprops={'fontsize': 14, 'color':\"w\"}, colors=color, explode=explode,\n",
    "       counterclock = False, wedgeprops = {'width' : 0.4}, autopct='%1.1f%%', pctdistance =0.8)\n",
    "plt.title('Cluster Count', fontsize=18)\n",
    "plt.savefig('cluster.png', dpi = 300)\n",
    "plt.legend(loc='upper left', fontsize=14)\n",
    "plt.show();"
   ]
  },
  {
   "cell_type": "markdown",
   "metadata": {
    "hidden": true
   },
   "source": [
    "The results of the K-Means clustering finds that the PFA Award winners all fall into a mix of cluster groups 1 and 2. I have shown visually the clustering distribution in the form of a pie chart to highlight that although cluster 0 does not include a PFA Award winner, the group does hold 35.9% of the results.\n",
    "\n",
    "We can conclude that based upon the input variables selected for the model, I have not been able to find one common clustering group for the award winners as they are evenly split among groups 2 and 3. This may show that there are similarities among the PFA Award Winners, however it is not conclusive. Ideally a study with a larger dataset should be used to complete a meaningful analysis on this topic. "
   ]
  },
  {
   "cell_type": "markdown",
   "metadata": {
    "heading_collapsed": true
   },
   "source": [
    "## Conclusion\n",
    "<a id='conclusion'></a>"
   ]
  },
  {
   "cell_type": "markdown",
   "metadata": {
    "hidden": true
   },
   "source": [
    "In this report, I first set out to build a relational database which can be used to evaluate both players and teams. To do this I gathered, assessed and cleaned a large JSON dataset and a Wikipedia scraped dataset to create the relational database which includes 4 years of Premier League data at both the player and team level. This completed the Data Wrangling section of the report.\n",
    "\n",
    "Through assessing the most prolific PFA Player of the Year winners by team, I was able to identify the dominance of players from  Manchester United (11 wins) and Liverpool (8 wins) by querying the database and building a bar chart. This should come with little surprise as these two teams have won the most top flight league titles in English footballing history.\n",
    "\n",
    "In the Exploratory Analysis, I was able to show a strong relationship between possession based football and goals scored with a scatter plot and linear regression. As a teams match possession increases, so does the likelihood that the team will score. Of course, this is not a rule which holds true with all clubs. When comparing Leicester and Everton with descriptive statistics, both teams were shown to score a very similar amount of goals per game, yet Everton averages a significantly higher amount of possession. This in part can be explained by the quality of passing footballer each team has. When looking into the percentage of accurate passes by player, Everton's footballers were significantly higher than Leicester. In fact, the difference contributed to Everton averaging 99 more accurate passes than Leicester in every game. This is a compelling reason for differing possession tactics. \n",
    "\n",
    "When looking into a histogram of goals scored home and away, I was able to show the relative difficulty of scoring goals away from home with a greater proportion of teams in the left tail for away games. However, Manchester City (City) did not face any such difficulty with scoring goals. By charting goals scored home and away for the top 5 teams, I was able to show that City are the only team that has scored 150+ goals both home and away over the 4 years of data analysed. Perhaps more interestingly, although having won the premier league twice within the 4 years assessed, Chelsea were outscored home and away by both Manchester City and Tottenham Hotspur. \n",
    "\n",
    "Within the second part of the Data Analysis, I utilised the Elbow Method to identify the optimal number of clusters for the columns of data selected (3). When modelling using K-Means clustering I found that the 4 PFA Award winners were split among clusters 1 and 2. While this may show that there are tangible similarities between the players, an analysis with a larger dataset would be required to confidently conclude that there are shared attributes among PFA award winners. Finally, through using a pie chart I was able to show visually that despite not having a PFA Award winner in cluster 0, there is a significant proportion of results with 35.9% of all players in the grouping."
   ]
  },
  {
   "cell_type": "markdown",
   "metadata": {
    "heading_collapsed": true
   },
   "source": [
    "## Further Study"
   ]
  },
  {
   "cell_type": "markdown",
   "metadata": {
    "hidden": true
   },
   "source": [
    "A clear area for further analysis is the grouping of players using K-Means clustering. My analysis was complete by looking at 4 seasons of in game player statistics. For all players, I took the average of key variables and used these as inputs for the clustering model. The objective was to understand whether there is commonality in the clustering of award winners. \n",
    "\n",
    "Although a heavy amount of data was processed, the analysis is concerned with whether the award winners fall into the same clusters and there are just 4 winners in the database to evaluate. A further and more complete study would involve the collection of a greater amount of data which spans several seasons more than what I was able to collect. The PFA Players' Player of the Year award was first introduced in 1974, there is hence a total of 46 seasons that can be used in a K-Means Clustering model. With a wider observation count, the model can be more conclusively used to understand whether award winners share common attributes."
   ]
  },
  {
   "cell_type": "markdown",
   "metadata": {
    "heading_collapsed": true
   },
   "source": [
    "## Limitations\n",
    "<a id='limit'></a>"
   ]
  },
  {
   "cell_type": "markdown",
   "metadata": {
    "hidden": true
   },
   "source": [
    "**1. pfa_award_winners table:** The pfa_award_winners table does not have a primary/ foreign key and cannot be joined with other tables within the relational database. This is a consequence of limited data and is hence why the pfa_award_winners_subset was created.\n",
    "\n",
    "\n",
    "**2. Limited data:** A major limitation of the Data Analysis section is the limited amount of data gathered. Unfortunately, I was only able to source 4 years worth of observations at the player level.\n",
    "\n",
    "\n",
    "**3. K-Means clustering variable selection:** The selection of variables used in the K-Means modelling was largely based upon domain knowledge of football rather than a more scientific and resilient approach to input selection."
   ]
  },
  {
   "cell_type": "markdown",
   "metadata": {
    "heading_collapsed": true
   },
   "source": [
    "## References\n",
    "<a id='ref'></a>"
   ]
  },
  {
   "cell_type": "markdown",
   "metadata": {
    "hidden": true
   },
   "source": [
    "Bonaros, B., 2019. K-Means Elbow Method Code For Python. [Online] \n",
    "Available at: https://predictivehacks.com/k-means-elbow-method-code-for-python/\n",
    "[Accessed 2020 December 2020].\n",
    "\n",
    "DelftStack, 2019. Rotate X-Axis Tick Label Text in Matplotlib. [Online] \n",
    "Available at: https://www.delftstack.com/howto/matplotlib/how-to-rotate-x-axis-tick-label-text-in-matplotlib/\n",
    "[Accessed 14 December 2020].\n",
    "\n",
    "Moffitt, C., 2018. Overview of Pandas Data Types. [Online] \n",
    "Available at: https://pbpython.com/pandas_dtypes.html\n",
    "[Accessed 14 December 2020].\n",
    "\n",
    "Pawar, S., 2018. English Premier League in-game match data. [Online] \n",
    "Available at: https://www.kaggle.com/shubhmamp/english-premier-league-match-data\n",
    "[Accessed 14 December 2020].\n",
    "\n",
    "StackExchange, 2019. Perform k-means clustering over multiple columns. [Online] \n",
    "Available at: https://datascience.stackexchange.com/questions/48693/perform-k-means-clustering-over-multiple-columns\n",
    "[Accessed 14 December 2020].\n",
    "\n",
    "stackoverflow, 2018. Replicating rows in Pandas [duplicate]. [Online] \n",
    "Available at: https://stackoverflow.com/questions/50788508/replicating-rows-in-pandas\n",
    "[Accessed 14 December 2020].\n",
    "\n",
    "Wikipedia, 2020. PFA Players' Player of the Year. [Online] \n",
    "Available at: https://en.wikipedia.org/wiki/PFA_Players%27_Player_of_the_Year\n",
    "[Accessed 14 December 2020]."
   ]
  }
 ],
 "metadata": {
  "kernelspec": {
   "display_name": "Python 3",
   "language": "python",
   "name": "python3"
  },
  "language_info": {
   "codemirror_mode": {
    "name": "ipython",
    "version": 3
   },
   "file_extension": ".py",
   "mimetype": "text/x-python",
   "name": "python",
   "nbconvert_exporter": "python",
   "pygments_lexer": "ipython3",
   "version": "3.8.5"
  },
  "toc": {
   "base_numbering": 1,
   "nav_menu": {},
   "number_sections": true,
   "sideBar": true,
   "skip_h1_title": false,
   "title_cell": "Table of Contents",
   "title_sidebar": "Contents",
   "toc_cell": false,
   "toc_position": {},
   "toc_section_display": true,
   "toc_window_display": false
  }
 },
 "nbformat": 4,
 "nbformat_minor": 4
}
